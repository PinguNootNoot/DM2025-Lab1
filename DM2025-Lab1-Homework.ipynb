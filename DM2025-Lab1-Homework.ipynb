{
 "cells": [
  {
   "cell_type": "markdown",
   "metadata": {},
   "source": [
    "### Student Information\n",
    "Name:\n",
    "\n",
    "Student ID:\n",
    "\n",
    "GitHub ID:"
   ]
  },
  {
   "cell_type": "markdown",
   "metadata": {},
   "source": [
    "---"
   ]
  },
  {
   "cell_type": "markdown",
   "metadata": {},
   "source": [
    "### Instructions"
   ]
  },
  {
   "cell_type": "markdown",
   "metadata": {},
   "source": [
    "### First Phase Submission"
   ]
  },
  {
   "cell_type": "markdown",
   "metadata": {},
   "source": [
    "1. First: do the **take home** exercises in the [DM2025-Lab1-Master](https://github.com/leoson-wu/DM2025-Lab1-Exercise/blob/main/DM2025-Lab1-Master.ipynb) that considered as **phase 1 (from exercise 1 to exercise 15)**. You can answer in the master file. __This part is worth 10% of your grade.__\n",
    "\n",
    "\n",
    "2. Second: follow the same process from the [DM2025-Lab1-Master](https://github.com/leoson-wu/DM2025-Lab1-Exercise/blob/main/DM2025-Lab1-Master.ipynb) on **the new dataset** up **until phase 1**. You can skip some exercises if you think some steps are not necessary. However main exercises should be completed. You don't need to explain all details as we did (some **minimal comments** explaining your code are useful though).  __This part is worth 15% of your grade.__\n",
    "    -  Use [the new dataset](https://github.com/leoson-wu/DM2025-Lab1-Exercise/blob/main/newdataset/Reddit-stock-sentiment.csv). The dataset contains a 16 columns including 'text' and 'label', with the sentiment labels being: 1.0 is positive, 0.0 is neutral and -1.0 is negative. You can simplify the dataset and use only the columns that you think are necessary. \n",
    "    \n",
    "    - You are allowed to use and modify the `helper` functions in the folder of the first lab session (notice they may need modification) or create your own.\n",
    "    - Use this file to complete the homework from the second part. Make sure the code can be run from the beginning till the end and has all the needed output.\n",
    "\n",
    "\n",
    "3. Third: please attempt the following tasks on **the new dataset**. __This part is worth 10% of your grade.__\n",
    "    - Generate meaningful **new data visualizations**. Refer to online resources and the Data Mining textbook for inspiration and ideas. \n",
    "    \n",
    "\n",
    "\n",
    "4. Fourth: It's hard for us to follow if your code is messy, so please **tidy up your notebook** and **add minimal comments where needed**. __This part is worth 5% of your grade.__\n",
    "\n",
    "You can submit your homework following these guidelines: [DM2025-Lab1-announcement](https://github.com/leoson-wu/DM2025-Lab1-Announcement/blob/main/README.md). Make sure to commit and save your changes to your repository __BEFORE the deadline (September 28th 11:59 pm, Sunday)__. "
   ]
  },
  {
   "cell_type": "markdown",
   "metadata": {},
   "source": [
    "### Second Phase Submission "
   ]
  },
  {
   "cell_type": "markdown",
   "metadata": {},
   "source": [
    "**You can keep the answer for phase 1 for easier running and update the phase 2 on the same page.**\n",
    "\n",
    "1. First: Continue doing the **take home** exercises in the [DM2025-Lab1-Master](https://github.com/leoson-wu/DM2025-Lab1-Exercise/blob/main/DM2025-Lab1-Master.ipynb) for **phase 2, starting from Finding frequent patterns**. Use the same master(.ipynb) file. Answer from phase 1 will not be considered at this stage. You can answer in the master file. __This part is worth 10% of your grade.__\n",
    "\n",
    "\n",
    "2. Second: Continue from first phase and do the same process from the [DM2025-Lab1-Master](https://github.com/leoson-wu/DM2025-Lab1-Exercise/blob/main/DM2025-Lab1-Master.ipynb) on **the new dataset** for phase 2, starting from Finding frequent pattern. You can skip some exercises if you think some steps are not necessary. However main exercises should be completed. You don't need to explain all details as we did (some **minimal comments** explaining your code are useful though).  __This part is worth 15% of your grade.__\n",
    "    - Continue using this file to complete the homework from the second part. Make sure the code can be run from the beginning till the end and has all the needed output. Use the same new dataset as in phase 1.\n",
    "    \n",
    "    - You are allowed to use and modify the `helper` functions in the folder of the first lab session (notice they may need modification) or create your own.\n",
    "\n",
    "3. Third: please attempt the following tasks on **the new dataset**. __This part is worth 20% of your grade.__\n",
    "    - Use this file to answer.\n",
    "    - Generate **TF-IDF features** from the tokens of each text. This will generating a document matrix, however, the weights will be computed differently (using the TF-IDF value of each word per document as opposed to the word frequency).  Refer to this Scikit-learn [guide](http://scikit-learn.org/stable/modules/generated/sklearn.feature_extraction.text.TfidfVectorizer.html) .\n",
    "    - Implement a simple **Naive Bayes classifier** that automatically classifies the records into their categories. Use both the TF-IDF features and word frequency features to build two seperate classifiers. Note that for the TF-IDF features you might need to use other type of NB classifier different than the one in the Master Notebook. Comment on the differences and when using augmentation with feature pattern.  Refer to this [article](https://hub.packtpub.com/implementing-3-naive-bayes-classifiers-in-scikit-learn/).\n",
    "\n",
    "\n",
    "4. Fourth: In the lab, we applied each step really quickly just to illustrate how to work with your dataset. There are somethings that are not ideal or the most efficient/meaningful. Each dataset can be handled differently as well. What are those inefficent parts you noticed? How can you improve the Data preprocessing for these specific datasets? __This part is worth 10% of your grade.__\n",
    "\n",
    "\n",
    "5. Fifth: It's hard for us to follow if your code is messy, so please **tidy up your notebook** and **add minimal comments where needed**. __This part is worth 5% of your grade.__\n",
    "\n",
    "\n",
    "You can submit your homework following these guidelines: [DM2025-Lab1-announcement](https://github.com/leoson-wu/DM2025-Lab1-Announcement/blob/main/README.md). Make sure to commit and save your changes to your repository __BEFORE the deadline (October 19th 11:59 pm, Sunday)__. "
   ]
  },
  {
   "cell_type": "markdown",
   "metadata": {},
   "source": [
    "# Phase 1"
   ]
  },
  {
   "cell_type": "code",
   "execution_count": 249,
   "metadata": {},
   "outputs": [],
   "source": [
    "import pandas as pd\n",
    "import nltk\n",
    "import numpy as np\n",
    "import math\n",
    "import helpers.data_mining_helpers as dhp"
   ]
  },
  {
   "cell_type": "code",
   "execution_count": 250,
   "metadata": {},
   "outputs": [
    {
     "data": {
      "text/html": [
       "<div>\n",
       "<style scoped>\n",
       "    .dataframe tbody tr th:only-of-type {\n",
       "        vertical-align: middle;\n",
       "    }\n",
       "\n",
       "    .dataframe tbody tr th {\n",
       "        vertical-align: top;\n",
       "    }\n",
       "\n",
       "    .dataframe thead th {\n",
       "        text-align: right;\n",
       "    }\n",
       "</style>\n",
       "<table border=\"1\" class=\"dataframe\">\n",
       "  <thead>\n",
       "    <tr style=\"text-align: right;\">\n",
       "      <th></th>\n",
       "      <th>type</th>\n",
       "      <th>datetime</th>\n",
       "      <th>post_id</th>\n",
       "      <th>subreddit</th>\n",
       "      <th>title</th>\n",
       "      <th>author</th>\n",
       "      <th>url</th>\n",
       "      <th>upvotes</th>\n",
       "      <th>downvotes</th>\n",
       "      <th>upvote_ratio</th>\n",
       "      <th>text</th>\n",
       "      <th>subjectivity</th>\n",
       "      <th>polarity</th>\n",
       "      <th>sentiment</th>\n",
       "      <th>entities</th>\n",
       "      <th>label</th>\n",
       "    </tr>\n",
       "  </thead>\n",
       "  <tbody>\n",
       "    <tr>\n",
       "      <th>0</th>\n",
       "      <td>comment</td>\n",
       "      <td>2025-04-11 17:29:56</td>\n",
       "      <td>mmli62w</td>\n",
       "      <td>wallstreetbets</td>\n",
       "      <td>Retardation is on the menu boys! WSB is so back</td>\n",
       "      <td>StickyTip420</td>\n",
       "      <td>https://i.redd.it/0yq2ftren8ue1.jpeg</td>\n",
       "      <td>0</td>\n",
       "      <td>NaN</td>\n",
       "      <td>NaN</td>\n",
       "      <td>Calls on retards</td>\n",
       "      <td>1.000000</td>\n",
       "      <td>-0.900000</td>\n",
       "      <td>-1.0</td>\n",
       "      <td>[]</td>\n",
       "      <td>-1.0</td>\n",
       "    </tr>\n",
       "    <tr>\n",
       "      <th>1</th>\n",
       "      <td>comment</td>\n",
       "      <td>2025-04-12 1:12:19</td>\n",
       "      <td>mmnu7v9</td>\n",
       "      <td>wallstreetbets</td>\n",
       "      <td>Retail giant TARGET has now declined for 10 co...</td>\n",
       "      <td>Comfortable-Dog-8437</td>\n",
       "      <td>https://i.redd.it/7tl6puv9waue1.jpeg</td>\n",
       "      <td>-15</td>\n",
       "      <td>NaN</td>\n",
       "      <td>NaN</td>\n",
       "      <td>Stunt as in like why did they even make a big ...</td>\n",
       "      <td>0.177778</td>\n",
       "      <td>0.083333</td>\n",
       "      <td>1.0</td>\n",
       "      <td>['Stunt', 'company', 'deal', 'place']</td>\n",
       "      <td>0.0</td>\n",
       "    </tr>\n",
       "    <tr>\n",
       "      <th>2</th>\n",
       "      <td>comment</td>\n",
       "      <td>2025-04-10 15:09:41</td>\n",
       "      <td>mmeevio</td>\n",
       "      <td>StockMarket</td>\n",
       "      <td>How do you feel about a sitting president maki...</td>\n",
       "      <td>Btankersly66</td>\n",
       "      <td>https://apnews.com/article/trump-truth-social-...</td>\n",
       "      <td>1</td>\n",
       "      <td>NaN</td>\n",
       "      <td>NaN</td>\n",
       "      <td>Seeing lots of red in the ticker.</td>\n",
       "      <td>0.000000</td>\n",
       "      <td>0.000000</td>\n",
       "      <td>0.0</td>\n",
       "      <td>['ticker']</td>\n",
       "      <td>0.0</td>\n",
       "    </tr>\n",
       "    <tr>\n",
       "      <th>3</th>\n",
       "      <td>post</td>\n",
       "      <td>2023-08-30 17:12:55</td>\n",
       "      <td>165kllm</td>\n",
       "      <td>stockstobuytoday</td>\n",
       "      <td>Who knows more? $VMAR</td>\n",
       "      <td>emiljenfn</td>\n",
       "      <td>https://www.reddit.com/r/stockstobuytoday/comm...</td>\n",
       "      <td>30</td>\n",
       "      <td>0.0</td>\n",
       "      <td>0.98</td>\n",
       "      <td>Vision Marine Technologies Inc. is rewriting t...</td>\n",
       "      <td>0.646970</td>\n",
       "      <td>0.216383</td>\n",
       "      <td>1.0</td>\n",
       "      <td>['watercraft', 'skill', 'power', ']', 'feat', ...</td>\n",
       "      <td>1.0</td>\n",
       "    </tr>\n",
       "    <tr>\n",
       "      <th>4</th>\n",
       "      <td>comment</td>\n",
       "      <td>2025-04-11 14:48:05</td>\n",
       "      <td>mmkl6bw</td>\n",
       "      <td>StockMarket</td>\n",
       "      <td>The Trump administration is begging Xi Jinping...</td>\n",
       "      <td>Just-Big6411</td>\n",
       "      <td>https://edition.cnn.com/2025/04/10/politics/tr...</td>\n",
       "      <td>1</td>\n",
       "      <td>NaN</td>\n",
       "      <td>NaN</td>\n",
       "      <td>He didn’t say thank you.</td>\n",
       "      <td>0.000000</td>\n",
       "      <td>0.000000</td>\n",
       "      <td>0.0</td>\n",
       "      <td>[]</td>\n",
       "      <td>-1.0</td>\n",
       "    </tr>\n",
       "    <tr>\n",
       "      <th>...</th>\n",
       "      <td>...</td>\n",
       "      <td>...</td>\n",
       "      <td>...</td>\n",
       "      <td>...</td>\n",
       "      <td>...</td>\n",
       "      <td>...</td>\n",
       "      <td>...</td>\n",
       "      <td>...</td>\n",
       "      <td>...</td>\n",
       "      <td>...</td>\n",
       "      <td>...</td>\n",
       "      <td>...</td>\n",
       "      <td>...</td>\n",
       "      <td>...</td>\n",
       "      <td>...</td>\n",
       "      <td>...</td>\n",
       "    </tr>\n",
       "    <tr>\n",
       "      <th>842</th>\n",
       "      <td>comment</td>\n",
       "      <td>2021-06-30 4:06:06</td>\n",
       "      <td>h3iv6pq</td>\n",
       "      <td>stockstobuytoday</td>\n",
       "      <td>$MRIN Marin Software killed it today. Hope som...</td>\n",
       "      <td>Ordinary-Office9180</td>\n",
       "      <td>https://www.reddit.com/r/stockstobuytoday/comm...</td>\n",
       "      <td>1</td>\n",
       "      <td>NaN</td>\n",
       "      <td>NaN</td>\n",
       "      <td>Invest now it is going to shoot up tomorrow</td>\n",
       "      <td>0.000000</td>\n",
       "      <td>0.000000</td>\n",
       "      <td>0.0</td>\n",
       "      <td>['tomorrow']</td>\n",
       "      <td>1.0</td>\n",
       "    </tr>\n",
       "    <tr>\n",
       "      <th>843</th>\n",
       "      <td>comment</td>\n",
       "      <td>2025-04-11 5:01:24</td>\n",
       "      <td>mmijiuz</td>\n",
       "      <td>StockMarket</td>\n",
       "      <td>$ U.S. dollar value (crashing)</td>\n",
       "      <td>lulububudu</td>\n",
       "      <td>https://i.redd.it/atvlo83gk4ue1.jpeg</td>\n",
       "      <td>2</td>\n",
       "      <td>NaN</td>\n",
       "      <td>NaN</td>\n",
       "      <td>Where can I read this?</td>\n",
       "      <td>0.000000</td>\n",
       "      <td>0.000000</td>\n",
       "      <td>0.0</td>\n",
       "      <td>[]</td>\n",
       "      <td>0.0</td>\n",
       "    </tr>\n",
       "    <tr>\n",
       "      <th>844</th>\n",
       "      <td>post</td>\n",
       "      <td>2025-03-24 12:30:39</td>\n",
       "      <td>1jipi4v</td>\n",
       "      <td>stockstobuytoday</td>\n",
       "      <td>Analyst Recommendations</td>\n",
       "      <td>saasfin</td>\n",
       "      <td>https://www.reddit.com/r/stockstobuytoday/comm...</td>\n",
       "      <td>1</td>\n",
       "      <td>0.0</td>\n",
       "      <td>1.00</td>\n",
       "      <td>Upgrades, Downgrades\\n\\n [Stock Analyst Recomm...</td>\n",
       "      <td>0.000000</td>\n",
       "      <td>0.000000</td>\n",
       "      <td>0.0</td>\n",
       "      <td>['Analyst', 'Nasdaq', 'Stock', 'Upgrades', 'Do...</td>\n",
       "      <td>0.0</td>\n",
       "    </tr>\n",
       "    <tr>\n",
       "      <th>845</th>\n",
       "      <td>comment</td>\n",
       "      <td>2025-04-11 20:13:26</td>\n",
       "      <td>mmmely7</td>\n",
       "      <td>wallstreetbets</td>\n",
       "      <td>Weekend Discussion Thread for the Weekend of A...</td>\n",
       "      <td>yes_ur_wrong</td>\n",
       "      <td>https://www.reddit.com/r/wallstreetbets/commen...</td>\n",
       "      <td>10</td>\n",
       "      <td>NaN</td>\n",
       "      <td>NaN</td>\n",
       "      <td>i sold my puts so i expect cheeto to declare w...</td>\n",
       "      <td>0.000000</td>\n",
       "      <td>0.000000</td>\n",
       "      <td>0.0</td>\n",
       "      <td>['war', 'denmark', 'cheeto', 'i']</td>\n",
       "      <td>-1.0</td>\n",
       "    </tr>\n",
       "    <tr>\n",
       "      <th>846</th>\n",
       "      <td>comment</td>\n",
       "      <td>2025-04-12 3:09:06</td>\n",
       "      <td>mmobyz1</td>\n",
       "      <td>wallstreetbets</td>\n",
       "      <td>Someone post the hotline please.</td>\n",
       "      <td>I_am_Nerman</td>\n",
       "      <td>https://i.redd.it/tcfuu97p7bue1.jpeg</td>\n",
       "      <td>1</td>\n",
       "      <td>NaN</td>\n",
       "      <td>NaN</td>\n",
       "      <td>![img](emote|t5_2th52|31224)</td>\n",
       "      <td>0.000000</td>\n",
       "      <td>0.000000</td>\n",
       "      <td>0.0</td>\n",
       "      <td>['img', ']', '[', 'emote|t5_2th52|31224']</td>\n",
       "      <td>0.0</td>\n",
       "    </tr>\n",
       "  </tbody>\n",
       "</table>\n",
       "<p>847 rows × 16 columns</p>\n",
       "</div>"
      ],
      "text/plain": [
       "        type             datetime  post_id         subreddit  \\\n",
       "0    comment  2025-04-11 17:29:56  mmli62w    wallstreetbets   \n",
       "1    comment   2025-04-12 1:12:19  mmnu7v9    wallstreetbets   \n",
       "2    comment  2025-04-10 15:09:41  mmeevio       StockMarket   \n",
       "3       post  2023-08-30 17:12:55  165kllm  stockstobuytoday   \n",
       "4    comment  2025-04-11 14:48:05  mmkl6bw       StockMarket   \n",
       "..       ...                  ...      ...               ...   \n",
       "842  comment   2021-06-30 4:06:06  h3iv6pq  stockstobuytoday   \n",
       "843  comment   2025-04-11 5:01:24  mmijiuz       StockMarket   \n",
       "844     post  2025-03-24 12:30:39  1jipi4v  stockstobuytoday   \n",
       "845  comment  2025-04-11 20:13:26  mmmely7    wallstreetbets   \n",
       "846  comment   2025-04-12 3:09:06  mmobyz1    wallstreetbets   \n",
       "\n",
       "                                                 title                author  \\\n",
       "0      Retardation is on the menu boys! WSB is so back          StickyTip420   \n",
       "1    Retail giant TARGET has now declined for 10 co...  Comfortable-Dog-8437   \n",
       "2    How do you feel about a sitting president maki...          Btankersly66   \n",
       "3                                Who knows more? $VMAR             emiljenfn   \n",
       "4    The Trump administration is begging Xi Jinping...          Just-Big6411   \n",
       "..                                                 ...                   ...   \n",
       "842  $MRIN Marin Software killed it today. Hope som...   Ordinary-Office9180   \n",
       "843                     $ U.S. dollar value (crashing)            lulububudu   \n",
       "844                            Analyst Recommendations               saasfin   \n",
       "845  Weekend Discussion Thread for the Weekend of A...          yes_ur_wrong   \n",
       "846                   Someone post the hotline please.           I_am_Nerman   \n",
       "\n",
       "                                                   url  upvotes  downvotes  \\\n",
       "0                 https://i.redd.it/0yq2ftren8ue1.jpeg        0        NaN   \n",
       "1                 https://i.redd.it/7tl6puv9waue1.jpeg      -15        NaN   \n",
       "2    https://apnews.com/article/trump-truth-social-...        1        NaN   \n",
       "3    https://www.reddit.com/r/stockstobuytoday/comm...       30        0.0   \n",
       "4    https://edition.cnn.com/2025/04/10/politics/tr...        1        NaN   \n",
       "..                                                 ...      ...        ...   \n",
       "842  https://www.reddit.com/r/stockstobuytoday/comm...        1        NaN   \n",
       "843               https://i.redd.it/atvlo83gk4ue1.jpeg        2        NaN   \n",
       "844  https://www.reddit.com/r/stockstobuytoday/comm...        1        0.0   \n",
       "845  https://www.reddit.com/r/wallstreetbets/commen...       10        NaN   \n",
       "846               https://i.redd.it/tcfuu97p7bue1.jpeg        1        NaN   \n",
       "\n",
       "     upvote_ratio                                               text  \\\n",
       "0             NaN                                   Calls on retards   \n",
       "1             NaN  Stunt as in like why did they even make a big ...   \n",
       "2             NaN                  Seeing lots of red in the ticker.   \n",
       "3            0.98  Vision Marine Technologies Inc. is rewriting t...   \n",
       "4             NaN                           He didn’t say thank you.   \n",
       "..            ...                                                ...   \n",
       "842           NaN        Invest now it is going to shoot up tomorrow   \n",
       "843           NaN                             Where can I read this?   \n",
       "844          1.00  Upgrades, Downgrades\\n\\n [Stock Analyst Recomm...   \n",
       "845           NaN  i sold my puts so i expect cheeto to declare w...   \n",
       "846           NaN                       ![img](emote|t5_2th52|31224)   \n",
       "\n",
       "     subjectivity  polarity  sentiment  \\\n",
       "0        1.000000 -0.900000       -1.0   \n",
       "1        0.177778  0.083333        1.0   \n",
       "2        0.000000  0.000000        0.0   \n",
       "3        0.646970  0.216383        1.0   \n",
       "4        0.000000  0.000000        0.0   \n",
       "..            ...       ...        ...   \n",
       "842      0.000000  0.000000        0.0   \n",
       "843      0.000000  0.000000        0.0   \n",
       "844      0.000000  0.000000        0.0   \n",
       "845      0.000000  0.000000        0.0   \n",
       "846      0.000000  0.000000        0.0   \n",
       "\n",
       "                                              entities  label  \n",
       "0                                                   []   -1.0  \n",
       "1                ['Stunt', 'company', 'deal', 'place']    0.0  \n",
       "2                                           ['ticker']    0.0  \n",
       "3    ['watercraft', 'skill', 'power', ']', 'feat', ...    1.0  \n",
       "4                                                   []   -1.0  \n",
       "..                                                 ...    ...  \n",
       "842                                       ['tomorrow']    1.0  \n",
       "843                                                 []    0.0  \n",
       "844  ['Analyst', 'Nasdaq', 'Stock', 'Upgrades', 'Do...    0.0  \n",
       "845                  ['war', 'denmark', 'cheeto', 'i']   -1.0  \n",
       "846          ['img', ']', '[', 'emote|t5_2th52|31224']    0.0  \n",
       "\n",
       "[847 rows x 16 columns]"
      ]
     },
     "execution_count": 250,
     "metadata": {},
     "output_type": "execute_result"
    }
   ],
   "source": [
    "records = pd.read_csv('Reddit-stock-sentiment.csv')\n",
    "data = pd.DataFrame(records)\n",
    "data"
   ]
  },
  {
   "cell_type": "code",
   "execution_count": 251,
   "metadata": {},
   "outputs": [
    {
     "name": "stdout",
     "output_type": "stream",
     "text": [
      "0\n"
     ]
    },
    {
     "data": {
      "text/html": [
       "<div>\n",
       "<style scoped>\n",
       "    .dataframe tbody tr th:only-of-type {\n",
       "        vertical-align: middle;\n",
       "    }\n",
       "\n",
       "    .dataframe tbody tr th {\n",
       "        vertical-align: top;\n",
       "    }\n",
       "\n",
       "    .dataframe thead th {\n",
       "        text-align: right;\n",
       "    }\n",
       "</style>\n",
       "<table border=\"1\" class=\"dataframe\">\n",
       "  <thead>\n",
       "    <tr style=\"text-align: right;\">\n",
       "      <th></th>\n",
       "      <th>type</th>\n",
       "      <th>datetime</th>\n",
       "      <th>post_id</th>\n",
       "      <th>subreddit</th>\n",
       "      <th>title</th>\n",
       "      <th>author</th>\n",
       "      <th>url</th>\n",
       "      <th>upvotes</th>\n",
       "      <th>downvotes</th>\n",
       "      <th>upvote_ratio</th>\n",
       "      <th>text</th>\n",
       "      <th>subjectivity</th>\n",
       "      <th>polarity</th>\n",
       "      <th>sentiment</th>\n",
       "      <th>entities</th>\n",
       "      <th>label</th>\n",
       "    </tr>\n",
       "  </thead>\n",
       "  <tbody>\n",
       "    <tr>\n",
       "      <th>0</th>\n",
       "      <td>The amount of missing records is:</td>\n",
       "      <td>The amount of missing records is:</td>\n",
       "      <td>The amount of missing records is:</td>\n",
       "      <td>The amount of missing records is:</td>\n",
       "      <td>The amount of missing records is:</td>\n",
       "      <td>The amount of missing records is:</td>\n",
       "      <td>The amount of missing records is:</td>\n",
       "      <td>The amount of missing records is:</td>\n",
       "      <td>The amount of missing records is:</td>\n",
       "      <td>The amount of missing records is:</td>\n",
       "      <td>The amount of missing records is:</td>\n",
       "      <td>The amount of missing records is:</td>\n",
       "      <td>The amount of missing records is:</td>\n",
       "      <td>The amount of missing records is:</td>\n",
       "      <td>The amount of missing records is:</td>\n",
       "      <td>The amount of missing records is:</td>\n",
       "    </tr>\n",
       "    <tr>\n",
       "      <th>1</th>\n",
       "      <td>0</td>\n",
       "      <td>0</td>\n",
       "      <td>0</td>\n",
       "      <td>0</td>\n",
       "      <td>0</td>\n",
       "      <td>0</td>\n",
       "      <td>0</td>\n",
       "      <td>0</td>\n",
       "      <td>783</td>\n",
       "      <td>783</td>\n",
       "      <td>0</td>\n",
       "      <td>0</td>\n",
       "      <td>0</td>\n",
       "      <td>0</td>\n",
       "      <td>0</td>\n",
       "      <td>0</td>\n",
       "    </tr>\n",
       "  </tbody>\n",
       "</table>\n",
       "</div>"
      ],
      "text/plain": [
       "                                 type                            datetime  \\\n",
       "0  The amount of missing records is:   The amount of missing records is:    \n",
       "1                                   0                                   0   \n",
       "\n",
       "                              post_id                           subreddit  \\\n",
       "0  The amount of missing records is:   The amount of missing records is:    \n",
       "1                                   0                                   0   \n",
       "\n",
       "                                title                              author  \\\n",
       "0  The amount of missing records is:   The amount of missing records is:    \n",
       "1                                   0                                   0   \n",
       "\n",
       "                                  url                             upvotes  \\\n",
       "0  The amount of missing records is:   The amount of missing records is:    \n",
       "1                                   0                                   0   \n",
       "\n",
       "                            downvotes                        upvote_ratio  \\\n",
       "0  The amount of missing records is:   The amount of missing records is:    \n",
       "1                                 783                                 783   \n",
       "\n",
       "                                 text                        subjectivity  \\\n",
       "0  The amount of missing records is:   The amount of missing records is:    \n",
       "1                                   0                                   0   \n",
       "\n",
       "                             polarity                           sentiment  \\\n",
       "0  The amount of missing records is:   The amount of missing records is:    \n",
       "1                                   0                                   0   \n",
       "\n",
       "                             entities                               label  \n",
       "0  The amount of missing records is:   The amount of missing records is:   \n",
       "1                                   0                                   0  "
      ]
     },
     "execution_count": 251,
     "metadata": {},
     "output_type": "execute_result"
    }
   ],
   "source": [
    "# Check for duplicates\n",
    "print(data.duplicated().sum())\n",
    "\n",
    "# Check for missing values\n",
    "data.isnull().apply(lambda r: dhp.check_missing_values(r))"
   ]
  },
  {
   "cell_type": "code",
   "execution_count": 252,
   "metadata": {},
   "outputs": [
    {
     "data": {
      "text/html": [
       "<div>\n",
       "<style scoped>\n",
       "    .dataframe tbody tr th:only-of-type {\n",
       "        vertical-align: middle;\n",
       "    }\n",
       "\n",
       "    .dataframe tbody tr th {\n",
       "        vertical-align: top;\n",
       "    }\n",
       "\n",
       "    .dataframe thead th {\n",
       "        text-align: right;\n",
       "    }\n",
       "</style>\n",
       "<table border=\"1\" class=\"dataframe\">\n",
       "  <thead>\n",
       "    <tr style=\"text-align: right;\">\n",
       "      <th></th>\n",
       "      <th>title</th>\n",
       "      <th>text</th>\n",
       "      <th>polarity</th>\n",
       "      <th>sentiment</th>\n",
       "      <th>entities</th>\n",
       "      <th>label</th>\n",
       "    </tr>\n",
       "  </thead>\n",
       "  <tbody>\n",
       "    <tr>\n",
       "      <th>0</th>\n",
       "      <td>Retardation is on the menu boys! WSB is so back</td>\n",
       "      <td>Calls on retards</td>\n",
       "      <td>-0.900000</td>\n",
       "      <td>-1.0</td>\n",
       "      <td>[]</td>\n",
       "      <td>-1.0</td>\n",
       "    </tr>\n",
       "    <tr>\n",
       "      <th>1</th>\n",
       "      <td>Retail giant TARGET has now declined for 10 co...</td>\n",
       "      <td>Stunt as in like why did they even make a big ...</td>\n",
       "      <td>0.083333</td>\n",
       "      <td>1.0</td>\n",
       "      <td>['Stunt', 'company', 'deal', 'place']</td>\n",
       "      <td>0.0</td>\n",
       "    </tr>\n",
       "    <tr>\n",
       "      <th>2</th>\n",
       "      <td>How do you feel about a sitting president maki...</td>\n",
       "      <td>Seeing lots of red in the ticker.</td>\n",
       "      <td>0.000000</td>\n",
       "      <td>0.0</td>\n",
       "      <td>['ticker']</td>\n",
       "      <td>0.0</td>\n",
       "    </tr>\n",
       "    <tr>\n",
       "      <th>3</th>\n",
       "      <td>Who knows more? $VMAR</td>\n",
       "      <td>Vision Marine Technologies Inc. is rewriting t...</td>\n",
       "      <td>0.216383</td>\n",
       "      <td>1.0</td>\n",
       "      <td>['watercraft', 'skill', 'power', ']', 'feat', ...</td>\n",
       "      <td>1.0</td>\n",
       "    </tr>\n",
       "    <tr>\n",
       "      <th>4</th>\n",
       "      <td>The Trump administration is begging Xi Jinping...</td>\n",
       "      <td>He didn’t say thank you.</td>\n",
       "      <td>0.000000</td>\n",
       "      <td>0.0</td>\n",
       "      <td>[]</td>\n",
       "      <td>-1.0</td>\n",
       "    </tr>\n",
       "    <tr>\n",
       "      <th>...</th>\n",
       "      <td>...</td>\n",
       "      <td>...</td>\n",
       "      <td>...</td>\n",
       "      <td>...</td>\n",
       "      <td>...</td>\n",
       "      <td>...</td>\n",
       "    </tr>\n",
       "    <tr>\n",
       "      <th>842</th>\n",
       "      <td>$MRIN Marin Software killed it today. Hope som...</td>\n",
       "      <td>Invest now it is going to shoot up tomorrow</td>\n",
       "      <td>0.000000</td>\n",
       "      <td>0.0</td>\n",
       "      <td>['tomorrow']</td>\n",
       "      <td>1.0</td>\n",
       "    </tr>\n",
       "    <tr>\n",
       "      <th>843</th>\n",
       "      <td>$ U.S. dollar value (crashing)</td>\n",
       "      <td>Where can I read this?</td>\n",
       "      <td>0.000000</td>\n",
       "      <td>0.0</td>\n",
       "      <td>[]</td>\n",
       "      <td>0.0</td>\n",
       "    </tr>\n",
       "    <tr>\n",
       "      <th>844</th>\n",
       "      <td>Analyst Recommendations</td>\n",
       "      <td>Upgrades, Downgrades\\n\\n [Stock Analyst Recomm...</td>\n",
       "      <td>0.000000</td>\n",
       "      <td>0.0</td>\n",
       "      <td>['Analyst', 'Nasdaq', 'Stock', 'Upgrades', 'Do...</td>\n",
       "      <td>0.0</td>\n",
       "    </tr>\n",
       "    <tr>\n",
       "      <th>845</th>\n",
       "      <td>Weekend Discussion Thread for the Weekend of A...</td>\n",
       "      <td>i sold my puts so i expect cheeto to declare w...</td>\n",
       "      <td>0.000000</td>\n",
       "      <td>0.0</td>\n",
       "      <td>['war', 'denmark', 'cheeto', 'i']</td>\n",
       "      <td>-1.0</td>\n",
       "    </tr>\n",
       "    <tr>\n",
       "      <th>846</th>\n",
       "      <td>Someone post the hotline please.</td>\n",
       "      <td>![img](emote|t5_2th52|31224)</td>\n",
       "      <td>0.000000</td>\n",
       "      <td>0.0</td>\n",
       "      <td>['img', ']', '[', 'emote|t5_2th52|31224']</td>\n",
       "      <td>0.0</td>\n",
       "    </tr>\n",
       "  </tbody>\n",
       "</table>\n",
       "<p>847 rows × 6 columns</p>\n",
       "</div>"
      ],
      "text/plain": [
       "                                                 title  \\\n",
       "0      Retardation is on the menu boys! WSB is so back   \n",
       "1    Retail giant TARGET has now declined for 10 co...   \n",
       "2    How do you feel about a sitting president maki...   \n",
       "3                                Who knows more? $VMAR   \n",
       "4    The Trump administration is begging Xi Jinping...   \n",
       "..                                                 ...   \n",
       "842  $MRIN Marin Software killed it today. Hope som...   \n",
       "843                     $ U.S. dollar value (crashing)   \n",
       "844                            Analyst Recommendations   \n",
       "845  Weekend Discussion Thread for the Weekend of A...   \n",
       "846                   Someone post the hotline please.   \n",
       "\n",
       "                                                  text  polarity  sentiment  \\\n",
       "0                                     Calls on retards -0.900000       -1.0   \n",
       "1    Stunt as in like why did they even make a big ...  0.083333        1.0   \n",
       "2                    Seeing lots of red in the ticker.  0.000000        0.0   \n",
       "3    Vision Marine Technologies Inc. is rewriting t...  0.216383        1.0   \n",
       "4                             He didn’t say thank you.  0.000000        0.0   \n",
       "..                                                 ...       ...        ...   \n",
       "842        Invest now it is going to shoot up tomorrow  0.000000        0.0   \n",
       "843                             Where can I read this?  0.000000        0.0   \n",
       "844  Upgrades, Downgrades\\n\\n [Stock Analyst Recomm...  0.000000        0.0   \n",
       "845  i sold my puts so i expect cheeto to declare w...  0.000000        0.0   \n",
       "846                       ![img](emote|t5_2th52|31224)  0.000000        0.0   \n",
       "\n",
       "                                              entities  label  \n",
       "0                                                   []   -1.0  \n",
       "1                ['Stunt', 'company', 'deal', 'place']    0.0  \n",
       "2                                           ['ticker']    0.0  \n",
       "3    ['watercraft', 'skill', 'power', ']', 'feat', ...    1.0  \n",
       "4                                                   []   -1.0  \n",
       "..                                                 ...    ...  \n",
       "842                                       ['tomorrow']    1.0  \n",
       "843                                                 []    0.0  \n",
       "844  ['Analyst', 'Nasdaq', 'Stock', 'Upgrades', 'Do...    0.0  \n",
       "845                  ['war', 'denmark', 'cheeto', 'i']   -1.0  \n",
       "846          ['img', ']', '[', 'emote|t5_2th52|31224']    0.0  \n",
       "\n",
       "[847 rows x 6 columns]"
      ]
     },
     "execution_count": 252,
     "metadata": {},
     "output_type": "execute_result"
    }
   ],
   "source": [
    "processed_data = data.drop(columns=['type','datetime','subreddit','post_id','author','url','upvotes','downvotes','upvote_ratio','subjectivity'])\n",
    "processed_data\n",
    "\n",
    "# Sentiment depends on the texts and words used\n",
    "# A context can have totally positive or negative sentiment while the subjectivity stays 1 (irrelevant)\n",
    "# Upvotes reflect how others approve(like) or disapprove(dislike) the post/comment, which is also related to subjectivity"
   ]
  },
  {
   "cell_type": "code",
   "execution_count": 253,
   "metadata": {},
   "outputs": [
    {
     "data": {
      "application/vnd.plotly.v1+json": {
       "config": {
        "plotlyServerURL": "https://plot.ly"
       },
       "data": [
        {
         "hovertemplate": "label=%{x}<br>count=%{marker.color}<extra></extra>",
         "legendgroup": "",
         "marker": {
          "color": {
           "bdata": "pwE7AW0A",
           "dtype": "i2"
          },
          "coloraxis": "coloraxis",
          "pattern": {
           "shape": ""
          }
         },
         "name": "",
         "orientation": "v",
         "showlegend": false,
         "textposition": "auto",
         "type": "bar",
         "x": [
          "neutral",
          "negative",
          "positive"
         ],
         "xaxis": "x",
         "y": {
          "bdata": "pwE7AW0A",
          "dtype": "i2"
         },
         "yaxis": "y"
        }
       ],
       "layout": {
        "barmode": "relative",
        "coloraxis": {
         "cmax": 500,
         "cmin": 0,
         "colorbar": {
          "title": {
           "text": "count"
          }
         },
         "colorscale": [
          [
           0,
           "#0d0887"
          ],
          [
           0.1111111111111111,
           "#46039f"
          ],
          [
           0.2222222222222222,
           "#7201a8"
          ],
          [
           0.3333333333333333,
           "#9c179e"
          ],
          [
           0.4444444444444444,
           "#bd3786"
          ],
          [
           0.5555555555555556,
           "#d8576b"
          ],
          [
           0.6666666666666666,
           "#ed7953"
          ],
          [
           0.7777777777777778,
           "#fb9f3a"
          ],
          [
           0.8888888888888888,
           "#fdca26"
          ],
          [
           1,
           "#f0f921"
          ]
         ]
        },
        "legend": {
         "tracegroupgap": 0
        },
        "margin": {
         "t": 60
        },
        "template": {
         "data": {
          "bar": [
           {
            "error_x": {
             "color": "#2a3f5f"
            },
            "error_y": {
             "color": "#2a3f5f"
            },
            "marker": {
             "line": {
              "color": "#E5ECF6",
              "width": 0.5
             },
             "pattern": {
              "fillmode": "overlay",
              "size": 10,
              "solidity": 0.2
             }
            },
            "type": "bar"
           }
          ],
          "barpolar": [
           {
            "marker": {
             "line": {
              "color": "#E5ECF6",
              "width": 0.5
             },
             "pattern": {
              "fillmode": "overlay",
              "size": 10,
              "solidity": 0.2
             }
            },
            "type": "barpolar"
           }
          ],
          "carpet": [
           {
            "aaxis": {
             "endlinecolor": "#2a3f5f",
             "gridcolor": "white",
             "linecolor": "white",
             "minorgridcolor": "white",
             "startlinecolor": "#2a3f5f"
            },
            "baxis": {
             "endlinecolor": "#2a3f5f",
             "gridcolor": "white",
             "linecolor": "white",
             "minorgridcolor": "white",
             "startlinecolor": "#2a3f5f"
            },
            "type": "carpet"
           }
          ],
          "choropleth": [
           {
            "colorbar": {
             "outlinewidth": 0,
             "ticks": ""
            },
            "type": "choropleth"
           }
          ],
          "contour": [
           {
            "colorbar": {
             "outlinewidth": 0,
             "ticks": ""
            },
            "colorscale": [
             [
              0,
              "#0d0887"
             ],
             [
              0.1111111111111111,
              "#46039f"
             ],
             [
              0.2222222222222222,
              "#7201a8"
             ],
             [
              0.3333333333333333,
              "#9c179e"
             ],
             [
              0.4444444444444444,
              "#bd3786"
             ],
             [
              0.5555555555555556,
              "#d8576b"
             ],
             [
              0.6666666666666666,
              "#ed7953"
             ],
             [
              0.7777777777777778,
              "#fb9f3a"
             ],
             [
              0.8888888888888888,
              "#fdca26"
             ],
             [
              1,
              "#f0f921"
             ]
            ],
            "type": "contour"
           }
          ],
          "contourcarpet": [
           {
            "colorbar": {
             "outlinewidth": 0,
             "ticks": ""
            },
            "type": "contourcarpet"
           }
          ],
          "heatmap": [
           {
            "colorbar": {
             "outlinewidth": 0,
             "ticks": ""
            },
            "colorscale": [
             [
              0,
              "#0d0887"
             ],
             [
              0.1111111111111111,
              "#46039f"
             ],
             [
              0.2222222222222222,
              "#7201a8"
             ],
             [
              0.3333333333333333,
              "#9c179e"
             ],
             [
              0.4444444444444444,
              "#bd3786"
             ],
             [
              0.5555555555555556,
              "#d8576b"
             ],
             [
              0.6666666666666666,
              "#ed7953"
             ],
             [
              0.7777777777777778,
              "#fb9f3a"
             ],
             [
              0.8888888888888888,
              "#fdca26"
             ],
             [
              1,
              "#f0f921"
             ]
            ],
            "type": "heatmap"
           }
          ],
          "histogram": [
           {
            "marker": {
             "pattern": {
              "fillmode": "overlay",
              "size": 10,
              "solidity": 0.2
             }
            },
            "type": "histogram"
           }
          ],
          "histogram2d": [
           {
            "colorbar": {
             "outlinewidth": 0,
             "ticks": ""
            },
            "colorscale": [
             [
              0,
              "#0d0887"
             ],
             [
              0.1111111111111111,
              "#46039f"
             ],
             [
              0.2222222222222222,
              "#7201a8"
             ],
             [
              0.3333333333333333,
              "#9c179e"
             ],
             [
              0.4444444444444444,
              "#bd3786"
             ],
             [
              0.5555555555555556,
              "#d8576b"
             ],
             [
              0.6666666666666666,
              "#ed7953"
             ],
             [
              0.7777777777777778,
              "#fb9f3a"
             ],
             [
              0.8888888888888888,
              "#fdca26"
             ],
             [
              1,
              "#f0f921"
             ]
            ],
            "type": "histogram2d"
           }
          ],
          "histogram2dcontour": [
           {
            "colorbar": {
             "outlinewidth": 0,
             "ticks": ""
            },
            "colorscale": [
             [
              0,
              "#0d0887"
             ],
             [
              0.1111111111111111,
              "#46039f"
             ],
             [
              0.2222222222222222,
              "#7201a8"
             ],
             [
              0.3333333333333333,
              "#9c179e"
             ],
             [
              0.4444444444444444,
              "#bd3786"
             ],
             [
              0.5555555555555556,
              "#d8576b"
             ],
             [
              0.6666666666666666,
              "#ed7953"
             ],
             [
              0.7777777777777778,
              "#fb9f3a"
             ],
             [
              0.8888888888888888,
              "#fdca26"
             ],
             [
              1,
              "#f0f921"
             ]
            ],
            "type": "histogram2dcontour"
           }
          ],
          "mesh3d": [
           {
            "colorbar": {
             "outlinewidth": 0,
             "ticks": ""
            },
            "type": "mesh3d"
           }
          ],
          "parcoords": [
           {
            "line": {
             "colorbar": {
              "outlinewidth": 0,
              "ticks": ""
             }
            },
            "type": "parcoords"
           }
          ],
          "pie": [
           {
            "automargin": true,
            "type": "pie"
           }
          ],
          "scatter": [
           {
            "fillpattern": {
             "fillmode": "overlay",
             "size": 10,
             "solidity": 0.2
            },
            "type": "scatter"
           }
          ],
          "scatter3d": [
           {
            "line": {
             "colorbar": {
              "outlinewidth": 0,
              "ticks": ""
             }
            },
            "marker": {
             "colorbar": {
              "outlinewidth": 0,
              "ticks": ""
             }
            },
            "type": "scatter3d"
           }
          ],
          "scattercarpet": [
           {
            "marker": {
             "colorbar": {
              "outlinewidth": 0,
              "ticks": ""
             }
            },
            "type": "scattercarpet"
           }
          ],
          "scattergeo": [
           {
            "marker": {
             "colorbar": {
              "outlinewidth": 0,
              "ticks": ""
             }
            },
            "type": "scattergeo"
           }
          ],
          "scattergl": [
           {
            "marker": {
             "colorbar": {
              "outlinewidth": 0,
              "ticks": ""
             }
            },
            "type": "scattergl"
           }
          ],
          "scattermap": [
           {
            "marker": {
             "colorbar": {
              "outlinewidth": 0,
              "ticks": ""
             }
            },
            "type": "scattermap"
           }
          ],
          "scattermapbox": [
           {
            "marker": {
             "colorbar": {
              "outlinewidth": 0,
              "ticks": ""
             }
            },
            "type": "scattermapbox"
           }
          ],
          "scatterpolar": [
           {
            "marker": {
             "colorbar": {
              "outlinewidth": 0,
              "ticks": ""
             }
            },
            "type": "scatterpolar"
           }
          ],
          "scatterpolargl": [
           {
            "marker": {
             "colorbar": {
              "outlinewidth": 0,
              "ticks": ""
             }
            },
            "type": "scatterpolargl"
           }
          ],
          "scatterternary": [
           {
            "marker": {
             "colorbar": {
              "outlinewidth": 0,
              "ticks": ""
             }
            },
            "type": "scatterternary"
           }
          ],
          "surface": [
           {
            "colorbar": {
             "outlinewidth": 0,
             "ticks": ""
            },
            "colorscale": [
             [
              0,
              "#0d0887"
             ],
             [
              0.1111111111111111,
              "#46039f"
             ],
             [
              0.2222222222222222,
              "#7201a8"
             ],
             [
              0.3333333333333333,
              "#9c179e"
             ],
             [
              0.4444444444444444,
              "#bd3786"
             ],
             [
              0.5555555555555556,
              "#d8576b"
             ],
             [
              0.6666666666666666,
              "#ed7953"
             ],
             [
              0.7777777777777778,
              "#fb9f3a"
             ],
             [
              0.8888888888888888,
              "#fdca26"
             ],
             [
              1,
              "#f0f921"
             ]
            ],
            "type": "surface"
           }
          ],
          "table": [
           {
            "cells": {
             "fill": {
              "color": "#EBF0F8"
             },
             "line": {
              "color": "white"
             }
            },
            "header": {
             "fill": {
              "color": "#C8D4E3"
             },
             "line": {
              "color": "white"
             }
            },
            "type": "table"
           }
          ]
         },
         "layout": {
          "annotationdefaults": {
           "arrowcolor": "#2a3f5f",
           "arrowhead": 0,
           "arrowwidth": 1
          },
          "autotypenumbers": "strict",
          "coloraxis": {
           "colorbar": {
            "outlinewidth": 0,
            "ticks": ""
           }
          },
          "colorscale": {
           "diverging": [
            [
             0,
             "#8e0152"
            ],
            [
             0.1,
             "#c51b7d"
            ],
            [
             0.2,
             "#de77ae"
            ],
            [
             0.3,
             "#f1b6da"
            ],
            [
             0.4,
             "#fde0ef"
            ],
            [
             0.5,
             "#f7f7f7"
            ],
            [
             0.6,
             "#e6f5d0"
            ],
            [
             0.7,
             "#b8e186"
            ],
            [
             0.8,
             "#7fbc41"
            ],
            [
             0.9,
             "#4d9221"
            ],
            [
             1,
             "#276419"
            ]
           ],
           "sequential": [
            [
             0,
             "#0d0887"
            ],
            [
             0.1111111111111111,
             "#46039f"
            ],
            [
             0.2222222222222222,
             "#7201a8"
            ],
            [
             0.3333333333333333,
             "#9c179e"
            ],
            [
             0.4444444444444444,
             "#bd3786"
            ],
            [
             0.5555555555555556,
             "#d8576b"
            ],
            [
             0.6666666666666666,
             "#ed7953"
            ],
            [
             0.7777777777777778,
             "#fb9f3a"
            ],
            [
             0.8888888888888888,
             "#fdca26"
            ],
            [
             1,
             "#f0f921"
            ]
           ],
           "sequentialminus": [
            [
             0,
             "#0d0887"
            ],
            [
             0.1111111111111111,
             "#46039f"
            ],
            [
             0.2222222222222222,
             "#7201a8"
            ],
            [
             0.3333333333333333,
             "#9c179e"
            ],
            [
             0.4444444444444444,
             "#bd3786"
            ],
            [
             0.5555555555555556,
             "#d8576b"
            ],
            [
             0.6666666666666666,
             "#ed7953"
            ],
            [
             0.7777777777777778,
             "#fb9f3a"
            ],
            [
             0.8888888888888888,
             "#fdca26"
            ],
            [
             1,
             "#f0f921"
            ]
           ]
          },
          "colorway": [
           "#636efa",
           "#EF553B",
           "#00cc96",
           "#ab63fa",
           "#FFA15A",
           "#19d3f3",
           "#FF6692",
           "#B6E880",
           "#FF97FF",
           "#FECB52"
          ],
          "font": {
           "color": "#2a3f5f"
          },
          "geo": {
           "bgcolor": "white",
           "lakecolor": "white",
           "landcolor": "#E5ECF6",
           "showlakes": true,
           "showland": true,
           "subunitcolor": "white"
          },
          "hoverlabel": {
           "align": "left"
          },
          "hovermode": "closest",
          "mapbox": {
           "style": "light"
          },
          "paper_bgcolor": "white",
          "plot_bgcolor": "#E5ECF6",
          "polar": {
           "angularaxis": {
            "gridcolor": "white",
            "linecolor": "white",
            "ticks": ""
           },
           "bgcolor": "#E5ECF6",
           "radialaxis": {
            "gridcolor": "white",
            "linecolor": "white",
            "ticks": ""
           }
          },
          "scene": {
           "xaxis": {
            "backgroundcolor": "#E5ECF6",
            "gridcolor": "white",
            "gridwidth": 2,
            "linecolor": "white",
            "showbackground": true,
            "ticks": "",
            "zerolinecolor": "white"
           },
           "yaxis": {
            "backgroundcolor": "#E5ECF6",
            "gridcolor": "white",
            "gridwidth": 2,
            "linecolor": "white",
            "showbackground": true,
            "ticks": "",
            "zerolinecolor": "white"
           },
           "zaxis": {
            "backgroundcolor": "#E5ECF6",
            "gridcolor": "white",
            "gridwidth": 2,
            "linecolor": "white",
            "showbackground": true,
            "ticks": "",
            "zerolinecolor": "white"
           }
          },
          "shapedefaults": {
           "line": {
            "color": "#2a3f5f"
           }
          },
          "ternary": {
           "aaxis": {
            "gridcolor": "white",
            "linecolor": "white",
            "ticks": ""
           },
           "baxis": {
            "gridcolor": "white",
            "linecolor": "white",
            "ticks": ""
           },
           "bgcolor": "#E5ECF6",
           "caxis": {
            "gridcolor": "white",
            "linecolor": "white",
            "ticks": ""
           }
          },
          "title": {
           "x": 0.05
          },
          "xaxis": {
           "automargin": true,
           "gridcolor": "white",
           "linecolor": "white",
           "ticks": "",
           "title": {
            "standoff": 15
           },
           "zerolinecolor": "white",
           "zerolinewidth": 2
          },
          "yaxis": {
           "automargin": true,
           "gridcolor": "white",
           "linecolor": "white",
           "ticks": "",
           "title": {
            "standoff": 15
           },
           "zerolinecolor": "white",
           "zerolinewidth": 2
          }
         }
        },
        "title": {
         "text": "Sentiment statistics",
         "x": 0.5
        },
        "width": 400,
        "xaxis": {
         "anchor": "y",
         "domain": [
          0,
          1
         ],
         "title": {
          "text": "label"
         }
        },
        "yaxis": {
         "anchor": "x",
         "domain": [
          0,
          1
         ],
         "range": [
          0,
          500
         ],
         "title": {
          "text": "count"
         }
        }
       }
      }
     },
     "metadata": {},
     "output_type": "display_data"
    }
   ],
   "source": [
    "# A simple graph\n",
    "import plotly.express as px\n",
    "\n",
    "scount = processed_data['label'].value_counts()\n",
    "simple_df = pd.DataFrame(scount.to_list(), index=scount.index, columns=['count'])\n",
    "\n",
    "totalcount = len(processed_data)\n",
    "maxcount = max(simple_df['count'])\n",
    "ylim = math.ceil(maxcount/totalcount * 10) * (10 ** math.floor(math.log(totalcount,10)))\n",
    "\n",
    "sfig = px.bar(simple_df,\n",
    "              x=['neutral','negative','positive'],\n",
    "              y=simple_df['count'],\n",
    "              labels={'x': 'label'},\n",
    "              range_y=[0, ylim],\n",
    "              color=simple_df['count'],\n",
    "              range_color=[0, ylim],\n",
    "              width=400\n",
    "             )\n",
    "\n",
    "sfig.update_layout(title_text='Sentiment statistics', title_x=0.5)\n",
    "sfig.show()"
   ]
  },
  {
   "cell_type": "code",
   "execution_count": 254,
   "metadata": {},
   "outputs": [
    {
     "name": "stderr",
     "output_type": "stream",
     "text": [
      "[nltk_data] Downloading package stopwords to\n",
      "[nltk_data]     C:\\Users\\mp5k1\\AppData\\Roaming\\nltk_data...\n",
      "[nltk_data]   Package stopwords is already up-to-date!\n"
     ]
    },
    {
     "data": {
      "text/plain": [
       "True"
      ]
     },
     "execution_count": 254,
     "metadata": {},
     "output_type": "execute_result"
    }
   ],
   "source": [
    "from nltk.tokenize import word_tokenize\n",
    "from nltk.corpus import wordnet as wn\n",
    "from nltk.corpus import stopwords as sws\n",
    "nltk.download('stopwords')"
   ]
  },
  {
   "cell_type": "code",
   "execution_count": 287,
   "metadata": {},
   "outputs": [],
   "source": [
    "pos = list()\n",
    "neg = list()\n",
    "neu = list()\n",
    "\n",
    "# After thinking twice, I decide to remove the stopwords because too many of them in the data\n",
    "# They are comments and posts from Reddit. What do I expect?\n",
    "stopwords = set(sws.words('english'))\n",
    "stopwords.add('I')\n",
    "\n",
    "for i in range(len(processed_data)):\n",
    "    token_text = word_tokenize(processed_data.loc[i,'text'])\n",
    "    for j in range(len(token_text)):\n",
    "        token_word = wn.synsets(token_text[j])\n",
    "        if len(token_text[j]) > 1 and len(token_word) > 1:\n",
    "            if token_text[j] not in stopwords and token_word[0].pos() != 'r':\n",
    "                senti = processed_data.loc[i,'label']\n",
    "                if senti > 0:\n",
    "                    pos.append(token_text[j])\n",
    "                elif senti < 0:\n",
    "                    neg.append(token_text[j])\n",
    "                else:\n",
    "                    neu.append(token_text[j])\n",
    "\n",
    "# Adjectives have meanings on their own, although they are sometimes used for sarcasm (which I didn't put into account here)\n",
    "# Adverbs derive from adjectives\n",
    "# Nouns and verbs can have neutral meanings\n",
    "# Take an live example from the dataset: retard\n",
    "# Retard can be used to negatively describe or curse a person(a common case); it describes something that is being delayed in progress on the other hand\n",
    "# Verb: declare war v.s declare independence\n",
    "#\n",
    "# As those being said, I did everything in a simple way here, hoping it's enough\n"
   ]
  },
  {
   "cell_type": "code",
   "execution_count": 288,
   "metadata": {},
   "outputs": [
    {
     "data": {
      "application/vnd.plotly.v1+json": {
       "config": {
        "plotlyServerURL": "https://plot.ly"
       },
       "data": [
        {
         "line": {
          "color": "dodgerblue"
         },
         "mode": "markers",
         "type": "scatter",
         "x": [
          "technology",
          "good",
          "one",
          "going",
          "market",
          "silver",
          "like",
          "Star",
          "aviation",
          "think",
          "see",
          "Trump",
          "analysis",
          "data",
          "electric",
          "time",
          "potential",
          "US",
          "economy",
          "Airlines",
          "trend",
          "Systems",
          "industry",
          "new",
          "Group",
          "get",
          "dividend",
          "long",
          "company",
          "looking",
          "Navigation",
          "buy",
          "Monitoring",
          "System",
          "SPY",
          "gaining",
          "Safety",
          "significant",
          "stock",
          "100",
          "way",
          "calls",
          "So",
          "want",
          "mean",
          "bad",
          "money",
          "better",
          "Atlas",
          "tariffs",
          "well",
          "Recent",
          "right",
          "stocks",
          "years",
          "world",
          "Just",
          "insights",
          "Vision",
          "Marine",
          "Technologies",
          "developments",
          "Air",
          "make",
          "mph",
          "major",
          "boating",
          "tracking",
          "making",
          "build",
          "went",
          "transmission",
          "live",
          "ca",
          "discussions",
          "solutions",
          "worth",
          "speed",
          "modernizing",
          "growth",
          "come",
          "Peace",
          "sales",
          "go",
          "past",
          "term",
          "still",
          "Ethiopian",
          "fun",
          "news",
          "portfolio",
          "nothing",
          "Despite",
          "people",
          "policy",
          "cancellations",
          "manage",
          "traction",
          "countries",
          "future",
          "puts",
          "China",
          "providing",
          "hold",
          "Good",
          "pretty",
          "holds",
          "Brazil",
          "demand",
          "position",
          "today",
          "changing",
          "high",
          "invest",
          "day",
          "trade",
          "likely",
          "In",
          "Kings",
          "upgrades",
          "cents",
          "Egypt",
          "watercraft",
          "collaboration",
          "proposals",
          "big",
          "share",
          "talks",
          "crash",
          "waves",
          "ANAL",
          "Main",
          "risk",
          "Points",
          "Please",
          "power",
          "use",
          "need",
          "TARIFFS",
          "skill",
          "pass",
          "lose",
          "leading",
          "inquiries",
          "innovative",
          "Short",
          "alerts",
          "AI",
          "America",
          "says",
          "done",
          "record",
          "service",
          "keep",
          "real",
          "investment",
          "experience",
          "works",
          "show",
          "call",
          "moving",
          "wait",
          "handle",
          "stuff",
          "Same",
          "week",
          "innovation",
          "even",
          "last",
          "highest",
          "economic",
          "communication",
          "different",
          "happening",
          "feel",
          "bank",
          "catch",
          "moon",
          "currencies",
          "saying",
          "popular",
          "getting",
          "dumping",
          "manipulating",
          "praising",
          "optimizing",
          "working",
          "crush",
          "means",
          "ask",
          "said",
          "system",
          "green",
          "reason",
          "shit",
          "waiting",
          "energy",
          "trading",
          "country",
          "forward",
          "largest",
          "little",
          "dollar",
          "survive",
          "bulk",
          "left",
          "least",
          "next",
          "far",
          "zero",
          "bought",
          "U.S.",
          "god",
          "used",
          "companies",
          "made",
          "Gold",
          "nice",
          "amount",
          "remove",
          "include",
          "bonds",
          "selling",
          "note",
          "sector",
          "funds",
          "short",
          "spot",
          "acquisition",
          "Speculative",
          "playing",
          "chess",
          "Things",
          "work",
          "storms",
          "days",
          "water",
          "glass",
          "stop",
          "ICE",
          "Lump",
          "sum",
          "tends",
          "beat",
          "minimizes",
          "article",
          "know",
          "investing",
          "ie",
          "22",
          "fine",
          "higher",
          "post",
          "crazy",
          "general",
          "Every",
          "surprise",
          "shares",
          "sell",
          "occasional",
          "covered",
          "surprises",
          "wonder",
          "Congress",
          "able",
          "grow",
          "spine",
          "counter",
          "threat",
          "stupidity",
          "rabid",
          "Entered",
          "yesterday",
          "entered",
          "dip",
          "28",
          "average",
          "Potential",
          "profits",
          "WRONG",
          "isis",
          "TRUMP",
          "VERY",
          "SMART",
          "arbitration",
          "refreshing",
          "rising",
          "bond",
          "yields",
          "falling",
          "stumbled",
          "exciting",
          "As",
          "fascinated",
          "modern",
          "help",
          "Summary",
          "acquires",
          "Highlighted",
          "provides",
          "offering",
          "valuable",
          "operations",
          "safety",
          "showcase",
          "Read",
          "More",
          "atm",
          "Lumen",
          "Net",
          "taken",
          "check",
          "Up",
          "understand",
          "man",
          "stupid",
          "apart",
          "plan",
          "goal",
          "wake",
          "Thanks",
          "heads",
          "realized",
          "hitting",
          "submit",
          "title",
          "forgive",
          "humble",
          "crayon",
          "eating",
          "ape",
          "landing",
          "upset",
          "Now",
          "wholesome",
          "Back",
          "break",
          "rip",
          "thing",
          "50",
          "wanted",
          "advanced",
          "improve",
          "helping",
          "centers",
          "tasks",
          "reduce",
          "repetitive",
          "enhance",
          "Use",
          "cases",
          "incoming",
          "ensuring",
          "guests",
          "smooth",
          "reservations",
          "handled",
          "Real",
          "Estate",
          "Offices",
          "Having",
          "virtual",
          "missed",
          "property",
          "listings",
          "communicated",
          "Doctors",
          "Clinics",
          "responds",
          "patient",
          "hour",
          "booking",
          "appointments",
          "essential",
          "guidance",
          "delay",
          "businesses",
          "using",
          "smart",
          "tools",
          "easier",
          "helps",
          "industries",
          "law",
          "firms",
          "Perfect",
          "say",
          "point",
          "culture",
          "war",
          "posturing",
          "fantasies",
          "fairy",
          "tales",
          "substance",
          "yelling",
          "reality",
          "Great",
          "opposition",
          "anger",
          "business",
          "tangible",
          "hard",
          "current",
          "crisis",
          "manufactured",
          "branded",
          "main",
          "bunch",
          "sniffling",
          "understanding",
          "interest",
          "consequences",
          "policies",
          "fake",
          "points",
          "hit",
          "addicted",
          "lesson",
          "learned",
          "central",
          "tomorrow",
          "needs",
          "independent",
          "branch",
          "rewriting",
          "fair",
          "holding",
          "blazing",
          "outside",
          "stable",
          "foreign",
          "propelling",
          "3d",
          "modelling",
          "era",
          "combined",
          "cool",
          "empty",
          "late",
          "feed",
          "articles",
          "ripple",
          "Ai",
          "Diamonds",
          "generations",
          "imagine",
          "coffee",
          "shop",
          "driving",
          "car",
          "walking",
          "home",
          "charged",
          "Ca",
          "bring",
          "Highlight",
          "highlights",
          "science",
          "pushes",
          "fusion",
          "coal",
          "Careful",
          "decide",
          "pump",
          "killed",
          "IV",
          "limits",
          "price",
          "movement",
          "Partners",
          "avoided",
          "related",
          "BS",
          "liquid",
          "tighter",
          "bid",
          "Power",
          "place",
          "contribute",
          "groundbreaking",
          "fund",
          "choosing",
          "betting",
          "worst",
          "focus",
          "dividends",
          "Hold",
          "red",
          "After",
          "taking",
          "brief",
          "look",
          "seats",
          "luck",
          "curiosity",
          "attracted",
          "end",
          "support",
          "shattered",
          "Nice",
          "Sold",
          "Think",
          "astonishing",
          "become",
          "part",
          "clean",
          "passion",
          "shift",
          "cars",
          "came",
          "creating",
          "Based",
          "ripples",
          "felt",
          "exploration",
          "project",
          "Am",
          "shipping",
          "processing",
          "plant",
          "South",
          "designed",
          "produce",
          "concentrate",
          "crucial",
          "battery",
          "production",
          "traditional",
          "methods",
          "rise",
          "seeing",
          "vehicles",
          "renewable",
          "storage",
          "favorable",
          "cup",
          "benefit",
          "following",
          "Curious",
          "hear",
          "thoughts",
          "Third",
          "Inflation",
          "expectations",
          "year",
          "ahead",
          "Better",
          "cash",
          "happy",
          "strong",
          "performance",
          "capital",
          "showing",
          "confidence",
          "Green",
          "cheaper",
          "quality",
          "extent",
          "Day",
          "Like",
          "carry",
          "scents",
          "brand",
          "soap",
          "pivot",
          "smells",
          "damn",
          "God",
          "ok",
          "discount",
          "CRUSHED",
          "earnings",
          "Go",
          "flow",
          "wan",
          "held",
          "base",
          "table",
          "EU",
          "decided",
          "line",
          "Follow",
          "win",
          "technicals",
          "strongest",
          "resilient",
          "throw",
          "weight",
          "folks",
          "willing",
          "liquidity",
          "draw",
          "passed",
          "Save",
          "First",
          "Republic",
          "Bank",
          "Let",
          "dead",
          "us",
          "10",
          "lot",
          "metals",
          "Hurry",
          "shoots",
          "net",
          "Co",
          "Metals",
          "match",
          "friends",
          "Other",
          "Years",
          "ago",
          "found",
          "Private",
          "requested",
          "got",
          "married",
          "public",
          "approved",
          "follow",
          "requests",
          "believe",
          "hot",
          "noticed",
          "removed",
          "sad",
          "fact",
          "profile",
          "click",
          "knows",
          "exist",
          "Small",
          "Ws",
          "Chinese",
          "recession",
          "suffer",
          "English",
          "Japanese",
          "mute",
          "clever",
          "surprised",
          "bit",
          "Remember",
          "shows",
          "pound",
          "mitigate",
          "French",
          "Welsh",
          "reserves",
          "develop",
          "vehicle",
          "inflation",
          "eye",
          "split",
          "index",
          "There",
          "Vanguard",
          "options",
          "Much",
          "appreciated",
          "Crazy",
          "coin",
          "sliver",
          "value",
          "reckon",
          "makes",
          "squeeze",
          "Only",
          "supporters",
          "hated",
          "agriculture",
          "boom",
          "administration",
          "Looks",
          "gem",
          "increases",
          "Market",
          "goes",
          "Balanced",
          "OK",
          "let",
          "kick",
          "Long",
          "large",
          "exposure",
          "Google",
          "wobbly",
          "Europe",
          "Reliance",
          "Apple",
          "best",
          "small",
          "watching",
          "MARA",
          "Target",
          "Oracle",
          "sure",
          "months",
          "disaster",
          "beaten",
          "gems",
          "shine",
          "sharp",
          "climbers",
          "fall",
          "Worse",
          "STRONG",
          "evidence",
          "destroy",
          "put",
          "90",
          "pause",
          "cares",
          "save",
          "face",
          "target",
          "morning",
          "Does",
          "Matter",
          "massive",
          "WAY",
          "admitted",
          "bluffed",
          "threatening",
          "flip",
          "monopoly",
          "board",
          "25",
          "adding",
          "till",
          "returns",
          "Dividends",
          "simulated",
          "annual",
          "contribution",
          "dollars",
          "results",
          "margin",
          "suffered",
          "less",
          "painful",
          "periods",
          "Technology",
          "ice",
          "doom",
          "3D",
          "plays",
          "Big",
          "wrong",
          "Expecting",
          "PR",
          "dropped",
          "date",
          "start",
          "divesting",
          "international",
          "brewing",
          "Hunt",
          "brothers",
          "gave",
          "try",
          "ratio",
          "whack",
          "industrial",
          "addition",
          "vs",
          "gold",
          "allocation",
          "stooping",
          "lows",
          "Ask",
          "SC",
          "Way",
          "Don",
          "Feel",
          "beautiful",
          "extra",
          "digit",
          "first",
          "rumor",
          "happened",
          "gloom",
          "later",
          "deleted",
          "undervalued",
          "Undervalued",
          "normal",
          "acceptable",
          "MADE",
          "JIMMY",
          "CARTER",
          "SELL",
          "PEANUT",
          "FARM",
          "Haven",
          "traded",
          "life",
          "living",
          "Watch",
          "sunset",
          "reminder",
          "bigger",
          "game",
          "picture",
          "leaves",
          "matters",
          "alone",
          "pioneering",
          "mandate",
          "focuses",
          "shower",
          "pressure",
          "toilets",
          "heal",
          "cost",
          "Stocks",
          "full",
          "Exciting",
          "guess",
          "characterize",
          "powell",
          "inflations",
          "kids",
          "take",
          "trying",
          "play",
          "school",
          "sports",
          "fear",
          "roaring",
          "back",
          "NICE",
          "Can",
          "complain",
          "begging",
          "deal",
          "ways",
          "Invest",
          "shoot",
          "rest"
         ],
         "y": [
          11,
          11,
          9,
          9,
          8,
          8,
          8,
          8,
          8,
          8,
          7,
          7,
          7,
          6,
          6,
          6,
          6,
          6,
          6,
          6,
          5,
          5,
          5,
          5,
          5,
          5,
          5,
          5,
          5,
          4,
          4,
          4,
          4,
          4,
          4,
          4,
          4,
          4,
          4,
          4,
          4,
          4,
          4,
          4,
          4,
          4,
          4,
          4,
          4,
          4,
          4,
          4,
          4,
          4,
          4,
          4,
          4,
          4,
          3,
          3,
          3,
          3,
          3,
          3,
          3,
          3,
          3,
          3,
          3,
          3,
          3,
          3,
          3,
          3,
          3,
          3,
          3,
          3,
          3,
          3,
          3,
          3,
          3,
          3,
          3,
          3,
          3,
          3,
          3,
          3,
          3,
          3,
          3,
          3,
          3,
          3,
          3,
          3,
          3,
          3,
          3,
          3,
          3,
          3,
          3,
          3,
          3,
          3,
          3,
          3,
          3,
          3,
          3,
          3,
          3,
          3,
          3,
          3,
          3,
          2,
          2,
          2,
          2,
          2,
          2,
          2,
          2,
          2,
          2,
          2,
          2,
          2,
          2,
          2,
          2,
          2,
          2,
          2,
          2,
          2,
          2,
          2,
          2,
          2,
          2,
          2,
          2,
          2,
          2,
          2,
          2,
          2,
          2,
          2,
          2,
          2,
          2,
          2,
          2,
          2,
          2,
          2,
          2,
          2,
          2,
          2,
          2,
          2,
          2,
          2,
          2,
          2,
          2,
          2,
          2,
          2,
          2,
          2,
          2,
          2,
          2,
          2,
          2,
          2,
          2,
          2,
          2,
          2,
          2,
          2,
          2,
          2,
          2,
          2,
          2,
          2,
          2,
          2,
          2,
          2,
          2,
          2,
          2,
          2,
          2,
          2,
          2,
          2,
          2,
          2,
          2,
          2,
          2,
          2,
          2,
          2,
          2,
          2,
          2,
          2,
          2,
          2,
          2,
          2,
          2,
          2,
          2,
          2,
          2,
          2,
          2,
          2,
          2,
          2,
          2,
          2,
          2,
          2,
          2,
          1,
          1,
          1,
          1,
          1,
          1,
          1,
          1,
          1,
          1,
          1,
          1,
          1,
          1,
          1,
          1,
          1,
          1,
          1,
          1,
          1,
          1,
          1,
          1,
          1,
          1,
          1,
          1,
          1,
          1,
          1,
          1,
          1,
          1,
          1,
          1,
          1,
          1,
          1,
          1,
          1,
          1,
          1,
          1,
          1,
          1,
          1,
          1,
          1,
          1,
          1,
          1,
          1,
          1,
          1,
          1,
          1,
          1,
          1,
          1,
          1,
          1,
          1,
          1,
          1,
          1,
          1,
          1,
          1,
          1,
          1,
          1,
          1,
          1,
          1,
          1,
          1,
          1,
          1,
          1,
          1,
          1,
          1,
          1,
          1,
          1,
          1,
          1,
          1,
          1,
          1,
          1,
          1,
          1,
          1,
          1,
          1,
          1,
          1,
          1,
          1,
          1,
          1,
          1,
          1,
          1,
          1,
          1,
          1,
          1,
          1,
          1,
          1,
          1,
          1,
          1,
          1,
          1,
          1,
          1,
          1,
          1,
          1,
          1,
          1,
          1,
          1,
          1,
          1,
          1,
          1,
          1,
          1,
          1,
          1,
          1,
          1,
          1,
          1,
          1,
          1,
          1,
          1,
          1,
          1,
          1,
          1,
          1,
          1,
          1,
          1,
          1,
          1,
          1,
          1,
          1,
          1,
          1,
          1,
          1,
          1,
          1,
          1,
          1,
          1,
          1,
          1,
          1,
          1,
          1,
          1,
          1,
          1,
          1,
          1,
          1,
          1,
          1,
          1,
          1,
          1,
          1,
          1,
          1,
          1,
          1,
          1,
          1,
          1,
          1,
          1,
          1,
          1,
          1,
          1,
          1,
          1,
          1,
          1,
          1,
          1,
          1,
          1,
          1,
          1,
          1,
          1,
          1,
          1,
          1,
          1,
          1,
          1,
          1,
          1,
          1,
          1,
          1,
          1,
          1,
          1,
          1,
          1,
          1,
          1,
          1,
          1,
          1,
          1,
          1,
          1,
          1,
          1,
          1,
          1,
          1,
          1,
          1,
          1,
          1,
          1,
          1,
          1,
          1,
          1,
          1,
          1,
          1,
          1,
          1,
          1,
          1,
          1,
          1,
          1,
          1,
          1,
          1,
          1,
          1,
          1,
          1,
          1,
          1,
          1,
          1,
          1,
          1,
          1,
          1,
          1,
          1,
          1,
          1,
          1,
          1,
          1,
          1,
          1,
          1,
          1,
          1,
          1,
          1,
          1,
          1,
          1,
          1,
          1,
          1,
          1,
          1,
          1,
          1,
          1,
          1,
          1,
          1,
          1,
          1,
          1,
          1,
          1,
          1,
          1,
          1,
          1,
          1,
          1,
          1,
          1,
          1,
          1,
          1,
          1,
          1,
          1,
          1,
          1,
          1,
          1,
          1,
          1,
          1,
          1,
          1,
          1,
          1,
          1,
          1,
          1,
          1,
          1,
          1,
          1,
          1,
          1,
          1,
          1,
          1,
          1,
          1,
          1,
          1,
          1,
          1,
          1,
          1,
          1,
          1,
          1,
          1,
          1,
          1,
          1,
          1,
          1,
          1,
          1,
          1,
          1,
          1,
          1,
          1,
          1,
          1,
          1,
          1,
          1,
          1,
          1,
          1,
          1,
          1,
          1,
          1,
          1,
          1,
          1,
          1,
          1,
          1,
          1,
          1,
          1,
          1,
          1,
          1,
          1,
          1,
          1,
          1,
          1,
          1,
          1,
          1,
          1,
          1,
          1,
          1,
          1,
          1,
          1,
          1,
          1,
          1,
          1,
          1,
          1,
          1,
          1,
          1,
          1,
          1,
          1,
          1,
          1,
          1,
          1,
          1,
          1,
          1,
          1,
          1,
          1,
          1,
          1,
          1,
          1,
          1,
          1,
          1,
          1,
          1,
          1,
          1,
          1,
          1,
          1,
          1,
          1,
          1,
          1,
          1,
          1,
          1,
          1,
          1,
          1,
          1,
          1,
          1,
          1,
          1,
          1,
          1,
          1,
          1,
          1,
          1,
          1,
          1,
          1,
          1,
          1,
          1,
          1,
          1,
          1,
          1,
          1,
          1,
          1,
          1,
          1,
          1,
          1,
          1,
          1,
          1,
          1,
          1,
          1,
          1,
          1,
          1,
          1,
          1,
          1,
          1,
          1,
          1,
          1,
          1,
          1,
          1,
          1,
          1,
          1,
          1,
          1,
          1,
          1,
          1,
          1,
          1,
          1,
          1,
          1,
          1,
          1,
          1,
          1,
          1,
          1,
          1,
          1,
          1,
          1,
          1,
          1,
          1,
          1,
          1,
          1,
          1,
          1,
          1,
          1,
          1,
          1,
          1,
          1,
          1,
          1,
          1,
          1,
          1,
          1,
          1,
          1,
          1,
          1,
          1,
          1,
          1,
          1,
          1,
          1,
          1,
          1,
          1,
          1,
          1,
          1,
          1,
          1,
          1,
          1,
          1,
          1,
          1,
          1,
          1,
          1,
          1,
          1,
          1,
          1,
          1,
          1,
          1,
          1,
          1,
          1,
          1,
          1,
          1,
          1,
          1,
          1,
          1,
          1,
          1,
          1,
          1,
          1,
          1,
          1,
          1,
          1,
          1,
          1,
          1,
          1,
          1,
          1,
          1,
          1,
          1,
          1,
          1,
          1
         ]
        }
       ],
       "layout": {
        "template": {
         "data": {
          "bar": [
           {
            "error_x": {
             "color": "#2a3f5f"
            },
            "error_y": {
             "color": "#2a3f5f"
            },
            "marker": {
             "line": {
              "color": "#E5ECF6",
              "width": 0.5
             },
             "pattern": {
              "fillmode": "overlay",
              "size": 10,
              "solidity": 0.2
             }
            },
            "type": "bar"
           }
          ],
          "barpolar": [
           {
            "marker": {
             "line": {
              "color": "#E5ECF6",
              "width": 0.5
             },
             "pattern": {
              "fillmode": "overlay",
              "size": 10,
              "solidity": 0.2
             }
            },
            "type": "barpolar"
           }
          ],
          "carpet": [
           {
            "aaxis": {
             "endlinecolor": "#2a3f5f",
             "gridcolor": "white",
             "linecolor": "white",
             "minorgridcolor": "white",
             "startlinecolor": "#2a3f5f"
            },
            "baxis": {
             "endlinecolor": "#2a3f5f",
             "gridcolor": "white",
             "linecolor": "white",
             "minorgridcolor": "white",
             "startlinecolor": "#2a3f5f"
            },
            "type": "carpet"
           }
          ],
          "choropleth": [
           {
            "colorbar": {
             "outlinewidth": 0,
             "ticks": ""
            },
            "type": "choropleth"
           }
          ],
          "contour": [
           {
            "colorbar": {
             "outlinewidth": 0,
             "ticks": ""
            },
            "colorscale": [
             [
              0,
              "#0d0887"
             ],
             [
              0.1111111111111111,
              "#46039f"
             ],
             [
              0.2222222222222222,
              "#7201a8"
             ],
             [
              0.3333333333333333,
              "#9c179e"
             ],
             [
              0.4444444444444444,
              "#bd3786"
             ],
             [
              0.5555555555555556,
              "#d8576b"
             ],
             [
              0.6666666666666666,
              "#ed7953"
             ],
             [
              0.7777777777777778,
              "#fb9f3a"
             ],
             [
              0.8888888888888888,
              "#fdca26"
             ],
             [
              1,
              "#f0f921"
             ]
            ],
            "type": "contour"
           }
          ],
          "contourcarpet": [
           {
            "colorbar": {
             "outlinewidth": 0,
             "ticks": ""
            },
            "type": "contourcarpet"
           }
          ],
          "heatmap": [
           {
            "colorbar": {
             "outlinewidth": 0,
             "ticks": ""
            },
            "colorscale": [
             [
              0,
              "#0d0887"
             ],
             [
              0.1111111111111111,
              "#46039f"
             ],
             [
              0.2222222222222222,
              "#7201a8"
             ],
             [
              0.3333333333333333,
              "#9c179e"
             ],
             [
              0.4444444444444444,
              "#bd3786"
             ],
             [
              0.5555555555555556,
              "#d8576b"
             ],
             [
              0.6666666666666666,
              "#ed7953"
             ],
             [
              0.7777777777777778,
              "#fb9f3a"
             ],
             [
              0.8888888888888888,
              "#fdca26"
             ],
             [
              1,
              "#f0f921"
             ]
            ],
            "type": "heatmap"
           }
          ],
          "histogram": [
           {
            "marker": {
             "pattern": {
              "fillmode": "overlay",
              "size": 10,
              "solidity": 0.2
             }
            },
            "type": "histogram"
           }
          ],
          "histogram2d": [
           {
            "colorbar": {
             "outlinewidth": 0,
             "ticks": ""
            },
            "colorscale": [
             [
              0,
              "#0d0887"
             ],
             [
              0.1111111111111111,
              "#46039f"
             ],
             [
              0.2222222222222222,
              "#7201a8"
             ],
             [
              0.3333333333333333,
              "#9c179e"
             ],
             [
              0.4444444444444444,
              "#bd3786"
             ],
             [
              0.5555555555555556,
              "#d8576b"
             ],
             [
              0.6666666666666666,
              "#ed7953"
             ],
             [
              0.7777777777777778,
              "#fb9f3a"
             ],
             [
              0.8888888888888888,
              "#fdca26"
             ],
             [
              1,
              "#f0f921"
             ]
            ],
            "type": "histogram2d"
           }
          ],
          "histogram2dcontour": [
           {
            "colorbar": {
             "outlinewidth": 0,
             "ticks": ""
            },
            "colorscale": [
             [
              0,
              "#0d0887"
             ],
             [
              0.1111111111111111,
              "#46039f"
             ],
             [
              0.2222222222222222,
              "#7201a8"
             ],
             [
              0.3333333333333333,
              "#9c179e"
             ],
             [
              0.4444444444444444,
              "#bd3786"
             ],
             [
              0.5555555555555556,
              "#d8576b"
             ],
             [
              0.6666666666666666,
              "#ed7953"
             ],
             [
              0.7777777777777778,
              "#fb9f3a"
             ],
             [
              0.8888888888888888,
              "#fdca26"
             ],
             [
              1,
              "#f0f921"
             ]
            ],
            "type": "histogram2dcontour"
           }
          ],
          "mesh3d": [
           {
            "colorbar": {
             "outlinewidth": 0,
             "ticks": ""
            },
            "type": "mesh3d"
           }
          ],
          "parcoords": [
           {
            "line": {
             "colorbar": {
              "outlinewidth": 0,
              "ticks": ""
             }
            },
            "type": "parcoords"
           }
          ],
          "pie": [
           {
            "automargin": true,
            "type": "pie"
           }
          ],
          "scatter": [
           {
            "fillpattern": {
             "fillmode": "overlay",
             "size": 10,
             "solidity": 0.2
            },
            "type": "scatter"
           }
          ],
          "scatter3d": [
           {
            "line": {
             "colorbar": {
              "outlinewidth": 0,
              "ticks": ""
             }
            },
            "marker": {
             "colorbar": {
              "outlinewidth": 0,
              "ticks": ""
             }
            },
            "type": "scatter3d"
           }
          ],
          "scattercarpet": [
           {
            "marker": {
             "colorbar": {
              "outlinewidth": 0,
              "ticks": ""
             }
            },
            "type": "scattercarpet"
           }
          ],
          "scattergeo": [
           {
            "marker": {
             "colorbar": {
              "outlinewidth": 0,
              "ticks": ""
             }
            },
            "type": "scattergeo"
           }
          ],
          "scattergl": [
           {
            "marker": {
             "colorbar": {
              "outlinewidth": 0,
              "ticks": ""
             }
            },
            "type": "scattergl"
           }
          ],
          "scattermap": [
           {
            "marker": {
             "colorbar": {
              "outlinewidth": 0,
              "ticks": ""
             }
            },
            "type": "scattermap"
           }
          ],
          "scattermapbox": [
           {
            "marker": {
             "colorbar": {
              "outlinewidth": 0,
              "ticks": ""
             }
            },
            "type": "scattermapbox"
           }
          ],
          "scatterpolar": [
           {
            "marker": {
             "colorbar": {
              "outlinewidth": 0,
              "ticks": ""
             }
            },
            "type": "scatterpolar"
           }
          ],
          "scatterpolargl": [
           {
            "marker": {
             "colorbar": {
              "outlinewidth": 0,
              "ticks": ""
             }
            },
            "type": "scatterpolargl"
           }
          ],
          "scatterternary": [
           {
            "marker": {
             "colorbar": {
              "outlinewidth": 0,
              "ticks": ""
             }
            },
            "type": "scatterternary"
           }
          ],
          "surface": [
           {
            "colorbar": {
             "outlinewidth": 0,
             "ticks": ""
            },
            "colorscale": [
             [
              0,
              "#0d0887"
             ],
             [
              0.1111111111111111,
              "#46039f"
             ],
             [
              0.2222222222222222,
              "#7201a8"
             ],
             [
              0.3333333333333333,
              "#9c179e"
             ],
             [
              0.4444444444444444,
              "#bd3786"
             ],
             [
              0.5555555555555556,
              "#d8576b"
             ],
             [
              0.6666666666666666,
              "#ed7953"
             ],
             [
              0.7777777777777778,
              "#fb9f3a"
             ],
             [
              0.8888888888888888,
              "#fdca26"
             ],
             [
              1,
              "#f0f921"
             ]
            ],
            "type": "surface"
           }
          ],
          "table": [
           {
            "cells": {
             "fill": {
              "color": "#EBF0F8"
             },
             "line": {
              "color": "white"
             }
            },
            "header": {
             "fill": {
              "color": "#C8D4E3"
             },
             "line": {
              "color": "white"
             }
            },
            "type": "table"
           }
          ]
         },
         "layout": {
          "annotationdefaults": {
           "arrowcolor": "#2a3f5f",
           "arrowhead": 0,
           "arrowwidth": 1
          },
          "autotypenumbers": "strict",
          "coloraxis": {
           "colorbar": {
            "outlinewidth": 0,
            "ticks": ""
           }
          },
          "colorscale": {
           "diverging": [
            [
             0,
             "#8e0152"
            ],
            [
             0.1,
             "#c51b7d"
            ],
            [
             0.2,
             "#de77ae"
            ],
            [
             0.3,
             "#f1b6da"
            ],
            [
             0.4,
             "#fde0ef"
            ],
            [
             0.5,
             "#f7f7f7"
            ],
            [
             0.6,
             "#e6f5d0"
            ],
            [
             0.7,
             "#b8e186"
            ],
            [
             0.8,
             "#7fbc41"
            ],
            [
             0.9,
             "#4d9221"
            ],
            [
             1,
             "#276419"
            ]
           ],
           "sequential": [
            [
             0,
             "#0d0887"
            ],
            [
             0.1111111111111111,
             "#46039f"
            ],
            [
             0.2222222222222222,
             "#7201a8"
            ],
            [
             0.3333333333333333,
             "#9c179e"
            ],
            [
             0.4444444444444444,
             "#bd3786"
            ],
            [
             0.5555555555555556,
             "#d8576b"
            ],
            [
             0.6666666666666666,
             "#ed7953"
            ],
            [
             0.7777777777777778,
             "#fb9f3a"
            ],
            [
             0.8888888888888888,
             "#fdca26"
            ],
            [
             1,
             "#f0f921"
            ]
           ],
           "sequentialminus": [
            [
             0,
             "#0d0887"
            ],
            [
             0.1111111111111111,
             "#46039f"
            ],
            [
             0.2222222222222222,
             "#7201a8"
            ],
            [
             0.3333333333333333,
             "#9c179e"
            ],
            [
             0.4444444444444444,
             "#bd3786"
            ],
            [
             0.5555555555555556,
             "#d8576b"
            ],
            [
             0.6666666666666666,
             "#ed7953"
            ],
            [
             0.7777777777777778,
             "#fb9f3a"
            ],
            [
             0.8888888888888888,
             "#fdca26"
            ],
            [
             1,
             "#f0f921"
            ]
           ]
          },
          "colorway": [
           "#636efa",
           "#EF553B",
           "#00cc96",
           "#ab63fa",
           "#FFA15A",
           "#19d3f3",
           "#FF6692",
           "#B6E880",
           "#FF97FF",
           "#FECB52"
          ],
          "font": {
           "color": "#2a3f5f"
          },
          "geo": {
           "bgcolor": "white",
           "lakecolor": "white",
           "landcolor": "#E5ECF6",
           "showlakes": true,
           "showland": true,
           "subunitcolor": "white"
          },
          "hoverlabel": {
           "align": "left"
          },
          "hovermode": "closest",
          "mapbox": {
           "style": "light"
          },
          "paper_bgcolor": "white",
          "plot_bgcolor": "#E5ECF6",
          "polar": {
           "angularaxis": {
            "gridcolor": "white",
            "linecolor": "white",
            "ticks": ""
           },
           "bgcolor": "#E5ECF6",
           "radialaxis": {
            "gridcolor": "white",
            "linecolor": "white",
            "ticks": ""
           }
          },
          "scene": {
           "xaxis": {
            "backgroundcolor": "#E5ECF6",
            "gridcolor": "white",
            "gridwidth": 2,
            "linecolor": "white",
            "showbackground": true,
            "ticks": "",
            "zerolinecolor": "white"
           },
           "yaxis": {
            "backgroundcolor": "#E5ECF6",
            "gridcolor": "white",
            "gridwidth": 2,
            "linecolor": "white",
            "showbackground": true,
            "ticks": "",
            "zerolinecolor": "white"
           },
           "zaxis": {
            "backgroundcolor": "#E5ECF6",
            "gridcolor": "white",
            "gridwidth": 2,
            "linecolor": "white",
            "showbackground": true,
            "ticks": "",
            "zerolinecolor": "white"
           }
          },
          "shapedefaults": {
           "line": {
            "color": "#2a3f5f"
           }
          },
          "ternary": {
           "aaxis": {
            "gridcolor": "white",
            "linecolor": "white",
            "ticks": ""
           },
           "baxis": {
            "gridcolor": "white",
            "linecolor": "white",
            "ticks": ""
           },
           "bgcolor": "#E5ECF6",
           "caxis": {
            "gridcolor": "white",
            "linecolor": "white",
            "ticks": ""
           }
          },
          "title": {
           "x": 0.05
          },
          "xaxis": {
           "automargin": true,
           "gridcolor": "white",
           "linecolor": "white",
           "ticks": "",
           "title": {
            "standoff": 15
           },
           "zerolinecolor": "white",
           "zerolinewidth": 2
          },
          "yaxis": {
           "automargin": true,
           "gridcolor": "white",
           "linecolor": "white",
           "ticks": "",
           "title": {
            "standoff": 15
           },
           "zerolinecolor": "white",
           "zerolinewidth": 2
          }
         }
        },
        "yaxis": {
         "title": {
          "text": "frequency"
         }
        }
       }
      }
     },
     "metadata": {},
     "output_type": "display_data"
    },
    {
     "data": {
      "application/vnd.plotly.v1+json": {
       "config": {
        "plotlyServerURL": "https://plot.ly"
       },
       "data": [
        {
         "hoverinfo": "label+value",
         "labels": [
          "technology",
          "good",
          "one",
          "going",
          "market",
          "silver",
          "like",
          "Star",
          "aviation",
          "think",
          "see",
          "Trump",
          "analysis",
          "data",
          "electric",
          "time",
          "potential",
          "US",
          "economy",
          "Airlines"
         ],
         "marker": {
          "line": {
           "color": "black",
           "width": 0.5
          }
         },
         "textfont": {
          "size": 14
         },
         "textinfo": "percent",
         "type": "pie",
         "values": [
          11,
          11,
          9,
          9,
          8,
          8,
          8,
          8,
          8,
          8,
          7,
          7,
          7,
          6,
          6,
          6,
          6,
          6,
          6,
          6
         ]
        }
       ],
       "layout": {
        "template": {
         "data": {
          "bar": [
           {
            "error_x": {
             "color": "#2a3f5f"
            },
            "error_y": {
             "color": "#2a3f5f"
            },
            "marker": {
             "line": {
              "color": "#E5ECF6",
              "width": 0.5
             },
             "pattern": {
              "fillmode": "overlay",
              "size": 10,
              "solidity": 0.2
             }
            },
            "type": "bar"
           }
          ],
          "barpolar": [
           {
            "marker": {
             "line": {
              "color": "#E5ECF6",
              "width": 0.5
             },
             "pattern": {
              "fillmode": "overlay",
              "size": 10,
              "solidity": 0.2
             }
            },
            "type": "barpolar"
           }
          ],
          "carpet": [
           {
            "aaxis": {
             "endlinecolor": "#2a3f5f",
             "gridcolor": "white",
             "linecolor": "white",
             "minorgridcolor": "white",
             "startlinecolor": "#2a3f5f"
            },
            "baxis": {
             "endlinecolor": "#2a3f5f",
             "gridcolor": "white",
             "linecolor": "white",
             "minorgridcolor": "white",
             "startlinecolor": "#2a3f5f"
            },
            "type": "carpet"
           }
          ],
          "choropleth": [
           {
            "colorbar": {
             "outlinewidth": 0,
             "ticks": ""
            },
            "type": "choropleth"
           }
          ],
          "contour": [
           {
            "colorbar": {
             "outlinewidth": 0,
             "ticks": ""
            },
            "colorscale": [
             [
              0,
              "#0d0887"
             ],
             [
              0.1111111111111111,
              "#46039f"
             ],
             [
              0.2222222222222222,
              "#7201a8"
             ],
             [
              0.3333333333333333,
              "#9c179e"
             ],
             [
              0.4444444444444444,
              "#bd3786"
             ],
             [
              0.5555555555555556,
              "#d8576b"
             ],
             [
              0.6666666666666666,
              "#ed7953"
             ],
             [
              0.7777777777777778,
              "#fb9f3a"
             ],
             [
              0.8888888888888888,
              "#fdca26"
             ],
             [
              1,
              "#f0f921"
             ]
            ],
            "type": "contour"
           }
          ],
          "contourcarpet": [
           {
            "colorbar": {
             "outlinewidth": 0,
             "ticks": ""
            },
            "type": "contourcarpet"
           }
          ],
          "heatmap": [
           {
            "colorbar": {
             "outlinewidth": 0,
             "ticks": ""
            },
            "colorscale": [
             [
              0,
              "#0d0887"
             ],
             [
              0.1111111111111111,
              "#46039f"
             ],
             [
              0.2222222222222222,
              "#7201a8"
             ],
             [
              0.3333333333333333,
              "#9c179e"
             ],
             [
              0.4444444444444444,
              "#bd3786"
             ],
             [
              0.5555555555555556,
              "#d8576b"
             ],
             [
              0.6666666666666666,
              "#ed7953"
             ],
             [
              0.7777777777777778,
              "#fb9f3a"
             ],
             [
              0.8888888888888888,
              "#fdca26"
             ],
             [
              1,
              "#f0f921"
             ]
            ],
            "type": "heatmap"
           }
          ],
          "histogram": [
           {
            "marker": {
             "pattern": {
              "fillmode": "overlay",
              "size": 10,
              "solidity": 0.2
             }
            },
            "type": "histogram"
           }
          ],
          "histogram2d": [
           {
            "colorbar": {
             "outlinewidth": 0,
             "ticks": ""
            },
            "colorscale": [
             [
              0,
              "#0d0887"
             ],
             [
              0.1111111111111111,
              "#46039f"
             ],
             [
              0.2222222222222222,
              "#7201a8"
             ],
             [
              0.3333333333333333,
              "#9c179e"
             ],
             [
              0.4444444444444444,
              "#bd3786"
             ],
             [
              0.5555555555555556,
              "#d8576b"
             ],
             [
              0.6666666666666666,
              "#ed7953"
             ],
             [
              0.7777777777777778,
              "#fb9f3a"
             ],
             [
              0.8888888888888888,
              "#fdca26"
             ],
             [
              1,
              "#f0f921"
             ]
            ],
            "type": "histogram2d"
           }
          ],
          "histogram2dcontour": [
           {
            "colorbar": {
             "outlinewidth": 0,
             "ticks": ""
            },
            "colorscale": [
             [
              0,
              "#0d0887"
             ],
             [
              0.1111111111111111,
              "#46039f"
             ],
             [
              0.2222222222222222,
              "#7201a8"
             ],
             [
              0.3333333333333333,
              "#9c179e"
             ],
             [
              0.4444444444444444,
              "#bd3786"
             ],
             [
              0.5555555555555556,
              "#d8576b"
             ],
             [
              0.6666666666666666,
              "#ed7953"
             ],
             [
              0.7777777777777778,
              "#fb9f3a"
             ],
             [
              0.8888888888888888,
              "#fdca26"
             ],
             [
              1,
              "#f0f921"
             ]
            ],
            "type": "histogram2dcontour"
           }
          ],
          "mesh3d": [
           {
            "colorbar": {
             "outlinewidth": 0,
             "ticks": ""
            },
            "type": "mesh3d"
           }
          ],
          "parcoords": [
           {
            "line": {
             "colorbar": {
              "outlinewidth": 0,
              "ticks": ""
             }
            },
            "type": "parcoords"
           }
          ],
          "pie": [
           {
            "automargin": true,
            "type": "pie"
           }
          ],
          "scatter": [
           {
            "fillpattern": {
             "fillmode": "overlay",
             "size": 10,
             "solidity": 0.2
            },
            "type": "scatter"
           }
          ],
          "scatter3d": [
           {
            "line": {
             "colorbar": {
              "outlinewidth": 0,
              "ticks": ""
             }
            },
            "marker": {
             "colorbar": {
              "outlinewidth": 0,
              "ticks": ""
             }
            },
            "type": "scatter3d"
           }
          ],
          "scattercarpet": [
           {
            "marker": {
             "colorbar": {
              "outlinewidth": 0,
              "ticks": ""
             }
            },
            "type": "scattercarpet"
           }
          ],
          "scattergeo": [
           {
            "marker": {
             "colorbar": {
              "outlinewidth": 0,
              "ticks": ""
             }
            },
            "type": "scattergeo"
           }
          ],
          "scattergl": [
           {
            "marker": {
             "colorbar": {
              "outlinewidth": 0,
              "ticks": ""
             }
            },
            "type": "scattergl"
           }
          ],
          "scattermap": [
           {
            "marker": {
             "colorbar": {
              "outlinewidth": 0,
              "ticks": ""
             }
            },
            "type": "scattermap"
           }
          ],
          "scattermapbox": [
           {
            "marker": {
             "colorbar": {
              "outlinewidth": 0,
              "ticks": ""
             }
            },
            "type": "scattermapbox"
           }
          ],
          "scatterpolar": [
           {
            "marker": {
             "colorbar": {
              "outlinewidth": 0,
              "ticks": ""
             }
            },
            "type": "scatterpolar"
           }
          ],
          "scatterpolargl": [
           {
            "marker": {
             "colorbar": {
              "outlinewidth": 0,
              "ticks": ""
             }
            },
            "type": "scatterpolargl"
           }
          ],
          "scatterternary": [
           {
            "marker": {
             "colorbar": {
              "outlinewidth": 0,
              "ticks": ""
             }
            },
            "type": "scatterternary"
           }
          ],
          "surface": [
           {
            "colorbar": {
             "outlinewidth": 0,
             "ticks": ""
            },
            "colorscale": [
             [
              0,
              "#0d0887"
             ],
             [
              0.1111111111111111,
              "#46039f"
             ],
             [
              0.2222222222222222,
              "#7201a8"
             ],
             [
              0.3333333333333333,
              "#9c179e"
             ],
             [
              0.4444444444444444,
              "#bd3786"
             ],
             [
              0.5555555555555556,
              "#d8576b"
             ],
             [
              0.6666666666666666,
              "#ed7953"
             ],
             [
              0.7777777777777778,
              "#fb9f3a"
             ],
             [
              0.8888888888888888,
              "#fdca26"
             ],
             [
              1,
              "#f0f921"
             ]
            ],
            "type": "surface"
           }
          ],
          "table": [
           {
            "cells": {
             "fill": {
              "color": "#EBF0F8"
             },
             "line": {
              "color": "white"
             }
            },
            "header": {
             "fill": {
              "color": "#C8D4E3"
             },
             "line": {
              "color": "white"
             }
            },
            "type": "table"
           }
          ]
         },
         "layout": {
          "annotationdefaults": {
           "arrowcolor": "#2a3f5f",
           "arrowhead": 0,
           "arrowwidth": 1
          },
          "autotypenumbers": "strict",
          "coloraxis": {
           "colorbar": {
            "outlinewidth": 0,
            "ticks": ""
           }
          },
          "colorscale": {
           "diverging": [
            [
             0,
             "#8e0152"
            ],
            [
             0.1,
             "#c51b7d"
            ],
            [
             0.2,
             "#de77ae"
            ],
            [
             0.3,
             "#f1b6da"
            ],
            [
             0.4,
             "#fde0ef"
            ],
            [
             0.5,
             "#f7f7f7"
            ],
            [
             0.6,
             "#e6f5d0"
            ],
            [
             0.7,
             "#b8e186"
            ],
            [
             0.8,
             "#7fbc41"
            ],
            [
             0.9,
             "#4d9221"
            ],
            [
             1,
             "#276419"
            ]
           ],
           "sequential": [
            [
             0,
             "#0d0887"
            ],
            [
             0.1111111111111111,
             "#46039f"
            ],
            [
             0.2222222222222222,
             "#7201a8"
            ],
            [
             0.3333333333333333,
             "#9c179e"
            ],
            [
             0.4444444444444444,
             "#bd3786"
            ],
            [
             0.5555555555555556,
             "#d8576b"
            ],
            [
             0.6666666666666666,
             "#ed7953"
            ],
            [
             0.7777777777777778,
             "#fb9f3a"
            ],
            [
             0.8888888888888888,
             "#fdca26"
            ],
            [
             1,
             "#f0f921"
            ]
           ],
           "sequentialminus": [
            [
             0,
             "#0d0887"
            ],
            [
             0.1111111111111111,
             "#46039f"
            ],
            [
             0.2222222222222222,
             "#7201a8"
            ],
            [
             0.3333333333333333,
             "#9c179e"
            ],
            [
             0.4444444444444444,
             "#bd3786"
            ],
            [
             0.5555555555555556,
             "#d8576b"
            ],
            [
             0.6666666666666666,
             "#ed7953"
            ],
            [
             0.7777777777777778,
             "#fb9f3a"
            ],
            [
             0.8888888888888888,
             "#fdca26"
            ],
            [
             1,
             "#f0f921"
            ]
           ]
          },
          "colorway": [
           "#636efa",
           "#EF553B",
           "#00cc96",
           "#ab63fa",
           "#FFA15A",
           "#19d3f3",
           "#FF6692",
           "#B6E880",
           "#FF97FF",
           "#FECB52"
          ],
          "font": {
           "color": "#2a3f5f"
          },
          "geo": {
           "bgcolor": "white",
           "lakecolor": "white",
           "landcolor": "#E5ECF6",
           "showlakes": true,
           "showland": true,
           "subunitcolor": "white"
          },
          "hoverlabel": {
           "align": "left"
          },
          "hovermode": "closest",
          "mapbox": {
           "style": "light"
          },
          "paper_bgcolor": "white",
          "plot_bgcolor": "#E5ECF6",
          "polar": {
           "angularaxis": {
            "gridcolor": "white",
            "linecolor": "white",
            "ticks": ""
           },
           "bgcolor": "#E5ECF6",
           "radialaxis": {
            "gridcolor": "white",
            "linecolor": "white",
            "ticks": ""
           }
          },
          "scene": {
           "xaxis": {
            "backgroundcolor": "#E5ECF6",
            "gridcolor": "white",
            "gridwidth": 2,
            "linecolor": "white",
            "showbackground": true,
            "ticks": "",
            "zerolinecolor": "white"
           },
           "yaxis": {
            "backgroundcolor": "#E5ECF6",
            "gridcolor": "white",
            "gridwidth": 2,
            "linecolor": "white",
            "showbackground": true,
            "ticks": "",
            "zerolinecolor": "white"
           },
           "zaxis": {
            "backgroundcolor": "#E5ECF6",
            "gridcolor": "white",
            "gridwidth": 2,
            "linecolor": "white",
            "showbackground": true,
            "ticks": "",
            "zerolinecolor": "white"
           }
          },
          "shapedefaults": {
           "line": {
            "color": "#2a3f5f"
           }
          },
          "ternary": {
           "aaxis": {
            "gridcolor": "white",
            "linecolor": "white",
            "ticks": ""
           },
           "baxis": {
            "gridcolor": "white",
            "linecolor": "white",
            "ticks": ""
           },
           "bgcolor": "#E5ECF6",
           "caxis": {
            "gridcolor": "white",
            "linecolor": "white",
            "ticks": ""
           }
          },
          "title": {
           "x": 0.05
          },
          "xaxis": {
           "automargin": true,
           "gridcolor": "white",
           "linecolor": "white",
           "ticks": "",
           "title": {
            "standoff": 15
           },
           "zerolinecolor": "white",
           "zerolinewidth": 2
          },
          "yaxis": {
           "automargin": true,
           "gridcolor": "white",
           "linecolor": "white",
           "ticks": "",
           "title": {
            "standoff": 15
           },
           "zerolinecolor": "white",
           "zerolinewidth": 2
          }
         }
        },
        "width": 700
       }
      }
     },
     "metadata": {},
     "output_type": "display_data"
    }
   ],
   "source": [
    "# Analysis attempt on the positive words\n",
    "import plotly.graph_objects as go\n",
    "\n",
    "pos_frequency = pd.Series(pos).value_counts()\n",
    "linefig = go.Figure(go.Scatter(x=pos_frequency.index,\n",
    "                               y=pos_frequency.to_list(),\n",
    "                               mode='markers',\n",
    "                               line=dict(color='dodgerblue')))\n",
    "\n",
    "linefig.update_layout(yaxis_title='frequency')\n",
    "linefig.show()\n",
    "\n",
    "# Top 20 words appeared in the positive data\n",
    "# pie_colors = []\n",
    "piefig = go.Figure(go.Pie(values=pos_frequency[:20].to_list(),\n",
    "                          labels=pos_frequency[:20].index))\n",
    "\n",
    "piefig.update_layout(width=700)\n",
    "piefig.update_traces(hoverinfo='label+value', textinfo='percent', textfont_size=14,\n",
    "                     marker=dict(line=dict(color='black', width=0.5)))\n",
    "piefig.show()\n"
   ]
  },
  {
   "cell_type": "code",
   "execution_count": 289,
   "metadata": {},
   "outputs": [
    {
     "data": {
      "application/vnd.plotly.v1+json": {
       "config": {
        "plotlyServerURL": "https://plot.ly"
       },
       "data": [
        {
         "marker": {
          "color": "tomato"
         },
         "type": "bar",
         "width": 0.8,
         "x": [
          "Trump",
          "US",
          "China",
          "like",
          "even",
          "market",
          "going",
          "think",
          "He",
          "people",
          "one",
          "tariffs",
          "money",
          "get",
          "make",
          "economy",
          "see",
          "trade",
          "world",
          "still",
          "time",
          "Xi",
          "wants",
          "back",
          "American",
          "point",
          "go",
          "much",
          "us",
          "dollar",
          "good",
          "shit",
          "So",
          "last",
          "president",
          "USA",
          "things",
          "end",
          "term",
          "sure",
          "companies",
          "say",
          "buy",
          "sell",
          "way",
          "week",
          "America",
          "bad",
          "thing",
          "feel",
          "country",
          "seems",
          "Americans",
          "bonds",
          "fuck",
          "want",
          "day",
          "support",
          "Republican",
          "know",
          "administration",
          "tariff",
          "right",
          "believe",
          "In",
          "long",
          "first",
          "years",
          "reason",
          "fucking",
          "selling",
          "trading",
          "need",
          "buying",
          "countries",
          "trump",
          "There",
          "war",
          "People",
          "Chinese",
          "hurt",
          "take",
          "better",
          "government",
          "great",
          "free",
          "done",
          "Fuck",
          "stock",
          "today",
          "price",
          "prison",
          "called",
          "treasuries",
          "Just",
          "guy",
          "big",
          "investment",
          "happen",
          "next",
          "makes",
          "rest",
          "every",
          "nothing",
          "care",
          "life",
          "bond",
          "well",
          "worse",
          "least",
          "retard",
          "allies",
          "face",
          "happening",
          "trying",
          "higher",
          "put",
          "trust",
          "come",
          "got",
          "power",
          "lost",
          "clown",
          "enough",
          "part",
          "goods",
          "hold",
          "understand",
          "matter",
          "gold",
          "goes",
          "idea",
          "democracy",
          "stupid",
          "went",
          "work",
          "person",
          "read",
          "media",
          "state",
          "use",
          "vote",
          "love",
          "happens",
          "Has",
          "moving",
          "plan",
          "Fed",
          "looking",
          "weeks",
          "dollars",
          "away",
          "safe",
          "place",
          "high",
          "let",
          "House",
          "prices",
          "giving",
          "try",
          "office",
          "White",
          "paper",
          "stuff",
          "sort",
          "win",
          "cards",
          "puts",
          "insane",
          "comes",
          "assets",
          "All",
          "knows",
          "blame",
          "may",
          "Now",
          "gets",
          "whole",
          "risk",
          "due",
          "ago",
          "getting",
          "lot",
          "left",
          "warning",
          "majority",
          "stable",
          "deal",
          "cut",
          "loss",
          "month",
          "Japan",
          "show",
          "thought",
          "worst",
          "true",
          "paying",
          "Target",
          "lose",
          "earnings",
          "services",
          "seen",
          "silver",
          "wrong",
          "Can",
          "full",
          "night",
          "At",
          "made",
          "markets",
          "dump",
          "pretty",
          "based",
          "land",
          "store",
          "used",
          "orange",
          "Or",
          "starting",
          "china",
          "elected",
          "white",
          "political",
          "chicks",
          "living",
          "slave",
          "worked",
          "Russia",
          "Well",
          "less",
          "fair",
          "Remember",
          "drop",
          "effect",
          "stop",
          "brain",
          "dead",
          "fell",
          "winning",
          "bullshit",
          "10",
          "recession",
          "man",
          "current",
          "Then",
          "leader",
          "destroying",
          "slow",
          "lots",
          "making",
          "two",
          "give",
          "telling",
          "coming",
          "expect",
          "policy",
          "crashing",
          "job",
          "tired",
          "play",
          "game",
          "congress",
          "products",
          "times",
          "fan",
          "election",
          "zero",
          "massive",
          "allowed",
          "Look",
          "tank",
          "nations",
          "hours",
          "replaced",
          "wanted",
          "realize",
          "shorts",
          "reading",
          "imports",
          "build",
          "look",
          "clear",
          "joke",
          "Even",
          "find",
          "screwed",
          "debt",
          "U.S.",
          "invest",
          "call",
          "kind",
          "similar",
          "car",
          "save",
          "attention",
          "crash",
          "backed",
          "strategy",
          "moment",
          "Great",
          "half",
          "ass",
          "forward",
          "hard",
          "sentiment",
          "history",
          "retarded",
          "thinking",
          "Dude",
          "days",
          "bull",
          "entire",
          "depressing",
          "Money",
          "square",
          "likely",
          "step",
          "needs",
          "rich",
          "mind",
          "news",
          "calls",
          "ending",
          "sand",
          "school",
          "business",
          "head",
          "bankrupt",
          "writing",
          "cat",
          "raise",
          "gave",
          "arguing",
          "Poor",
          "social",
          "Every",
          "rates",
          "trusted",
          "says",
          "suffer",
          "expecting",
          "check",
          "memory",
          "crimes",
          "walk",
          "prove",
          "willing",
          "weak",
          "compare",
          "took",
          "base",
          "economic",
          "far",
          "Apple",
          "players",
          "told",
          "sold",
          "mentioned",
          "sellers",
          "Other",
          "crashed",
          "kissing",
          "jail",
          "areas",
          "actual",
          "PR",
          "spin",
          "fake",
          "Ford",
          "contract",
          "safety",
          "gone",
          "alone",
          "worth",
          "working",
          "sounds",
          "Sir",
          "ONE",
          "hear",
          "biggest",
          "Do",
          "personal",
          "spike",
          "center",
          "nightmare",
          "ally",
          "negotiating",
          "missing",
          "shipping",
          "problems",
          "pandemic",
          "rampant",
          "12",
          "harder",
          "short",
          "decades",
          "happy",
          "wealth",
          "tends",
          "affect",
          "reverse",
          "late",
          "Imagine",
          "coin",
          "stepping",
          "lying",
          "tell",
          "oil",
          "parts",
          "cause",
          "course",
          "Make",
          "middle",
          "homeless",
          "happened",
          "morons",
          "Bad",
          "real",
          "preparing",
          "single",
          "live",
          "stronger",
          "weaker",
          "playing",
          "version",
          "marketing",
          "close",
          "supply",
          "pause",
          "control",
          "weekend",
          "agree",
          "thanks",
          "thinks",
          "impact",
          "debacle",
          "Are",
          "pumps",
          "avoid",
          "100",
          "bomb",
          "third",
          "information",
          "ok",
          "run",
          "laugh",
          "looked",
          "steal",
          "protections",
          "dude",
          "comment",
          "bit",
          "ensures",
          "felt",
          "talking",
          "exports",
          "best",
          "surrounded",
          "corrupt",
          "guess",
          "second",
          "rational",
          "cult",
          "wild",
          "90",
          "rising",
          "Wow",
          "ordered",
          "import",
          "declare",
          "except",
          "sleep",
          "normal",
          "El",
          "poor",
          "top",
          "pretend",
          "funny",
          "talk",
          "ca",
          "claims",
          "Silver",
          "problem",
          "pay",
          "SPY",
          "Truss",
          "loans",
          "phone",
          "mean",
          "deep",
          "longer",
          "concern",
          "near",
          "bed",
          "damage",
          "expectations",
          "Good",
          "company",
          "Tell",
          "totalitarian",
          "lie",
          "Wait",
          "complete",
          "waiting",
          "bank",
          "forget",
          "pushing",
          "expert",
          "ones",
          "quick",
          "decisions",
          "rule",
          "law",
          "new",
          "No",
          "equities",
          "sides",
          "network",
          "protect",
          "businesses",
          "teslas",
          "voted",
          "genius",
          "million",
          "model",
          "popular",
          "Trust",
          "imagine",
          "80",
          "blatant",
          "terrible",
          "change",
          "bet",
          "wonder",
          "manipulation",
          "signs",
          "laws",
          "officials",
          "disaster",
          "fast",
          "dream",
          "retards",
          "protest",
          "LOT",
          "ensure",
          "opposite",
          "easy",
          "spent",
          "federal",
          "line",
          "criminal",
          "results",
          "report",
          "asleep",
          "case",
          "Amazon",
          "smaller",
          "Still",
          "Lots",
          "highest",
          "exact",
          "casino",
          "mental",
          "otherwise",
          "past",
          "online",
          "side",
          "spend",
          "fundamentals",
          "chair",
          "decision",
          "Only",
          "remembered",
          "little",
          "brother",
          "driving",
          "bigger",
          "fix",
          "critical",
          "sorry",
          "friends",
          "pattern",
          "move",
          "context",
          "force",
          "together",
          "situation",
          "smart",
          "lines",
          "fall",
          "takes",
          "comparison",
          "system",
          "squeeze",
          "trap",
          "halt",
          "general",
          "reporting",
          "fire",
          "guys",
          "disgusting",
          "futures",
          "invasion",
          "learn",
          "Surprise",
          "Calls",
          "respond",
          "increasing",
          "Powell",
          "Earnings",
          "brutal",
          "standstill",
          "chaos",
          "shelves",
          "walking",
          "distance",
          "loses",
          "conceded",
          "terrifying",
          "hurts",
          "planning",
          "tanking",
          "Looks",
          "given",
          "logic",
          "fucks",
          "impose",
          "somewhere",
          "irony",
          "credible",
          "eaten",
          "feels",
          "Misguided",
          "destroyed",
          "ultimate",
          "broke",
          "Worst",
          "Drinking",
          "death",
          "hour",
          "shift",
          "girls",
          "missed",
          "confused",
          "belongs",
          "As",
          "European",
          "wide",
          "Hell",
          "tells",
          "heed",
          "baffling",
          "adjacent",
          "different",
          "works",
          "growing",
          "removal",
          "Christ",
          "blink",
          "answer",
          "empty",
          "burn",
          "adjust",
          "home",
          "fold",
          "Calling",
          "embargo",
          "denial",
          "knowing",
          "Physical",
          "safest",
          "words",
          "typical",
          "rallying",
          "cry",
          "self-interests",
          "likes",
          "Ca",
          "tan",
          "regain",
          "justice",
          "Space",
          "lives",
          "local",
          "positions",
          "terms",
          "immortal",
          "cons",
          "Depression",
          "priced",
          "expectation",
          "fucker",
          "Don",
          "Trash",
          "intent",
          "pressure",
          "gains",
          "key",
          "pocket",
          "vs",
          "net",
          "rn",
          "seeing",
          "failed",
          "policies",
          "TV",
          "suckers",
          "Trade",
          "War",
          "bolster",
          "greatest",
          "pilot",
          "command",
          "vessel",
          "question",
          "epitome",
          "Party",
          "honest",
          "asking",
          "housing",
          "International",
          "Tariff",
          "Swap",
          "SHITS",
          "instrument",
          "tangerine",
          "belong",
          "24",
          "recent",
          "Let",
          "partisan",
          "forced",
          "bitching",
          "abusing",
          "bastion",
          "Does",
          "texts",
          "grief",
          "rules",
          "passed",
          "prevent",
          "cluster",
          "sitting",
          "bear",
          "responsibility",
          "underpinning",
          "obliterated",
          "flowed",
          "party",
          "lunatic",
          "data",
          "FUCK",
          "trend",
          "Did",
          "suppose",
          "highs",
          "Period",
          "Damage",
          "elect",
          "cheat",
          "consequences",
          "ends",
          "recourse",
          "universities",
          "Getting",
          "push",
          "stamp",
          "deliver",
          "anti",
          "losers",
          "looks",
          "behavior",
          "operate",
          "bending",
          "knee",
          "bong",
          "30",
          "manifestation",
          "hostility",
          "announce",
          "Strategic",
          "Harmonized",
          "utopia",
          "fairness",
          "stand",
          "overreach",
          "devalue",
          "geniuses",
          "bs",
          "CPI",
          "came",
          "Ukrainian",
          "supporter",
          "Muslim",
          "Orange",
          "poked",
          "Dragon",
          "goddamn",
          "black",
          "cheap",
          "resume",
          "Bob",
          "cadres",
          "rural",
          "villages",
          "industries",
          "Taiwanese",
          "id",
          "realized",
          "attacked",
          "borderline",
          "Sort",
          "useful",
          "cost",
          "Cool",
          "wilderness",
          "cabinet",
          "chance",
          "burned",
          "nuclear",
          "option",
          "hood",
          "accurate",
          "republicans",
          "intern",
          "sector",
          "description",
          "posted",
          "cent",
          "caught",
          "Commercial",
          "straight",
          "POISON",
          "Brother",
          "abuse",
          "leadership",
          "candidate",
          "available",
          "keeping",
          "windows",
          "treats",
          "powers",
          "requires",
          "edge",
          "laughable",
          "stances",
          "democrats",
          "blue",
          "Wild",
          "praising",
          "fictional",
          "book",
          "plans",
          "classes",
          "minus",
          "evaluate",
          "Bullshit",
          "reasonable",
          "reducing",
          "holdings",
          "northern",
          "VA",
          "toilet",
          "defense",
          "hybrid",
          "revenue",
          "models",
          "reads",
          "low",
          "timer",
          "ticking",
          "favourable",
          "negotiations",
          "Further",
          "turtles",
          "raised",
          "MORE",
          "Markets",
          "green",
          "susceptible",
          "movements",
          "dependent",
          "education",
          "screwing",
          "faster",
          "reasons",
          "accepted",
          "gas",
          "sources",
          "ban",
          "using",
          "Fucking",
          "summary",
          "qualified",
          "Doing",
          "ignorant",
          "comments",
          "Went",
          "regular",
          "monthly",
          "trip",
          "Economy",
          "food",
          "decide",
          "fate",
          "reached",
          "level",
          "inheritance",
          "ruins",
          "degraded",
          "tiring",
          "towels",
          "Felt",
          "stocks",
          "replace",
          "reacts",
          "international",
          "consumes",
          "touches",
          "platter",
          "hit",
          "bob",
          "Worse",
          "result",
          "felon",
          "acts",
          "COIN",
          "replacing",
          "fickle",
          "seconds",
          "supporters",
          "tuned",
          "Pretty",
          "sad",
          "handed",
          "assuming",
          "signing",
          "tweets",
          "drops",
          "confidence",
          "produces",
          "surplus",
          "start",
          "felons",
          "crooks",
          "serve",
          "Sell",
          "greed",
          "empires",
          "dumping",
          "sound",
          "curve",
          "North",
          "Watching",
          "proud",
          "chart",
          "draw",
          "wave",
          "public",
          "morning",
          "coffee",
          "wears",
          "rally",
          "lunch",
          "subjects",
          "turned",
          "rebound",
          "moon",
          "Making",
          "worthless",
          "FED",
          "Coin",
          "quoting",
          "Expecting",
          "dip",
          "Disgusted",
          "conditioned",
          "aggressor",
          "siding",
          "annoying",
          "ego",
          "Smart",
          "semi",
          "pale",
          "shortages",
          "favorite",
          "graph",
          "brought",
          "rode",
          "circle",
          "copy",
          "circulate",
          "Happy",
          "skills",
          "laid",
          "Will",
          "keep",
          "started",
          "hitting",
          "Sensing",
          "closet",
          "God",
          "damn",
          "battle",
          "Bringing",
          "sick",
          "speaks",
          "mad",
          "portfolios",
          "significant",
          "Americas",
          "ability",
          "sorts",
          "yields",
          "type",
          "lick",
          "proven",
          "EU",
          "group",
          "descent",
          "Google",
          "inhibited",
          "wobbling",
          "Multiply",
          "period",
          "knew",
          "walked",
          "chain",
          "Inflation",
          "vanish",
          "fairytale",
          "FIXED",
          "ON",
          "DAY",
          "Throwing",
          "unregulated",
          "gouging",
          "toast",
          "value",
          "graduation",
          "certificate",
          "form",
          "filtering",
          "bunch",
          "instant",
          "gratification",
          "NOW",
          "ungrateful",
          "experienced",
          "unleash",
          "bickering",
          "saying",
          "contradicts",
          "hive",
          "mentality",
          "allows",
          "cheaper",
          "relation",
          "Edit",
          "politics",
          "corruption",
          "despite",
          "occurring",
          "causing",
          "decline",
          "FELON",
          "pardon",
          "crazy",
          "mess",
          "chicken",
          "lessen",
          "Big",
          "deficit",
          "camps",
          "provide",
          "labor",
          "corporations",
          "Profit",
          "class",
          "Retail",
          "giants",
          "tough",
          "Seems",
          "Presidency",
          "unable",
          "commit",
          "crime",
          "headed",
          "Want",
          "avoiding",
          "plague",
          "turns",
          "indexes",
          "500",
          "Small",
          "Machine",
          "Wars",
          "military",
          "individualism",
          "lean",
          "collectivism",
          "cycles",
          "slowing",
          "lived",
          "patient",
          "necessary",
          "possible",
          "pass",
          "firing",
          "squad",
          "handouts",
          "Lets",
          "excuse",
          "martial",
          "suspend",
          "constitution",
          "none",
          "echo",
          "chamber",
          "SEC",
          "prosecuting",
          "signaled",
          "panicked",
          "earlier",
          "sit",
          "watch",
          "mistakes",
          "keeps",
          "largest",
          "holders",
          "Round",
          "RED",
          "quote",
          "tropic",
          "thunder",
          "Inside",
          "traitor",
          "Holy",
          "supported",
          "fool",
          "shown",
          "fascist",
          "agenda",
          "courts",
          "Life",
          "die",
          "reinforced",
          "belief",
          "count",
          "expected",
          "Comedy",
          "Conservatives",
          "cool",
          "hell",
          "losing",
          "shirts",
          "bail",
          "NO",
          "departments",
          "Russian",
          "funded",
          "continuing",
          "stupidest",
          "IS",
          "BUYING",
          "SILVER",
          "vomit",
          "rock",
          "bottom",
          "impeach",
          "Columbia",
          "MARKET",
          "MANIPULATION",
          "okay",
          "listened",
          "cripple",
          "faults",
          "Like",
          "Jail",
          "Yea",
          "sums",
          "libertarian",
          "nonsense",
          "amendment",
          "cheer",
          "Children",
          "guns",
          "priorities",
          "stopping",
          "children",
          "eating",
          "cooked",
          "Retarded",
          "Ball",
          "pardoning",
          "charged",
          "deportation",
          "program",
          "attempting",
          "teach",
          "lesson",
          "blind",
          "survey",
          "stupidity",
          "poses",
          "hope",
          "fed",
          "eyes",
          "sign",
          "diversifying",
          "sweet",
          "Screw",
          "troll",
          "dope",
          "dropping",
          "incompetent",
          "taken",
          "governance",
          "granted",
          "helm",
          "philosophy",
          "negative",
          "rolling",
          "destroy",
          "Personal",
          "enrichment",
          "stone",
          "goal",
          "dissolution",
          "RETARDED",
          "kidding",
          "Holding",
          "scared",
          "Unstable",
          "spelled",
          "pounded",
          "speculation",
          "Dark",
          "Gothic",
          "Due",
          "Selling",
          "pity",
          "amount",
          "feelings",
          "sent",
          "Gate",
          "toll",
          "idiotic",
          "helps",
          "standing",
          "help",
          "creates",
          "pockets",
          "red",
          "conclusion",
          "phones",
          "ways",
          "Pack",
          "Go",
          "arbitrage",
          "foreign",
          "dumps",
          "trillion",
          "resulting",
          "panic",
          "concede",
          "drills",
          "Be",
          "advised",
          "closes",
          "expire",
          "Note",
          "Treasury",
          "interest",
          "profit",
          "prime",
          "rate",
          "father",
          "matters",
          "elections",
          "lies",
          "deals",
          "treading",
          "water",
          "bring",
          "Federal",
          "Reserve",
          "claiming",
          "blaming",
          "previous",
          "administrations",
          "meat",
          "chose",
          "physical",
          "wish",
          "40",
          "potential",
          "depressed",
          "definition",
          "dictator",
          "daily",
          "wonders",
          "United",
          "securities",
          "following",
          "stopped",
          "ridiculous",
          "crushed",
          "reversal",
          "limiting",
          "fishing",
          "imbecile",
          "trillions",
          "Watch",
          "masters",
          "permission",
          "able",
          "sovereign",
          "treasury",
          "calm",
          "sure-footed",
          "response",
          "irrational",
          "name",
          "lower",
          "footsteps",
          "Stick",
          "digging",
          "found",
          "listed",
          "considering",
          "consequence",
          "terrified",
          "Faith",
          "crumbling",
          "fiber",
          "optic",
          "balance",
          "sheet",
          "certain",
          "actors",
          "influence",
          "fear",
          "operational",
          "bulletproof",
          "enemy",
          "passive",
          "machine",
          "infrastructure",
          "related",
          "items",
          "gain",
          "damaged",
          "year",
          "caused",
          "abysmal",
          "pull",
          "cabling",
          "important",
          "approval",
          "rating",
          "underwater",
          "pickup",
          "addressed",
          "primary",
          "inflation",
          "decade",
          "endure",
          "backing",
          "seeking",
          "pissing",
          "chunk",
          "loyal",
          "old",
          "thrown",
          "gOOd",
          "washing",
          "changed",
          "Bank",
          "impart",
          "hardship",
          "anathema",
          "ready",
          "PUTS",
          "Cope",
          "headlines",
          "couple",
          "nationalist",
          "Breaking",
          "announces",
          "reciprocal",
          "unwinding",
          "Canadian",
          "Japanese",
          "bankers",
          "chasing",
          "return",
          "involves",
          "boring",
          "miscalculated",
          "extort",
          "reality",
          "shabby",
          "journalism",
          "fact",
          "Looking",
          "handled",
          "strength",
          "projection",
          "chin",
          "growth",
          "health",
          "Nothing",
          "Leap",
          "ended",
          "actions",
          "total",
          "afraid",
          "suffering",
          "scare",
          "committing",
          "humans",
          "committed",
          "pack",
          "bags",
          "ai",
          "HFs",
          "word",
          "Defense",
          "Contractor",
          "chalk",
          "production",
          "Larger",
          "shafted",
          "Winter",
          "ocean",
          "falling",
          "exiting",
          "stage",
          "validation",
          "inherits",
          "management",
          "Aces",
          "Kings",
          "regime",
          "untouchable",
          "orders",
          "steady",
          "pace",
          "banks",
          "dumped",
          "specific",
          "rose",
          "open",
          "stayed",
          "hearsay",
          "interview",
          "began",
          "flat",
          "AT",
          "LEAST",
          "MAKE",
          "overwhelm",
          "angle",
          "manipulating",
          "kept",
          "valuation",
          "thus",
          "professional",
          "Thanks",
          "running",
          "audience",
          "Snowflake",
          "ps",
          "Fast",
          "coverage",
          "Lee",
          "campaign",
          "cherry",
          "Queens",
          "understood",
          "awful",
          "hand",
          "print",
          "canceled",
          "stifle",
          "episode",
          "depend",
          "lessons",
          "learned",
          "safer",
          "waters",
          "shaky",
          "begin",
          "Far",
          "11",
          "believing",
          "holding",
          "cash",
          "range",
          "Had",
          "fixed",
          "shop",
          "publication",
          "tip",
          "site",
          "posts",
          "known",
          "asked",
          "said",
          "Market",
          "revolt",
          "dissent",
          "severe",
          "screaming",
          "partner",
          "lacking",
          "Take",
          "note",
          "jobs",
          "groceries",
          "comprehension",
          "numbers",
          "assume",
          "folks",
          "holds",
          "Square",
          "bounce",
          "Foreign",
          "pulling",
          "means",
          "investments",
          "supreme",
          "court",
          "stooges",
          "stay",
          "choice",
          "counties",
          "organizations",
          "individuals",
          "combined",
          "ton",
          "Agreed",
          "simple",
          "heel",
          "unlocked",
          "governments",
          "concerted",
          "effort",
          "fewer",
          "German",
          "owner",
          "drives",
          "democratic",
          "master",
          "curse",
          "vent",
          "inner",
          "flight",
          "tv",
          "double",
          "cant",
          "Shit",
          "bluff",
          "continue",
          "astonished",
          "supine",
          "indulging",
          "harm",
          "minors",
          "ecstasy",
          "commenting",
          "inherited",
          "millions",
          "dumb",
          "sailed",
          "diversify",
          "brick",
          "savvy",
          "sales",
          "pitch",
          "grand",
          "scheme",
          "bills",
          "Teachers",
          "pet",
          "steam",
          "ahead",
          "conquer",
          "partners",
          "ship",
          "Woke",
          "borrow",
          "eat",
          "fat",
          "energy",
          "Time",
          "seemed",
          "riot",
          "participants",
          "capable",
          "burying",
          "hits",
          "months",
          "ignored",
          "scrounge",
          "Fell",
          "volatile",
          "Flair",
          "Brazilian",
          "Retard",
          "boost",
          "fraud",
          "After",
          "Bear",
          "thread",
          "CALLs",
          "sub",
          "hunters",
          "pecker",
          "Taking",
          "programs",
          "warnings",
          "presidency",
          "success",
          "finance",
          "integrated",
          "Most",
          "snake",
          "Bought",
          "shame",
          "15",
          "cents",
          "Moving",
          "depression",
          "Lost",
          "investing",
          "options",
          "disabled",
          "grocery",
          "national",
          "security",
          "ensuring",
          "survive",
          "Lauder",
          "EL",
          "Shell",
          "unfortunate",
          "closer",
          "relationship",
          "invade",
          "Taiwan",
          "test",
          "position",
          "global",
          "globe",
          "capital",
          "Office",
          "opinions",
          "opposing",
          "views",
          "weighing",
          "pros",
          "occupied",
          "vice",
          "representation",
          "destroys",
          "happier",
          "figure",
          "electing",
          "fleecing",
          "fired",
          "chill",
          "engineered",
          "coup",
          "install",
          "become",
          "future",
          "Congress",
          "Please",
          "impeached",
          "removed",
          "disappointed",
          "Morning",
          "Brew",
          "enjoying",
          "Finance"
         ],
         "y": [
          53,
          45,
          43,
          27,
          26,
          24,
          24,
          24,
          23,
          21,
          20,
          19,
          19,
          18,
          18,
          17,
          15,
          15,
          14,
          13,
          13,
          13,
          13,
          13,
          13,
          13,
          12,
          12,
          11,
          11,
          11,
          11,
          10,
          10,
          10,
          10,
          10,
          10,
          9,
          9,
          9,
          9,
          9,
          9,
          9,
          9,
          9,
          9,
          8,
          8,
          8,
          8,
          8,
          8,
          8,
          8,
          8,
          8,
          8,
          8,
          8,
          8,
          8,
          7,
          7,
          7,
          7,
          7,
          7,
          7,
          7,
          7,
          7,
          7,
          7,
          7,
          7,
          7,
          7,
          7,
          7,
          7,
          7,
          7,
          7,
          7,
          7,
          7,
          6,
          6,
          6,
          6,
          6,
          6,
          6,
          6,
          6,
          6,
          6,
          6,
          6,
          6,
          6,
          6,
          6,
          6,
          6,
          6,
          6,
          6,
          6,
          6,
          6,
          6,
          6,
          6,
          6,
          6,
          6,
          6,
          6,
          5,
          5,
          5,
          5,
          5,
          5,
          5,
          5,
          5,
          5,
          5,
          5,
          5,
          5,
          5,
          5,
          5,
          5,
          5,
          5,
          5,
          5,
          5,
          5,
          5,
          5,
          5,
          5,
          5,
          5,
          5,
          5,
          5,
          4,
          4,
          4,
          4,
          4,
          4,
          4,
          4,
          4,
          4,
          4,
          4,
          4,
          4,
          4,
          4,
          4,
          4,
          4,
          4,
          4,
          4,
          4,
          4,
          4,
          4,
          4,
          4,
          4,
          4,
          4,
          4,
          4,
          4,
          4,
          4,
          4,
          4,
          4,
          4,
          4,
          4,
          4,
          4,
          4,
          4,
          4,
          4,
          4,
          4,
          4,
          4,
          4,
          4,
          4,
          4,
          4,
          4,
          3,
          3,
          3,
          3,
          3,
          3,
          3,
          3,
          3,
          3,
          3,
          3,
          3,
          3,
          3,
          3,
          3,
          3,
          3,
          3,
          3,
          3,
          3,
          3,
          3,
          3,
          3,
          3,
          3,
          3,
          3,
          3,
          3,
          3,
          3,
          3,
          3,
          3,
          3,
          3,
          3,
          3,
          3,
          3,
          3,
          3,
          3,
          3,
          3,
          3,
          3,
          3,
          3,
          3,
          3,
          3,
          3,
          3,
          3,
          3,
          3,
          3,
          3,
          3,
          3,
          3,
          3,
          3,
          3,
          3,
          3,
          3,
          3,
          3,
          3,
          3,
          3,
          3,
          3,
          3,
          3,
          3,
          3,
          3,
          3,
          3,
          3,
          3,
          3,
          3,
          3,
          3,
          3,
          3,
          3,
          3,
          3,
          3,
          3,
          3,
          3,
          3,
          3,
          3,
          3,
          3,
          3,
          3,
          3,
          3,
          2,
          2,
          2,
          2,
          2,
          2,
          2,
          2,
          2,
          2,
          2,
          2,
          2,
          2,
          2,
          2,
          2,
          2,
          2,
          2,
          2,
          2,
          2,
          2,
          2,
          2,
          2,
          2,
          2,
          2,
          2,
          2,
          2,
          2,
          2,
          2,
          2,
          2,
          2,
          2,
          2,
          2,
          2,
          2,
          2,
          2,
          2,
          2,
          2,
          2,
          2,
          2,
          2,
          2,
          2,
          2,
          2,
          2,
          2,
          2,
          2,
          2,
          2,
          2,
          2,
          2,
          2,
          2,
          2,
          2,
          2,
          2,
          2,
          2,
          2,
          2,
          2,
          2,
          2,
          2,
          2,
          2,
          2,
          2,
          2,
          2,
          2,
          2,
          2,
          2,
          2,
          2,
          2,
          2,
          2,
          2,
          2,
          2,
          2,
          2,
          2,
          2,
          2,
          2,
          2,
          2,
          2,
          2,
          2,
          2,
          2,
          2,
          2,
          2,
          2,
          2,
          2,
          2,
          2,
          2,
          2,
          2,
          2,
          2,
          2,
          2,
          2,
          2,
          2,
          2,
          2,
          2,
          2,
          2,
          2,
          2,
          2,
          2,
          2,
          2,
          2,
          2,
          2,
          2,
          2,
          2,
          2,
          2,
          2,
          2,
          2,
          2,
          2,
          2,
          2,
          2,
          2,
          2,
          2,
          2,
          2,
          2,
          2,
          2,
          2,
          2,
          2,
          2,
          2,
          2,
          2,
          2,
          2,
          2,
          2,
          2,
          2,
          2,
          2,
          2,
          2,
          2,
          2,
          2,
          2,
          2,
          2,
          2,
          2,
          2,
          2,
          2,
          2,
          2,
          2,
          2,
          2,
          2,
          2,
          2,
          2,
          2,
          2,
          2,
          2,
          2,
          2,
          2,
          2,
          2,
          2,
          2,
          2,
          2,
          2,
          2,
          2,
          2,
          2,
          2,
          2,
          2,
          2,
          2,
          2,
          2,
          2,
          2,
          2,
          2,
          2,
          2,
          2,
          2,
          2,
          2,
          2,
          2,
          2,
          2,
          2,
          2,
          2,
          2,
          2,
          2,
          2,
          2,
          2,
          2,
          2,
          2,
          2,
          2,
          2,
          2,
          2,
          2,
          2,
          2,
          2,
          2,
          2,
          2,
          2,
          2,
          2,
          2,
          2,
          2,
          2,
          2,
          2,
          2,
          2,
          2,
          2,
          2,
          2,
          1,
          1,
          1,
          1,
          1,
          1,
          1,
          1,
          1,
          1,
          1,
          1,
          1,
          1,
          1,
          1,
          1,
          1,
          1,
          1,
          1,
          1,
          1,
          1,
          1,
          1,
          1,
          1,
          1,
          1,
          1,
          1,
          1,
          1,
          1,
          1,
          1,
          1,
          1,
          1,
          1,
          1,
          1,
          1,
          1,
          1,
          1,
          1,
          1,
          1,
          1,
          1,
          1,
          1,
          1,
          1,
          1,
          1,
          1,
          1,
          1,
          1,
          1,
          1,
          1,
          1,
          1,
          1,
          1,
          1,
          1,
          1,
          1,
          1,
          1,
          1,
          1,
          1,
          1,
          1,
          1,
          1,
          1,
          1,
          1,
          1,
          1,
          1,
          1,
          1,
          1,
          1,
          1,
          1,
          1,
          1,
          1,
          1,
          1,
          1,
          1,
          1,
          1,
          1,
          1,
          1,
          1,
          1,
          1,
          1,
          1,
          1,
          1,
          1,
          1,
          1,
          1,
          1,
          1,
          1,
          1,
          1,
          1,
          1,
          1,
          1,
          1,
          1,
          1,
          1,
          1,
          1,
          1,
          1,
          1,
          1,
          1,
          1,
          1,
          1,
          1,
          1,
          1,
          1,
          1,
          1,
          1,
          1,
          1,
          1,
          1,
          1,
          1,
          1,
          1,
          1,
          1,
          1,
          1,
          1,
          1,
          1,
          1,
          1,
          1,
          1,
          1,
          1,
          1,
          1,
          1,
          1,
          1,
          1,
          1,
          1,
          1,
          1,
          1,
          1,
          1,
          1,
          1,
          1,
          1,
          1,
          1,
          1,
          1,
          1,
          1,
          1,
          1,
          1,
          1,
          1,
          1,
          1,
          1,
          1,
          1,
          1,
          1,
          1,
          1,
          1,
          1,
          1,
          1,
          1,
          1,
          1,
          1,
          1,
          1,
          1,
          1,
          1,
          1,
          1,
          1,
          1,
          1,
          1,
          1,
          1,
          1,
          1,
          1,
          1,
          1,
          1,
          1,
          1,
          1,
          1,
          1,
          1,
          1,
          1,
          1,
          1,
          1,
          1,
          1,
          1,
          1,
          1,
          1,
          1,
          1,
          1,
          1,
          1,
          1,
          1,
          1,
          1,
          1,
          1,
          1,
          1,
          1,
          1,
          1,
          1,
          1,
          1,
          1,
          1,
          1,
          1,
          1,
          1,
          1,
          1,
          1,
          1,
          1,
          1,
          1,
          1,
          1,
          1,
          1,
          1,
          1,
          1,
          1,
          1,
          1,
          1,
          1,
          1,
          1,
          1,
          1,
          1,
          1,
          1,
          1,
          1,
          1,
          1,
          1,
          1,
          1,
          1,
          1,
          1,
          1,
          1,
          1,
          1,
          1,
          1,
          1,
          1,
          1,
          1,
          1,
          1,
          1,
          1,
          1,
          1,
          1,
          1,
          1,
          1,
          1,
          1,
          1,
          1,
          1,
          1,
          1,
          1,
          1,
          1,
          1,
          1,
          1,
          1,
          1,
          1,
          1,
          1,
          1,
          1,
          1,
          1,
          1,
          1,
          1,
          1,
          1,
          1,
          1,
          1,
          1,
          1,
          1,
          1,
          1,
          1,
          1,
          1,
          1,
          1,
          1,
          1,
          1,
          1,
          1,
          1,
          1,
          1,
          1,
          1,
          1,
          1,
          1,
          1,
          1,
          1,
          1,
          1,
          1,
          1,
          1,
          1,
          1,
          1,
          1,
          1,
          1,
          1,
          1,
          1,
          1,
          1,
          1,
          1,
          1,
          1,
          1,
          1,
          1,
          1,
          1,
          1,
          1,
          1,
          1,
          1,
          1,
          1,
          1,
          1,
          1,
          1,
          1,
          1,
          1,
          1,
          1,
          1,
          1,
          1,
          1,
          1,
          1,
          1,
          1,
          1,
          1,
          1,
          1,
          1,
          1,
          1,
          1,
          1,
          1,
          1,
          1,
          1,
          1,
          1,
          1,
          1,
          1,
          1,
          1,
          1,
          1,
          1,
          1,
          1,
          1,
          1,
          1,
          1,
          1,
          1,
          1,
          1,
          1,
          1,
          1,
          1,
          1,
          1,
          1,
          1,
          1,
          1,
          1,
          1,
          1,
          1,
          1,
          1,
          1,
          1,
          1,
          1,
          1,
          1,
          1,
          1,
          1,
          1,
          1,
          1,
          1,
          1,
          1,
          1,
          1,
          1,
          1,
          1,
          1,
          1,
          1,
          1,
          1,
          1,
          1,
          1,
          1,
          1,
          1,
          1,
          1,
          1,
          1,
          1,
          1,
          1,
          1,
          1,
          1,
          1,
          1,
          1,
          1,
          1,
          1,
          1,
          1,
          1,
          1,
          1,
          1,
          1,
          1,
          1,
          1,
          1,
          1,
          1,
          1,
          1,
          1,
          1,
          1,
          1,
          1,
          1,
          1,
          1,
          1,
          1,
          1,
          1,
          1,
          1,
          1,
          1,
          1,
          1,
          1,
          1,
          1,
          1,
          1,
          1,
          1,
          1,
          1,
          1,
          1,
          1,
          1,
          1,
          1,
          1,
          1,
          1,
          1,
          1,
          1,
          1,
          1,
          1,
          1,
          1,
          1,
          1,
          1,
          1,
          1,
          1,
          1,
          1,
          1,
          1,
          1,
          1,
          1,
          1,
          1,
          1,
          1,
          1,
          1,
          1,
          1,
          1,
          1,
          1,
          1,
          1,
          1,
          1,
          1,
          1,
          1,
          1,
          1,
          1,
          1,
          1,
          1,
          1,
          1,
          1,
          1,
          1,
          1,
          1,
          1,
          1,
          1,
          1,
          1,
          1,
          1,
          1,
          1,
          1,
          1,
          1,
          1,
          1,
          1,
          1,
          1,
          1,
          1,
          1,
          1,
          1,
          1,
          1,
          1,
          1,
          1,
          1,
          1,
          1,
          1,
          1,
          1,
          1,
          1,
          1,
          1,
          1,
          1,
          1,
          1,
          1,
          1,
          1,
          1,
          1,
          1,
          1,
          1,
          1,
          1,
          1,
          1,
          1,
          1,
          1,
          1,
          1,
          1,
          1,
          1,
          1,
          1,
          1,
          1,
          1,
          1,
          1,
          1,
          1,
          1,
          1,
          1,
          1,
          1,
          1,
          1,
          1,
          1,
          1,
          1,
          1,
          1,
          1,
          1,
          1,
          1,
          1,
          1,
          1,
          1,
          1,
          1,
          1,
          1,
          1,
          1,
          1,
          1,
          1,
          1,
          1,
          1,
          1,
          1,
          1,
          1,
          1,
          1,
          1,
          1,
          1,
          1,
          1,
          1,
          1,
          1,
          1,
          1,
          1,
          1,
          1,
          1,
          1,
          1,
          1,
          1,
          1,
          1,
          1,
          1,
          1,
          1,
          1,
          1,
          1,
          1,
          1,
          1,
          1,
          1,
          1,
          1,
          1,
          1,
          1,
          1,
          1,
          1,
          1,
          1,
          1,
          1,
          1,
          1,
          1,
          1,
          1,
          1,
          1,
          1,
          1,
          1,
          1,
          1,
          1,
          1,
          1,
          1,
          1,
          1,
          1,
          1,
          1,
          1,
          1,
          1,
          1,
          1,
          1,
          1,
          1,
          1,
          1,
          1,
          1,
          1,
          1,
          1,
          1,
          1,
          1,
          1,
          1,
          1,
          1,
          1,
          1,
          1,
          1,
          1,
          1,
          1,
          1,
          1,
          1,
          1,
          1,
          1,
          1,
          1,
          1,
          1,
          1,
          1,
          1,
          1,
          1,
          1,
          1,
          1,
          1,
          1,
          1,
          1,
          1,
          1,
          1,
          1,
          1,
          1,
          1,
          1,
          1,
          1,
          1,
          1,
          1,
          1,
          1,
          1,
          1,
          1,
          1,
          1,
          1,
          1,
          1,
          1,
          1,
          1,
          1,
          1,
          1,
          1,
          1,
          1,
          1,
          1,
          1,
          1,
          1,
          1,
          1,
          1,
          1,
          1,
          1,
          1,
          1,
          1,
          1,
          1,
          1,
          1,
          1,
          1,
          1,
          1,
          1,
          1,
          1,
          1,
          1,
          1,
          1,
          1,
          1,
          1,
          1,
          1,
          1,
          1,
          1,
          1,
          1,
          1,
          1,
          1,
          1,
          1,
          1,
          1,
          1,
          1,
          1,
          1,
          1,
          1,
          1,
          1,
          1,
          1,
          1,
          1,
          1,
          1,
          1,
          1,
          1,
          1,
          1,
          1,
          1,
          1,
          1,
          1,
          1,
          1,
          1,
          1,
          1,
          1,
          1,
          1,
          1,
          1,
          1,
          1,
          1,
          1,
          1,
          1,
          1,
          1,
          1,
          1,
          1,
          1,
          1,
          1,
          1,
          1,
          1,
          1,
          1,
          1,
          1,
          1,
          1,
          1,
          1,
          1,
          1,
          1,
          1,
          1,
          1,
          1,
          1,
          1,
          1,
          1,
          1,
          1,
          1,
          1,
          1,
          1,
          1,
          1,
          1,
          1,
          1,
          1,
          1,
          1,
          1,
          1,
          1,
          1,
          1,
          1,
          1,
          1,
          1,
          1,
          1,
          1,
          1,
          1,
          1,
          1,
          1,
          1,
          1,
          1,
          1,
          1,
          1,
          1,
          1,
          1,
          1,
          1,
          1,
          1,
          1,
          1,
          1,
          1,
          1,
          1,
          1,
          1,
          1,
          1,
          1,
          1,
          1,
          1,
          1,
          1,
          1,
          1,
          1,
          1,
          1,
          1,
          1,
          1,
          1,
          1,
          1,
          1,
          1,
          1,
          1,
          1,
          1,
          1,
          1
         ]
        }
       ],
       "layout": {
        "template": {
         "data": {
          "bar": [
           {
            "error_x": {
             "color": "#2a3f5f"
            },
            "error_y": {
             "color": "#2a3f5f"
            },
            "marker": {
             "line": {
              "color": "#E5ECF6",
              "width": 0.5
             },
             "pattern": {
              "fillmode": "overlay",
              "size": 10,
              "solidity": 0.2
             }
            },
            "type": "bar"
           }
          ],
          "barpolar": [
           {
            "marker": {
             "line": {
              "color": "#E5ECF6",
              "width": 0.5
             },
             "pattern": {
              "fillmode": "overlay",
              "size": 10,
              "solidity": 0.2
             }
            },
            "type": "barpolar"
           }
          ],
          "carpet": [
           {
            "aaxis": {
             "endlinecolor": "#2a3f5f",
             "gridcolor": "white",
             "linecolor": "white",
             "minorgridcolor": "white",
             "startlinecolor": "#2a3f5f"
            },
            "baxis": {
             "endlinecolor": "#2a3f5f",
             "gridcolor": "white",
             "linecolor": "white",
             "minorgridcolor": "white",
             "startlinecolor": "#2a3f5f"
            },
            "type": "carpet"
           }
          ],
          "choropleth": [
           {
            "colorbar": {
             "outlinewidth": 0,
             "ticks": ""
            },
            "type": "choropleth"
           }
          ],
          "contour": [
           {
            "colorbar": {
             "outlinewidth": 0,
             "ticks": ""
            },
            "colorscale": [
             [
              0,
              "#0d0887"
             ],
             [
              0.1111111111111111,
              "#46039f"
             ],
             [
              0.2222222222222222,
              "#7201a8"
             ],
             [
              0.3333333333333333,
              "#9c179e"
             ],
             [
              0.4444444444444444,
              "#bd3786"
             ],
             [
              0.5555555555555556,
              "#d8576b"
             ],
             [
              0.6666666666666666,
              "#ed7953"
             ],
             [
              0.7777777777777778,
              "#fb9f3a"
             ],
             [
              0.8888888888888888,
              "#fdca26"
             ],
             [
              1,
              "#f0f921"
             ]
            ],
            "type": "contour"
           }
          ],
          "contourcarpet": [
           {
            "colorbar": {
             "outlinewidth": 0,
             "ticks": ""
            },
            "type": "contourcarpet"
           }
          ],
          "heatmap": [
           {
            "colorbar": {
             "outlinewidth": 0,
             "ticks": ""
            },
            "colorscale": [
             [
              0,
              "#0d0887"
             ],
             [
              0.1111111111111111,
              "#46039f"
             ],
             [
              0.2222222222222222,
              "#7201a8"
             ],
             [
              0.3333333333333333,
              "#9c179e"
             ],
             [
              0.4444444444444444,
              "#bd3786"
             ],
             [
              0.5555555555555556,
              "#d8576b"
             ],
             [
              0.6666666666666666,
              "#ed7953"
             ],
             [
              0.7777777777777778,
              "#fb9f3a"
             ],
             [
              0.8888888888888888,
              "#fdca26"
             ],
             [
              1,
              "#f0f921"
             ]
            ],
            "type": "heatmap"
           }
          ],
          "histogram": [
           {
            "marker": {
             "pattern": {
              "fillmode": "overlay",
              "size": 10,
              "solidity": 0.2
             }
            },
            "type": "histogram"
           }
          ],
          "histogram2d": [
           {
            "colorbar": {
             "outlinewidth": 0,
             "ticks": ""
            },
            "colorscale": [
             [
              0,
              "#0d0887"
             ],
             [
              0.1111111111111111,
              "#46039f"
             ],
             [
              0.2222222222222222,
              "#7201a8"
             ],
             [
              0.3333333333333333,
              "#9c179e"
             ],
             [
              0.4444444444444444,
              "#bd3786"
             ],
             [
              0.5555555555555556,
              "#d8576b"
             ],
             [
              0.6666666666666666,
              "#ed7953"
             ],
             [
              0.7777777777777778,
              "#fb9f3a"
             ],
             [
              0.8888888888888888,
              "#fdca26"
             ],
             [
              1,
              "#f0f921"
             ]
            ],
            "type": "histogram2d"
           }
          ],
          "histogram2dcontour": [
           {
            "colorbar": {
             "outlinewidth": 0,
             "ticks": ""
            },
            "colorscale": [
             [
              0,
              "#0d0887"
             ],
             [
              0.1111111111111111,
              "#46039f"
             ],
             [
              0.2222222222222222,
              "#7201a8"
             ],
             [
              0.3333333333333333,
              "#9c179e"
             ],
             [
              0.4444444444444444,
              "#bd3786"
             ],
             [
              0.5555555555555556,
              "#d8576b"
             ],
             [
              0.6666666666666666,
              "#ed7953"
             ],
             [
              0.7777777777777778,
              "#fb9f3a"
             ],
             [
              0.8888888888888888,
              "#fdca26"
             ],
             [
              1,
              "#f0f921"
             ]
            ],
            "type": "histogram2dcontour"
           }
          ],
          "mesh3d": [
           {
            "colorbar": {
             "outlinewidth": 0,
             "ticks": ""
            },
            "type": "mesh3d"
           }
          ],
          "parcoords": [
           {
            "line": {
             "colorbar": {
              "outlinewidth": 0,
              "ticks": ""
             }
            },
            "type": "parcoords"
           }
          ],
          "pie": [
           {
            "automargin": true,
            "type": "pie"
           }
          ],
          "scatter": [
           {
            "fillpattern": {
             "fillmode": "overlay",
             "size": 10,
             "solidity": 0.2
            },
            "type": "scatter"
           }
          ],
          "scatter3d": [
           {
            "line": {
             "colorbar": {
              "outlinewidth": 0,
              "ticks": ""
             }
            },
            "marker": {
             "colorbar": {
              "outlinewidth": 0,
              "ticks": ""
             }
            },
            "type": "scatter3d"
           }
          ],
          "scattercarpet": [
           {
            "marker": {
             "colorbar": {
              "outlinewidth": 0,
              "ticks": ""
             }
            },
            "type": "scattercarpet"
           }
          ],
          "scattergeo": [
           {
            "marker": {
             "colorbar": {
              "outlinewidth": 0,
              "ticks": ""
             }
            },
            "type": "scattergeo"
           }
          ],
          "scattergl": [
           {
            "marker": {
             "colorbar": {
              "outlinewidth": 0,
              "ticks": ""
             }
            },
            "type": "scattergl"
           }
          ],
          "scattermap": [
           {
            "marker": {
             "colorbar": {
              "outlinewidth": 0,
              "ticks": ""
             }
            },
            "type": "scattermap"
           }
          ],
          "scattermapbox": [
           {
            "marker": {
             "colorbar": {
              "outlinewidth": 0,
              "ticks": ""
             }
            },
            "type": "scattermapbox"
           }
          ],
          "scatterpolar": [
           {
            "marker": {
             "colorbar": {
              "outlinewidth": 0,
              "ticks": ""
             }
            },
            "type": "scatterpolar"
           }
          ],
          "scatterpolargl": [
           {
            "marker": {
             "colorbar": {
              "outlinewidth": 0,
              "ticks": ""
             }
            },
            "type": "scatterpolargl"
           }
          ],
          "scatterternary": [
           {
            "marker": {
             "colorbar": {
              "outlinewidth": 0,
              "ticks": ""
             }
            },
            "type": "scatterternary"
           }
          ],
          "surface": [
           {
            "colorbar": {
             "outlinewidth": 0,
             "ticks": ""
            },
            "colorscale": [
             [
              0,
              "#0d0887"
             ],
             [
              0.1111111111111111,
              "#46039f"
             ],
             [
              0.2222222222222222,
              "#7201a8"
             ],
             [
              0.3333333333333333,
              "#9c179e"
             ],
             [
              0.4444444444444444,
              "#bd3786"
             ],
             [
              0.5555555555555556,
              "#d8576b"
             ],
             [
              0.6666666666666666,
              "#ed7953"
             ],
             [
              0.7777777777777778,
              "#fb9f3a"
             ],
             [
              0.8888888888888888,
              "#fdca26"
             ],
             [
              1,
              "#f0f921"
             ]
            ],
            "type": "surface"
           }
          ],
          "table": [
           {
            "cells": {
             "fill": {
              "color": "#EBF0F8"
             },
             "line": {
              "color": "white"
             }
            },
            "header": {
             "fill": {
              "color": "#C8D4E3"
             },
             "line": {
              "color": "white"
             }
            },
            "type": "table"
           }
          ]
         },
         "layout": {
          "annotationdefaults": {
           "arrowcolor": "#2a3f5f",
           "arrowhead": 0,
           "arrowwidth": 1
          },
          "autotypenumbers": "strict",
          "coloraxis": {
           "colorbar": {
            "outlinewidth": 0,
            "ticks": ""
           }
          },
          "colorscale": {
           "diverging": [
            [
             0,
             "#8e0152"
            ],
            [
             0.1,
             "#c51b7d"
            ],
            [
             0.2,
             "#de77ae"
            ],
            [
             0.3,
             "#f1b6da"
            ],
            [
             0.4,
             "#fde0ef"
            ],
            [
             0.5,
             "#f7f7f7"
            ],
            [
             0.6,
             "#e6f5d0"
            ],
            [
             0.7,
             "#b8e186"
            ],
            [
             0.8,
             "#7fbc41"
            ],
            [
             0.9,
             "#4d9221"
            ],
            [
             1,
             "#276419"
            ]
           ],
           "sequential": [
            [
             0,
             "#0d0887"
            ],
            [
             0.1111111111111111,
             "#46039f"
            ],
            [
             0.2222222222222222,
             "#7201a8"
            ],
            [
             0.3333333333333333,
             "#9c179e"
            ],
            [
             0.4444444444444444,
             "#bd3786"
            ],
            [
             0.5555555555555556,
             "#d8576b"
            ],
            [
             0.6666666666666666,
             "#ed7953"
            ],
            [
             0.7777777777777778,
             "#fb9f3a"
            ],
            [
             0.8888888888888888,
             "#fdca26"
            ],
            [
             1,
             "#f0f921"
            ]
           ],
           "sequentialminus": [
            [
             0,
             "#0d0887"
            ],
            [
             0.1111111111111111,
             "#46039f"
            ],
            [
             0.2222222222222222,
             "#7201a8"
            ],
            [
             0.3333333333333333,
             "#9c179e"
            ],
            [
             0.4444444444444444,
             "#bd3786"
            ],
            [
             0.5555555555555556,
             "#d8576b"
            ],
            [
             0.6666666666666666,
             "#ed7953"
            ],
            [
             0.7777777777777778,
             "#fb9f3a"
            ],
            [
             0.8888888888888888,
             "#fdca26"
            ],
            [
             1,
             "#f0f921"
            ]
           ]
          },
          "colorway": [
           "#636efa",
           "#EF553B",
           "#00cc96",
           "#ab63fa",
           "#FFA15A",
           "#19d3f3",
           "#FF6692",
           "#B6E880",
           "#FF97FF",
           "#FECB52"
          ],
          "font": {
           "color": "#2a3f5f"
          },
          "geo": {
           "bgcolor": "white",
           "lakecolor": "white",
           "landcolor": "#E5ECF6",
           "showlakes": true,
           "showland": true,
           "subunitcolor": "white"
          },
          "hoverlabel": {
           "align": "left"
          },
          "hovermode": "closest",
          "mapbox": {
           "style": "light"
          },
          "paper_bgcolor": "white",
          "plot_bgcolor": "#E5ECF6",
          "polar": {
           "angularaxis": {
            "gridcolor": "white",
            "linecolor": "white",
            "ticks": ""
           },
           "bgcolor": "#E5ECF6",
           "radialaxis": {
            "gridcolor": "white",
            "linecolor": "white",
            "ticks": ""
           }
          },
          "scene": {
           "xaxis": {
            "backgroundcolor": "#E5ECF6",
            "gridcolor": "white",
            "gridwidth": 2,
            "linecolor": "white",
            "showbackground": true,
            "ticks": "",
            "zerolinecolor": "white"
           },
           "yaxis": {
            "backgroundcolor": "#E5ECF6",
            "gridcolor": "white",
            "gridwidth": 2,
            "linecolor": "white",
            "showbackground": true,
            "ticks": "",
            "zerolinecolor": "white"
           },
           "zaxis": {
            "backgroundcolor": "#E5ECF6",
            "gridcolor": "white",
            "gridwidth": 2,
            "linecolor": "white",
            "showbackground": true,
            "ticks": "",
            "zerolinecolor": "white"
           }
          },
          "shapedefaults": {
           "line": {
            "color": "#2a3f5f"
           }
          },
          "ternary": {
           "aaxis": {
            "gridcolor": "white",
            "linecolor": "white",
            "ticks": ""
           },
           "baxis": {
            "gridcolor": "white",
            "linecolor": "white",
            "ticks": ""
           },
           "bgcolor": "#E5ECF6",
           "caxis": {
            "gridcolor": "white",
            "linecolor": "white",
            "ticks": ""
           }
          },
          "title": {
           "x": 0.05
          },
          "xaxis": {
           "automargin": true,
           "gridcolor": "white",
           "linecolor": "white",
           "ticks": "",
           "title": {
            "standoff": 15
           },
           "zerolinecolor": "white",
           "zerolinewidth": 2
          },
          "yaxis": {
           "automargin": true,
           "gridcolor": "white",
           "linecolor": "white",
           "ticks": "",
           "title": {
            "standoff": 15
           },
           "zerolinecolor": "white",
           "zerolinewidth": 2
          }
         }
        },
        "yaxis": {
         "title": {
          "text": "frequency"
         }
        }
       }
      }
     },
     "metadata": {},
     "output_type": "display_data"
    },
    {
     "data": {
      "application/vnd.plotly.v1+json": {
       "config": {
        "plotlyServerURL": "https://plot.ly"
       },
       "data": [
        {
         "hoverinfo": "label+value",
         "labels": [
          "Trump",
          "US",
          "China",
          "like",
          "even",
          "market",
          "going",
          "think",
          "He",
          "people",
          "one",
          "tariffs",
          "money",
          "get",
          "make",
          "economy",
          "see",
          "trade",
          "world",
          "still"
         ],
         "marker": {
          "line": {
           "color": "black",
           "width": 0.5
          }
         },
         "textfont": {
          "size": 14
         },
         "textinfo": "percent",
         "type": "pie",
         "values": [
          53,
          45,
          43,
          27,
          26,
          24,
          24,
          24,
          23,
          21,
          20,
          19,
          19,
          18,
          18,
          17,
          15,
          15,
          14,
          13
         ]
        }
       ],
       "layout": {
        "template": {
         "data": {
          "bar": [
           {
            "error_x": {
             "color": "#2a3f5f"
            },
            "error_y": {
             "color": "#2a3f5f"
            },
            "marker": {
             "line": {
              "color": "#E5ECF6",
              "width": 0.5
             },
             "pattern": {
              "fillmode": "overlay",
              "size": 10,
              "solidity": 0.2
             }
            },
            "type": "bar"
           }
          ],
          "barpolar": [
           {
            "marker": {
             "line": {
              "color": "#E5ECF6",
              "width": 0.5
             },
             "pattern": {
              "fillmode": "overlay",
              "size": 10,
              "solidity": 0.2
             }
            },
            "type": "barpolar"
           }
          ],
          "carpet": [
           {
            "aaxis": {
             "endlinecolor": "#2a3f5f",
             "gridcolor": "white",
             "linecolor": "white",
             "minorgridcolor": "white",
             "startlinecolor": "#2a3f5f"
            },
            "baxis": {
             "endlinecolor": "#2a3f5f",
             "gridcolor": "white",
             "linecolor": "white",
             "minorgridcolor": "white",
             "startlinecolor": "#2a3f5f"
            },
            "type": "carpet"
           }
          ],
          "choropleth": [
           {
            "colorbar": {
             "outlinewidth": 0,
             "ticks": ""
            },
            "type": "choropleth"
           }
          ],
          "contour": [
           {
            "colorbar": {
             "outlinewidth": 0,
             "ticks": ""
            },
            "colorscale": [
             [
              0,
              "#0d0887"
             ],
             [
              0.1111111111111111,
              "#46039f"
             ],
             [
              0.2222222222222222,
              "#7201a8"
             ],
             [
              0.3333333333333333,
              "#9c179e"
             ],
             [
              0.4444444444444444,
              "#bd3786"
             ],
             [
              0.5555555555555556,
              "#d8576b"
             ],
             [
              0.6666666666666666,
              "#ed7953"
             ],
             [
              0.7777777777777778,
              "#fb9f3a"
             ],
             [
              0.8888888888888888,
              "#fdca26"
             ],
             [
              1,
              "#f0f921"
             ]
            ],
            "type": "contour"
           }
          ],
          "contourcarpet": [
           {
            "colorbar": {
             "outlinewidth": 0,
             "ticks": ""
            },
            "type": "contourcarpet"
           }
          ],
          "heatmap": [
           {
            "colorbar": {
             "outlinewidth": 0,
             "ticks": ""
            },
            "colorscale": [
             [
              0,
              "#0d0887"
             ],
             [
              0.1111111111111111,
              "#46039f"
             ],
             [
              0.2222222222222222,
              "#7201a8"
             ],
             [
              0.3333333333333333,
              "#9c179e"
             ],
             [
              0.4444444444444444,
              "#bd3786"
             ],
             [
              0.5555555555555556,
              "#d8576b"
             ],
             [
              0.6666666666666666,
              "#ed7953"
             ],
             [
              0.7777777777777778,
              "#fb9f3a"
             ],
             [
              0.8888888888888888,
              "#fdca26"
             ],
             [
              1,
              "#f0f921"
             ]
            ],
            "type": "heatmap"
           }
          ],
          "histogram": [
           {
            "marker": {
             "pattern": {
              "fillmode": "overlay",
              "size": 10,
              "solidity": 0.2
             }
            },
            "type": "histogram"
           }
          ],
          "histogram2d": [
           {
            "colorbar": {
             "outlinewidth": 0,
             "ticks": ""
            },
            "colorscale": [
             [
              0,
              "#0d0887"
             ],
             [
              0.1111111111111111,
              "#46039f"
             ],
             [
              0.2222222222222222,
              "#7201a8"
             ],
             [
              0.3333333333333333,
              "#9c179e"
             ],
             [
              0.4444444444444444,
              "#bd3786"
             ],
             [
              0.5555555555555556,
              "#d8576b"
             ],
             [
              0.6666666666666666,
              "#ed7953"
             ],
             [
              0.7777777777777778,
              "#fb9f3a"
             ],
             [
              0.8888888888888888,
              "#fdca26"
             ],
             [
              1,
              "#f0f921"
             ]
            ],
            "type": "histogram2d"
           }
          ],
          "histogram2dcontour": [
           {
            "colorbar": {
             "outlinewidth": 0,
             "ticks": ""
            },
            "colorscale": [
             [
              0,
              "#0d0887"
             ],
             [
              0.1111111111111111,
              "#46039f"
             ],
             [
              0.2222222222222222,
              "#7201a8"
             ],
             [
              0.3333333333333333,
              "#9c179e"
             ],
             [
              0.4444444444444444,
              "#bd3786"
             ],
             [
              0.5555555555555556,
              "#d8576b"
             ],
             [
              0.6666666666666666,
              "#ed7953"
             ],
             [
              0.7777777777777778,
              "#fb9f3a"
             ],
             [
              0.8888888888888888,
              "#fdca26"
             ],
             [
              1,
              "#f0f921"
             ]
            ],
            "type": "histogram2dcontour"
           }
          ],
          "mesh3d": [
           {
            "colorbar": {
             "outlinewidth": 0,
             "ticks": ""
            },
            "type": "mesh3d"
           }
          ],
          "parcoords": [
           {
            "line": {
             "colorbar": {
              "outlinewidth": 0,
              "ticks": ""
             }
            },
            "type": "parcoords"
           }
          ],
          "pie": [
           {
            "automargin": true,
            "type": "pie"
           }
          ],
          "scatter": [
           {
            "fillpattern": {
             "fillmode": "overlay",
             "size": 10,
             "solidity": 0.2
            },
            "type": "scatter"
           }
          ],
          "scatter3d": [
           {
            "line": {
             "colorbar": {
              "outlinewidth": 0,
              "ticks": ""
             }
            },
            "marker": {
             "colorbar": {
              "outlinewidth": 0,
              "ticks": ""
             }
            },
            "type": "scatter3d"
           }
          ],
          "scattercarpet": [
           {
            "marker": {
             "colorbar": {
              "outlinewidth": 0,
              "ticks": ""
             }
            },
            "type": "scattercarpet"
           }
          ],
          "scattergeo": [
           {
            "marker": {
             "colorbar": {
              "outlinewidth": 0,
              "ticks": ""
             }
            },
            "type": "scattergeo"
           }
          ],
          "scattergl": [
           {
            "marker": {
             "colorbar": {
              "outlinewidth": 0,
              "ticks": ""
             }
            },
            "type": "scattergl"
           }
          ],
          "scattermap": [
           {
            "marker": {
             "colorbar": {
              "outlinewidth": 0,
              "ticks": ""
             }
            },
            "type": "scattermap"
           }
          ],
          "scattermapbox": [
           {
            "marker": {
             "colorbar": {
              "outlinewidth": 0,
              "ticks": ""
             }
            },
            "type": "scattermapbox"
           }
          ],
          "scatterpolar": [
           {
            "marker": {
             "colorbar": {
              "outlinewidth": 0,
              "ticks": ""
             }
            },
            "type": "scatterpolar"
           }
          ],
          "scatterpolargl": [
           {
            "marker": {
             "colorbar": {
              "outlinewidth": 0,
              "ticks": ""
             }
            },
            "type": "scatterpolargl"
           }
          ],
          "scatterternary": [
           {
            "marker": {
             "colorbar": {
              "outlinewidth": 0,
              "ticks": ""
             }
            },
            "type": "scatterternary"
           }
          ],
          "surface": [
           {
            "colorbar": {
             "outlinewidth": 0,
             "ticks": ""
            },
            "colorscale": [
             [
              0,
              "#0d0887"
             ],
             [
              0.1111111111111111,
              "#46039f"
             ],
             [
              0.2222222222222222,
              "#7201a8"
             ],
             [
              0.3333333333333333,
              "#9c179e"
             ],
             [
              0.4444444444444444,
              "#bd3786"
             ],
             [
              0.5555555555555556,
              "#d8576b"
             ],
             [
              0.6666666666666666,
              "#ed7953"
             ],
             [
              0.7777777777777778,
              "#fb9f3a"
             ],
             [
              0.8888888888888888,
              "#fdca26"
             ],
             [
              1,
              "#f0f921"
             ]
            ],
            "type": "surface"
           }
          ],
          "table": [
           {
            "cells": {
             "fill": {
              "color": "#EBF0F8"
             },
             "line": {
              "color": "white"
             }
            },
            "header": {
             "fill": {
              "color": "#C8D4E3"
             },
             "line": {
              "color": "white"
             }
            },
            "type": "table"
           }
          ]
         },
         "layout": {
          "annotationdefaults": {
           "arrowcolor": "#2a3f5f",
           "arrowhead": 0,
           "arrowwidth": 1
          },
          "autotypenumbers": "strict",
          "coloraxis": {
           "colorbar": {
            "outlinewidth": 0,
            "ticks": ""
           }
          },
          "colorscale": {
           "diverging": [
            [
             0,
             "#8e0152"
            ],
            [
             0.1,
             "#c51b7d"
            ],
            [
             0.2,
             "#de77ae"
            ],
            [
             0.3,
             "#f1b6da"
            ],
            [
             0.4,
             "#fde0ef"
            ],
            [
             0.5,
             "#f7f7f7"
            ],
            [
             0.6,
             "#e6f5d0"
            ],
            [
             0.7,
             "#b8e186"
            ],
            [
             0.8,
             "#7fbc41"
            ],
            [
             0.9,
             "#4d9221"
            ],
            [
             1,
             "#276419"
            ]
           ],
           "sequential": [
            [
             0,
             "#0d0887"
            ],
            [
             0.1111111111111111,
             "#46039f"
            ],
            [
             0.2222222222222222,
             "#7201a8"
            ],
            [
             0.3333333333333333,
             "#9c179e"
            ],
            [
             0.4444444444444444,
             "#bd3786"
            ],
            [
             0.5555555555555556,
             "#d8576b"
            ],
            [
             0.6666666666666666,
             "#ed7953"
            ],
            [
             0.7777777777777778,
             "#fb9f3a"
            ],
            [
             0.8888888888888888,
             "#fdca26"
            ],
            [
             1,
             "#f0f921"
            ]
           ],
           "sequentialminus": [
            [
             0,
             "#0d0887"
            ],
            [
             0.1111111111111111,
             "#46039f"
            ],
            [
             0.2222222222222222,
             "#7201a8"
            ],
            [
             0.3333333333333333,
             "#9c179e"
            ],
            [
             0.4444444444444444,
             "#bd3786"
            ],
            [
             0.5555555555555556,
             "#d8576b"
            ],
            [
             0.6666666666666666,
             "#ed7953"
            ],
            [
             0.7777777777777778,
             "#fb9f3a"
            ],
            [
             0.8888888888888888,
             "#fdca26"
            ],
            [
             1,
             "#f0f921"
            ]
           ]
          },
          "colorway": [
           "#636efa",
           "#EF553B",
           "#00cc96",
           "#ab63fa",
           "#FFA15A",
           "#19d3f3",
           "#FF6692",
           "#B6E880",
           "#FF97FF",
           "#FECB52"
          ],
          "font": {
           "color": "#2a3f5f"
          },
          "geo": {
           "bgcolor": "white",
           "lakecolor": "white",
           "landcolor": "#E5ECF6",
           "showlakes": true,
           "showland": true,
           "subunitcolor": "white"
          },
          "hoverlabel": {
           "align": "left"
          },
          "hovermode": "closest",
          "mapbox": {
           "style": "light"
          },
          "paper_bgcolor": "white",
          "plot_bgcolor": "#E5ECF6",
          "polar": {
           "angularaxis": {
            "gridcolor": "white",
            "linecolor": "white",
            "ticks": ""
           },
           "bgcolor": "#E5ECF6",
           "radialaxis": {
            "gridcolor": "white",
            "linecolor": "white",
            "ticks": ""
           }
          },
          "scene": {
           "xaxis": {
            "backgroundcolor": "#E5ECF6",
            "gridcolor": "white",
            "gridwidth": 2,
            "linecolor": "white",
            "showbackground": true,
            "ticks": "",
            "zerolinecolor": "white"
           },
           "yaxis": {
            "backgroundcolor": "#E5ECF6",
            "gridcolor": "white",
            "gridwidth": 2,
            "linecolor": "white",
            "showbackground": true,
            "ticks": "",
            "zerolinecolor": "white"
           },
           "zaxis": {
            "backgroundcolor": "#E5ECF6",
            "gridcolor": "white",
            "gridwidth": 2,
            "linecolor": "white",
            "showbackground": true,
            "ticks": "",
            "zerolinecolor": "white"
           }
          },
          "shapedefaults": {
           "line": {
            "color": "#2a3f5f"
           }
          },
          "ternary": {
           "aaxis": {
            "gridcolor": "white",
            "linecolor": "white",
            "ticks": ""
           },
           "baxis": {
            "gridcolor": "white",
            "linecolor": "white",
            "ticks": ""
           },
           "bgcolor": "#E5ECF6",
           "caxis": {
            "gridcolor": "white",
            "linecolor": "white",
            "ticks": ""
           }
          },
          "title": {
           "x": 0.05
          },
          "xaxis": {
           "automargin": true,
           "gridcolor": "white",
           "linecolor": "white",
           "ticks": "",
           "title": {
            "standoff": 15
           },
           "zerolinecolor": "white",
           "zerolinewidth": 2
          },
          "yaxis": {
           "automargin": true,
           "gridcolor": "white",
           "linecolor": "white",
           "ticks": "",
           "title": {
            "standoff": 15
           },
           "zerolinecolor": "white",
           "zerolinewidth": 2
          }
         }
        },
        "width": 700
       }
      }
     },
     "metadata": {},
     "output_type": "display_data"
    }
   ],
   "source": [
    "# Analysis attempt on the negative words\n",
    "neg_frequency = pd.Series(neg).value_counts()\n",
    "linefig = go.Figure(go.Bar(x=neg_frequency.index,\n",
    "                           y=neg_frequency.to_list(),\n",
    "                           width=0.8,\n",
    "                           marker=dict(color='tomato')))\n",
    "\n",
    "linefig.update_layout(yaxis_title='frequency')\n",
    "linefig.show()\n",
    "\n",
    "# Top 20 words appeared in the negative data\n",
    "piefig = go.Figure(go.Pie(values=neg_frequency[:20].to_list(),\n",
    "                          labels=neg_frequency[:20].index))\n",
    "\n",
    "piefig.update_layout(width=700)\n",
    "piefig.update_traces(hoverinfo='label+value', textinfo='percent', textfont_size=14,\n",
    "                     marker=dict(line=dict(color='black', width=0.5)))\n",
    "piefig.show()\n"
   ]
  },
  {
   "cell_type": "code",
   "execution_count": 290,
   "metadata": {},
   "outputs": [
    {
     "data": {
      "application/vnd.plotly.v1+json": {
       "config": {
        "plotlyServerURL": "https://plot.ly"
       },
       "data": [
        {
         "marker": {
          "color": "gold"
         },
         "type": "bar",
         "width": 0.8,
         "x": [
          "market",
          "like",
          "stock",
          "price",
          "US",
          "futures",
          "China",
          "want",
          "see",
          "company",
          "even",
          "people",
          "Trump",
          "one",
          "money",
          "think",
          "going",
          "year",
          "today",
          "years",
          "good",
          "get",
          "know",
          "So",
          "first",
          "Daily",
          "right",
          "may",
          "day",
          "tariffs",
          "stocks",
          "look",
          "much",
          "companies",
          "call",
          "last",
          "time",
          "Is",
          "new",
          "make",
          "future",
          "well",
          "every",
          "long",
          "Market",
          "week",
          "portfolio",
          "lower",
          "go",
          "said",
          "got",
          "10",
          "still",
          "He",
          "way",
          "high",
          "need",
          "Updated",
          "silver",
          "buy",
          "rates",
          "dollar",
          "U.S.",
          "cash",
          "say",
          "Stock",
          "better",
          "higher",
          "old",
          "help",
          "No",
          "news",
          "thing",
          "Powell",
          "rise",
          "take",
          "started",
          "bond",
          "industry",
          "growth",
          "put",
          "Highlights",
          "list",
          "made",
          "ago",
          "invest",
          "Upgrades",
          "reason",
          "next",
          "As",
          "please",
          "seen",
          "seems",
          "little",
          "guys",
          "bonds",
          "trading",
          "lose",
          "SPY",
          "million",
          "data",
          "plan",
          "sense",
          "expect",
          "Art",
          "sell",
          "15",
          "using",
          "start",
          "investing",
          "back",
          "There",
          "chart",
          "squeeze",
          "let",
          "months",
          "talking",
          "things",
          "20",
          "product",
          "American",
          "Downgrades",
          "deal",
          "Xi",
          "talk",
          "selling",
          "predict",
          "thanks",
          "confident",
          "work",
          "term",
          "days",
          "pretty",
          "paper",
          "weekly",
          "drop",
          "idea",
          "note",
          "dumb",
          "shares",
          "country",
          "looking",
          "bought",
          "coming",
          "water",
          "Tesla",
          "hold",
          "lot",
          "funds",
          "important",
          "buying",
          "love",
          "far",
          "physical",
          "current",
          "big",
          "indicate",
          "post",
          "Stocks",
          "happen",
          "decline",
          "Futures",
          "world",
          "Can",
          "Cap",
          "Trends",
          "wants",
          "Any",
          "bad",
          "Charts",
          "losing",
          "Prices",
          "30",
          "comes",
          "Chinese",
          "yields",
          "tariff",
          "place",
          "Northern",
          "50",
          "100",
          "war",
          "Are",
          "come",
          "red",
          "risk",
          "us",
          "Let",
          "Gold",
          "Crude",
          "saying",
          "Oil",
          "couple",
          "Natural",
          "Gas",
          "Corn",
          "indication",
          "late",
          "sentiment",
          "different",
          "feel",
          "expectations",
          "direction",
          "indicates",
          "thread",
          "real",
          "calls",
          "change",
          "USA",
          "level",
          "learn",
          "currency",
          "optimism",
          "report",
          "suggesting",
          "thoughts",
          "find",
          "ATS",
          "Weekly",
          "pessimism",
          "vs",
          "massive",
          "small",
          "share",
          "hours",
          "suggest",
          "state",
          "used",
          "economic",
          "indicators",
          "em",
          "Some",
          "Shorts",
          "activity",
          "trump",
          "young",
          "getting",
          "making",
          "accurate",
          "interesting",
          "debt",
          "phase",
          "sector",
          "Just",
          "ask",
          "depends",
          "various",
          "factors",
          "rest",
          "individual",
          "influence",
          "month",
          "Does",
          "interest",
          "Silver",
          "end",
          "worse",
          "updated",
          "argument",
          "allocation",
          "past",
          "Charging",
          "two",
          "expecting",
          "avoid",
          "able",
          "interested",
          "least",
          "billion",
          "cost",
          "found",
          "question",
          "America",
          "stations",
          "politics",
          "room",
          "crazy",
          "point",
          "New",
          "combination",
          "stuff",
          "wait",
          "true",
          "puts",
          "possible",
          "Will",
          "portfolios",
          "book",
          "line",
          "yesterday",
          "wanted",
          "tactics",
          "target",
          "retail",
          "contracts",
          "World",
          "rooting",
          "Please",
          "thesis",
          "Markets",
          "sideways",
          "mentioned",
          "states",
          "biggest",
          "Good",
          "morning",
          "president",
          "investment",
          "mean",
          "reaction",
          "man",
          "spike",
          "stop",
          "countries",
          "explain",
          "half",
          "strategy",
          "happening",
          "record",
          "hard",
          "standard",
          "receiving",
          "set",
          "falling",
          "North",
          "strong",
          "All",
          "space",
          "22",
          "quarterly",
          "likely",
          "playing",
          "fine",
          "In",
          "Switch",
          "study",
          "went",
          "play",
          "bull",
          "process",
          "except",
          "issue",
          "must",
          "COT",
          "fast",
          "large",
          "sales",
          "revenue",
          "read",
          "Report",
          "banned",
          "500",
          "situation",
          "working",
          "kiss",
          "ass",
          "removed",
          "President",
          "asked",
          "power",
          "media",
          "treasury",
          "News",
          "insights",
          "local",
          "battery",
          "chain",
          "move",
          "version",
          "Dollar",
          "millions",
          "announced",
          "done",
          "Share",
          "common",
          "sure",
          "check",
          "law",
          "moving",
          "thought",
          "Analyst",
          "Recommendations",
          "life",
          "called",
          "nothing",
          "super",
          "dividend",
          "yield",
          "voted",
          "wrong",
          "keep",
          "rate",
          "ticker",
          "40",
          "trap",
          "government",
          "AI",
          "Looking",
          "similar",
          "gives",
          "bit",
          "Mango",
          "enjoy",
          "best",
          "One",
          "wild",
          "positive",
          "early",
          "Trading",
          "firms",
          "credit",
          "times",
          "cut",
          "perfect",
          "kind",
          "Looks",
          "nation",
          "adding",
          "rule",
          "generated",
          "Sun",
          "compliance",
          "seem",
          "technical",
          "thus",
          "ready",
          "traded",
          "respond",
          "words",
          "college",
          "whole",
          "circle",
          "watch",
          "orders",
          "search",
          "Position",
          "double",
          "spend",
          "broker",
          "port",
          "analysis",
          "peoples",
          "care",
          "deporting",
          "posts",
          "Right",
          "believe",
          "inventory",
          "reports",
          "left",
          "part",
          "reading",
          "trade",
          "Here",
          "become",
          "car",
          "Same",
          "act",
          "show",
          "enough",
          "treatment",
          "remove",
          "giving",
          "goes",
          "supported",
          "noise",
          "military",
          "nonsense",
          "patients",
          "job",
          "users",
          "pissed",
          "source",
          "questions",
          "tickers",
          "smart",
          "later",
          "cares",
          "significant",
          "improvement",
          "use",
          "pushing",
          "changes",
          "ok",
          "Summarized",
          "annex",
          "global",
          "Or",
          "degree",
          "increased",
          "friend",
          "hiring",
          "hire",
          "Got",
          "Summary",
          "mind",
          "allows",
          "chips",
          "closed",
          "issues",
          "saving",
          "drops",
          "home",
          "hear",
          "fair",
          "games",
          "lots",
          "cuts",
          "guy",
          "plans",
          "Brazilian",
          "earnings",
          "event",
          "trends",
          "adjust",
          "fire",
          "top",
          "officials",
          "independent",
          "executive",
          "ideas",
          "regulators",
          "Fed",
          "shows",
          "resource",
          "Fidelity",
          "numbers",
          "less",
          "profit",
          "number",
          "25",
          "Call",
          "worth",
          "seven",
          "catalyst",
          "losses",
          "begging",
          "Figured",
          "ones",
          "Revenue",
          "Cycle",
          "hell",
          "straight",
          "supply",
          "bear",
          "mining",
          "several",
          "appreciated",
          "site",
          "purchase",
          "wrote",
          "War",
          "Create",
          "Make",
          "Then",
          "happened",
          "Earnings",
          "knows",
          "partnership",
          "video",
          "game",
          "Business",
          "article",
          "full",
          "charging",
          "Tree",
          "bigger",
          "players",
          "chargers",
          "seeing",
          "chip",
          "meet",
          "export",
          "demand",
          "agree",
          "manufacturing",
          "health",
          "basis",
          "Group",
          "Limited",
          "repurchase",
          "fact",
          "capital",
          "Equinox",
          "ca",
          "update",
          "girl",
          "store",
          "pick",
          "launch",
          "environment",
          "carts",
          "saw",
          "increases",
          "recent",
          "ton",
          "hooked",
          "drinking",
          "grocery",
          "try",
          "Target",
          "Remember",
          "cheap",
          "incentive",
          "inflation",
          "sitting",
          "example",
          "heading",
          "treasuries",
          "sells",
          "card",
          "capable",
          "turns",
          "shit",
          "short",
          "known",
          "metal",
          "combined",
          "electric",
          "vehicle",
          "HIVE",
          "90",
          "reprieve",
          "markets",
          "Popping",
          "follow",
          "introduced",
          "rich",
          "campaign",
          "favorite",
          "shorted",
          "holds",
          "Deal",
          "friends",
          "Apple",
          "terms",
          "superior",
          "entire",
          "falls",
          "Be",
          "stick",
          "matter",
          "studies",
          "First",
          "away",
          "fall",
          "safe",
          "Capital",
          "switch",
          "helped",
          "serious",
          "Threshold",
          "Treasury",
          "Treasurys",
          "Join",
          "drive",
          "rally",
          "Bond",
          "assuming",
          "gotten",
          "base",
          "comment",
          "Intelligence",
          "Total",
          "European",
          "low",
          "stay",
          "forgot",
          "hearing",
          "diamond",
          "fuck",
          "bets",
          "assumption",
          "shopping",
          "build",
          "plays",
          "growing",
          "online",
          "documents",
          "controls",
          "link",
          "assets",
          "hands",
          "advocating",
          "goods",
          "program",
          "relative",
          "flat",
          "win",
          "Whoops",
          "Discord",
          "blend",
          "oil",
          "positions",
          "Hi",
          "specific",
          "specified",
          "12",
          "warrant",
          "raises",
          "weakness",
          "Bull",
          "information",
          "70",
          "upgrade",
          "parts",
          "affected",
          "Tariffs",
          "actual",
          "word",
          "write",
          "Best",
          "regards",
          "business",
          "phone",
          "miss",
          "fees",
          "person",
          "give",
          "recession",
          "black",
          "writing",
          "geographical",
          "responses",
          "Write",
          "strongest",
          "justifications",
          "reasoning",
          "weak",
          "savings",
          "proud",
          "prove",
          "stranger",
          "international",
          "south",
          "freeze",
          "realizes",
          "terrible",
          "course",
          "worked",
          "demise",
          "america",
          "unwinding",
          "causing",
          "Most",
          "speculation",
          "four",
          "lying",
          "Help",
          "walked",
          "billions",
          "calculated",
          "attack",
          "single",
          "robbed",
          "Breaking",
          "challenges",
          "cage",
          "match",
          "settle",
          "differences",
          "Worry",
          "coin",
          "tweeting",
          "Over",
          "dose",
          "evil",
          "burn",
          "ground",
          "ashes",
          "extension",
          "spring",
          "mark",
          "frame",
          "reference",
          "clarify",
          "stating",
          "definitions",
          "verbiage",
          "works",
          "demanding",
          "explodes",
          "Nothing",
          "shorting",
          "mastermind",
          "saved",
          "strengthen",
          "eu",
          "stronger",
          "perspectives",
          "affect",
          "effective",
          "learning",
          "blinked",
          "Word",
          "street",
          "wholesale",
          "premium",
          "live",
          "upper",
          "hand",
          "liberals",
          "proof",
          "genius",
          "excuses",
          "changing",
          "randomized",
          "II",
          "evaluated",
          "universal",
          "cancer",
          "Sponsored",
          "University",
          "Hospital",
          "trial",
          "enrolled",
          "alone",
          "primary",
          "objective",
          "determine",
          "leads",
          "survival",
          "progression",
          "sold",
          "Local",
          "hobby",
          "shops",
          "average",
          "forest",
          "fires",
          "dope",
          "brace",
          "volatility",
          "west",
          "Russia",
          "access",
          "Swift",
          "beginner",
          "usa",
          "following",
          "ira",
          "lump",
          "sum",
          "brokerage",
          "advantage",
          "tips",
          "reacts",
          "rapid",
          "Thing",
          "bouncing",
          "Analysis",
          "established",
          "Happening",
          "club",
          "nuke",
          "Add",
          "republicans",
          "office",
          "grace",
          "Buy",
          "cool",
          "chest",
          "bumping",
          "stories",
          "firing",
          "judges",
          "students",
          "school",
          "sports",
          "bans",
          "SO",
          "BORED",
          "amass",
          "moved",
          "warehousing",
          "shipping",
          "ability",
          "stockpile",
          "limited",
          "Thought",
          "sec",
          "paranoid",
          "hedge",
          "fund",
          "excited",
          "delta",
          "Warm",
          "retards",
          "Lee",
          "Jones",
          "description",
          "tax",
          "existed",
          "golf",
          "breakdown",
          "necessities",
          "recreation",
          "purchases",
          "distract",
          "El",
          "stopped",
          "sucked",
          "killing",
          "phony",
          "commitment",
          "stung",
          "hardcore",
          "shoppers",
          "kick",
          "shop",
          "afford",
          "Truss",
          "smaller",
          "scale",
          "step",
          "derailed",
          "radical",
          "deep",
          "politicians",
          "steps",
          "employed",
          "shifted",
          "cooking",
          "takeout",
          "Drive",
          "Scale",
          "Do",
          "shift",
          "potential",
          "waiting",
          "ring",
          "hook",
          "Ban",
          "Bet",
          "Lost",
          "bet",
          "wins",
          "behind",
          "handy",
          "hour",
          "eat",
          "GE",
          "rose",
          "drone",
          "daily",
          "quick",
          "watching",
          "marvel",
          "leadership",
          "betrayed",
          "sucking",
          "nipple",
          "riot",
          "broken",
          "smooth",
          "14",
          "embargoing",
          "strategic",
          "needed",
          "sectors",
          "amazed",
          "fed",
          "pissing",
          "contest",
          "adult",
          "Razor",
          "needs",
          "created",
          "groceries",
          "fashioned",
          "BEAUTIFUL",
          "bullets",
          "Saving",
          "understanding",
          "healthy",
          "safer",
          "vertical",
          "mornings",
          "takes",
          "sunglasses",
          "TARGET",
          "boycott",
          "rises",
          "minutes",
          "Free",
          "invaded",
          "Vietnam",
          "lie",
          "threaten",
          "Panama",
          "Israel",
          "arming",
          "wipe",
          "native",
          "starvation",
          "Hawaii",
          "root",
          "Speak",
          "harder",
          "Greatest",
          "anime",
          "betrayals",
          "pop",
          "convenient",
          "potato",
          "starting",
          "sneakers",
          "naming",
          "proved",
          "United",
          "Industries",
          "Seeing",
          "systems",
          "Christmas",
          "spine",
          "gone",
          "looks",
          "resolve",
          "control",
          "minds",
          "Hes",
          "mad",
          "Racist",
          "cards",
          "bankrupt",
          "Energy",
          "hot",
          "girls",
          "pour",
          "addicts",
          "loophole",
          "weekend",
          "cooked",
          "belong",
          "order",
          "magnitude",
          "gamble",
          "magnitudes",
          "Tangerine",
          "Twat",
          "absolute",
          "favourite",
          "clause",
          "essential",
          "Treasuries",
          "Supreme",
          "Court",
          "shifting",
          "gold",
          "unpredictable",
          "political",
          "agencies",
          "citing",
          "assert",
          "autocracy",
          "behaviour",
          "federal",
          "produces",
          "explains",
          "breaking",
          "caved",
          "fight",
          "moves",
          "Bagging",
          "Mineral",
          "Resources",
          "raising",
          "regime",
          "consequence",
          "expansion",
          "Like",
          "decide",
          "costs",
          "increase",
          "insulting",
          "orange",
          "twist",
          "messiah",
          "Copper",
          "Mining",
          "MARA",
          "RIOT",
          "CAN",
          "COIN",
          "HUT",
          "Gainers",
          "Today",
          "Invest",
          "Trillion",
          "allowing",
          "cock",
          "casino",
          "jay",
          "gee",
          "return",
          "profile",
          "meow",
          "Disgusting",
          "vacation",
          "nice",
          "paced",
          "nature",
          "Google",
          "Shop",
          "pilot",
          "Record",
          "increasing",
          "Quarters",
          "Critical",
          "Metals",
          "rang",
          "bell",
          "aiming",
          "SI",
          "Europe",
          "turn",
          "integrated",
          "poised",
          "cap",
          "Major",
          "zone",
          "key",
          "production",
          "Including",
          "addition",
          "Ford",
          "Time",
          "pool",
          "together",
          "partners",
          "consecutive",
          "weeks",
          "Chicken",
          "jockey",
          "inevitable",
          "vice",
          "victorious",
          "seeks",
          "battle",
          "surprised",
          "described",
          "viable",
          "scenario",
          "mango",
          "built",
          "holiday",
          "Hype",
          "Talk",
          "nonstop",
          "winter",
          "presentation",
          "ending",
          "Discount",
          "winners",
          "Cost",
          "Reduction",
          "latest",
          "Hertz",
          "revive",
          "struggling",
          "Lower",
          "models",
          "putting",
          "Compact",
          "reserve",
          "footsteps",
          "Rumors",
          "flying",
          "Low",
          "console",
          "released",
          "Debt",
          "reveal",
          "Rolling",
          "Standard",
          "discount",
          "Family",
          "decade",
          "fit",
          "struggled",
          "ALL",
          "vehicles",
          "relieved",
          "refocus",
          "core",
          "brand",
          "Yahoo",
          "losers",
          "froze",
          "recharge",
          "rebates",
          "programs",
          "matters",
          "doubling",
          "pressure",
          "broader",
          "Artificial",
          "designed",
          "maximum",
          "Renew",
          "rules",
          "shut",
          "center",
          "standards",
          "urging",
          "criteria",
          "older",
          "Times",
          "close",
          "scoop",
          "evening",
          "subscribe",
          "infrastructure",
          "medical",
          "multiple",
          "risks",
          "TESLA",
          "Americans",
          "Significant",
          "backing",
          "Repurchase",
          "leaves",
          "grow",
          "spent",
          "Chargers",
          "holdings",
          "forecast",
          "holding",
          "owned",
          "niche",
          "scaling",
          "sooner",
          "enter",
          "decent",
          "team",
          "Big",
          "flag",
          "successes",
          "secondary",
          "meaning",
          "offering",
          "shilling",
          "case",
          "riding",
          "momentum",
          "cough",
          "chasing",
          "Conclusion",
          "Held",
          "egg",
          "poultry",
          "opinion",
          "gents",
          "reserves",
          "sorts",
          "eating",
          "habits",
          "Rates",
          "picking",
          "obscure",
          "leading",
          "friendly",
          "cardboard",
          "packed",
          "DOE",
          "Flow",
          "honest",
          "traditional",
          "drinker",
          "loan",
          "bonus",
          "looked",
          "entry",
          "Curiosity",
          "PR",
          "leg",
          "Last",
          "took",
          "Live",
          "Nation",
          "concluded",
          "Based",
          "tasted",
          "told",
          "talent",
          "kept",
          "fun",
          "names",
          "box",
          "unique",
          "hired",
          "items",
          "Chief",
          "crying",
          "Peoples",
          "arms",
          "deals",
          "Officer",
          "implying",
          "press",
          "meeting",
          "permitted",
          "expand",
          "Aged",
          "milk",
          "private",
          "bottom",
          "connections",
          "chance",
          "Top",
          "social",
          "Social",
          "Sorry",
          "conversion",
          "tied",
          "indicator",
          "kid",
          "Cause",
          "depression",
          "protection",
          "welcome",
          "Foreign",
          "holders",
          "weird",
          "decision",
          "unwind",
          "calculus",
          "anticipate",
          "slow",
          "exit",
          "blinks",
          "Cash",
          "lucky",
          "Japan",
          "co-ordinate",
          "prevent",
          "crash",
          "interests",
          "admit",
          "boomed",
          "trigger",
          "collapse",
          "solutions",
          "plug",
          "machine",
          "bang",
          "whimper",
          "requires",
          "promote",
          "protect",
          "pumped",
          "china",
          "unrelated",
          "Button",
          "hatches",
          "27",
          "corrected",
          "Man",
          "means",
          "shitting",
          "pants",
          "Truth",
          "hurts",
          "Yields",
          "spiking",
          "Weekend",
          "crashing",
          "refusing",
          "steal",
          "analysts",
          "exports",
          "plentiful",
          "typed",
          "accelerate",
          "refused",
          "hypothetical",
          "Performance",
          "International",
          "marketing",
          "technology",
          "larger",
          "portion",
          "Reach",
          "aimed",
          "improving",
          "attendance",
          "strategies",
          "features",
          "including",
          "user",
          "interface",
          "easier",
          "heard",
          "management",
          "enhanced",
          "tracking",
          "performance",
          "notable",
          "platform",
          "Cisco",
          "cause",
          "chatter",
          "flavor",
          "FANS",
          "climb",
          "cross",
          "purple",
          "21",
          "confirm",
          "consolidating",
          "executed",
          "discuss",
          "expose",
          "desperation",
          "Warren",
          "Buffet",
          "distributed",
          "majority",
          "constructive",
          "ADP",
          "criticism",
          "freaky",
          "letters",
          "benefits",
          "banging",
          "ladies",
          "Animal",
          "walks",
          "upright",
          "Deficiency",
          "Fluids",
          "fill",
          "Muscles",
          "appears",
          "highest",
          "Part",
          "Face",
          "grows",
          "lank",
          "wrinkled",
          "Neck",
          "Breast",
          "Arms",
          "Parts",
          "continuing",
          "plump",
          "covering",
          "Basket",
          "Girdle",
          "impossible",
          "Women",
          "dark",
          "Cats",
          "grey",
          "Pleasure",
          "corporal",
          "Enjoyment",
          "Woman",
          "equal",
          "Public",
          "Practice",
          "Benjamin",
          "Franklin",
          "missing",
          "clothes",
          "beauty",
          "products",
          "recommend",
          "bowl",
          "defence",
          "Check",
          "recommendations",
          "Removed",
          "definitive",
          "scanner",
          "acquisition",
          "agreement",
          "brokers",
          "On",
          "Morning",
          "Finance",
          "student",
          "project",
          "Equities",
          "Portfolios",
          "setup",
          "researches",
          "community",
          "basics",
          "limit",
          "king",
          "aware",
          "second",
          "group",
          "equities",
          "Deep",
          "Value",
          "knowing",
          "Stay",
          "Investing",
          "updates",
          "Gain",
          "damn",
          "Wonder",
          "spoke",
          "censorship",
          "usage",
          "Counter",
          "Democrat",
          "cycles",
          "switched",
          "links",
          "Dude",
          "election",
          "sexist",
          "vote",
          "woman",
          "charge",
          "responding",
          "circles",
          "enlightening",
          "Harris",
          "Have",
          "swell",
          "Selling",
          "dip",
          "Losing",
          "climbed",
          "points",
          "Asia",
          "resumed",
          "biases",
          "sharp",
          "triggered",
          "previous",
          "policies",
          "forcing",
          "administration",
          "rethink",
          "pause",
          "gourd",
          "Believe",
          "halted",
          "impact",
          "waned",
          "slide",
          "resuming",
          "faced",
          "feels",
          "Thanks",
          "laugh",
          "Red",
          "pill",
          "masses",
          "dropped",
          "earlier",
          "run",
          "ten",
          "LEAPS",
          "period",
          "gets",
          "approved",
          "front",
          "funding",
          "dependent",
          "failing",
          "pay",
          "ridiculous",
          "thinking",
          "dilution",
          "Super",
          "curious",
          "delete",
          "spending",
          "Thoughts",
          "allies",
          "retarded",
          "Thinking",
          "renewing",
          "passport",
          "lady",
          "dramatic",
          "guess",
          "stage",
          "Still",
          "undecided",
          "Found",
          "User",
          "partial",
          "Submissions",
          "Seen",
          "Comments",
          "Previous",
          "Account",
          "Age",
          "leveraged",
          "60",
          "opens",
          "meant",
          "Airline",
          "Ok",
          "float",
          "rip",
          "tomorrow",
          "according",
          "Twitter",
          "applying",
          "jobs",
          "intermediate",
          "recommended",
          "vaults",
          "Dog",
          "eerie",
          "Singapore",
          "Examples",
          "interview",
          "Screw",
          "learned",
          "football",
          "pride",
          "Money",
          "listed",
          "wit",
          "longer",
          "green",
          "proceeds",
          "elected",
          "appointed",
          "performing",
          "official",
          "acts",
          "public",
          "listen",
          "conspiracy",
          "theories",
          "involving",
          "Hunter",
          "Yea",
          "denial",
          "extra",
          "beginning",
          "net",
          "natural",
          "underlying",
          "statement",
          "possesses",
          "capability",
          "lesson",
          "Hold",
          "laughable",
          "pin",
          "negative",
          "comments",
          "cycle",
          "spur",
          "thrown",
          "values",
          "criticizing",
          "Regardless",
          "accept",
          "dangerous",
          "heads",
          "cult",
          "advise",
          "trust",
          "tell",
          "supplicate",
          "hopes",
          "dreams",
          "Leader",
          "fault",
          "deserved",
          "research",
          "includes",
          "barrel",
          "showing",
          "importance",
          "white",
          "18",
          "Matt",
          "Unit",
          "discussing",
          "Note",
          "impacts",
          "clean",
          "sole",
          "producer",
          "primed",
          "player",
          "manufacturers",
          "Heres",
          "energy",
          "Solid",
          "Crazy",
          "figure",
          "revered",
          "leaning",
          "sides",
          "makes",
          "Stop",
          "sensational",
          "headlines",
          "imposes",
          "foreigners",
          "liquidating",
          "promising",
          "repatriating",
          "hog",
          "elect",
          "special",
          "Brain",
          "feeling",
          "tweets",
          "intervals",
          "Matrix",
          "bring",
          "benefit",
          "easy",
          "Ross",
          "trumps",
          "raise",
          "retaliate",
          "listening",
          "embargoed",
          "brain",
          "pegged",
          "Conservatives",
          "improper",
          "peanut",
          "farm",
          "rhetorical",
          "query",
          "valuing",
          "Seems",
          "assume",
          "intent",
          "hate",
          "Russians",
          "alright",
          "support",
          "ad",
          "total",
          "incorrect",
          "bud",
          "currencies",
          "recommendation",
          "remembers",
          "Peasant",
          "building",
          "city",
          "skyline",
          "art",
          "generations",
          "window",
          "count",
          "Australia",
          "nuclear",
          "submarines",
          "bunch",
          "richer",
          "wonder",
          "sees",
          "forget",
          "weaker",
          "bullying",
          "near",
          "consulted",
          "prison",
          "acceptable",
          "Stewart",
          "Lock",
          "giggle",
          "High",
          "beta",
          "Assuming",
          "unity",
          "amazon",
          "das",
          "Makers",
          "type",
          "precious",
          "crashes",
          "Weak",
          "decided",
          "FIRE",
          "Coast",
          "conditions",
          "foreign",
          "Enter",
          "posted",
          "image",
          "happens",
          "party",
          "pensions",
          "exist",
          "vibes",
          "afternoon",
          "toilet",
          "papers",
          "margin",
          "shrink",
          "concerning",
          "shakedown",
          "reversing",
          "chess",
          "consequences",
          "understand",
          "goal",
          "pivot",
          "belongs",
          "jail",
          "dm",
          "Facilities",
          "Month",
          "insurance",
          "80",
          "picks",
          "lows",
          "held",
          "due",
          "WISE",
          "Ready",
          "cancel",
          "mutual",
          "significance",
          "rising",
          "comparison",
          "snap",
          "Following",
          "added",
          "drag",
          "related",
          "free",
          "edit",
          "extreme",
          "commenting",
          "focus",
          "affects",
          "communities",
          "linking",
          "action",
          "performed",
          "contact",
          "moderators",
          "concerns",
          "woke",
          "sleeping",
          "giant",
          "pointless",
          "garbage",
          "spilling",
          "gambit",
          "Plain",
          "spaghetti",
          "taxes",
          "Cant",
          "passed",
          "chemistry",
          "test",
          "Warrant",
          "territory",
          "valid",
          "till",
          "date",
          "sound",
          "react",
          "feedback",
          "shooting",
          "feet",
          "survive",
          "discussion",
          "focuses",
          "perceived",
          "seeking",
          "mentioning",
          "Candle",
          "thorough",
          "topic",
          "name",
          "Revelation",
          "warning",
          "tracks",
          "empires",
          "Commitment",
          "publication",
          "issued",
          "Commission",
          "provides",
          "recommending",
          "types",
          "options",
          "fired",
          "Even",
          "Greek",
          "places",
          "funny",
          "wan",
          "rage",
          "break",
          "lets",
          "perform",
          "bullshit",
          "Amazon",
          "overexposed",
          "regardless",
          "Given",
          "wise",
          "steady",
          "guidance",
          "branch",
          "reassuring",
          "provided",
          "authority",
          "oversight",
          "SEC",
          "superfluous",
          "NOW",
          "IS",
          "GREAT",
          "TIME",
          "SELL",
          "Edit",
          "helps",
          "profits",
          "range",
          "proven",
          "organic",
          "acquisitions",
          "track",
          "mission",
          "critical",
          "expanding",
          "channel",
          "enterprise",
          "expands",
          "family",
          "member",
          "Hoping",
          "ejaculate",
          "wet",
          "warm",
          "puss",
          "based",
          "wish",
          "luck",
          "Confirmed",
          "concentrated",
          "lesser",
          "justifies",
          "spread",
          "investments",
          "mouth",
          "terminal",
          "sub",
          "ruined",
          "emails",
          "hurt",
          "mention",
          "emotional",
          "temporary",
          "rational",
          "reasons",
          "heavy",
          "maintain",
          "obligated",
          "difficult",
          "tonight",
          "Biggest",
          "macro",
          "discounting",
          "service",
          "handle",
          "implementations",
          "opposed",
          "congress",
          "implementation",
          "Oracle",
          "cautious",
          "keeping",
          "attractive",
          "Adobe",
          "valuations",
          "exact",
          "distributor",
          "leak",
          "PERIOD",
          "answer",
          "confused",
          "Interesting",
          "Asking",
          "corrupt",
          "supreme",
          "court",
          "history",
          "rewrite",
          "Take",
          "letter",
          "reserved",
          "Stunt"
         ],
         "y": [
          63,
          45,
          33,
          29,
          28,
          24,
          22,
          22,
          21,
          21,
          20,
          20,
          20,
          20,
          19,
          18,
          17,
          16,
          16,
          15,
          15,
          14,
          14,
          14,
          13,
          13,
          13,
          13,
          12,
          12,
          12,
          12,
          12,
          12,
          12,
          11,
          11,
          11,
          11,
          10,
          10,
          10,
          10,
          10,
          10,
          10,
          10,
          10,
          10,
          9,
          9,
          9,
          9,
          9,
          9,
          9,
          9,
          9,
          9,
          9,
          8,
          8,
          8,
          8,
          8,
          8,
          8,
          8,
          7,
          7,
          7,
          7,
          7,
          7,
          7,
          7,
          7,
          7,
          7,
          7,
          7,
          7,
          7,
          7,
          7,
          7,
          6,
          6,
          6,
          6,
          6,
          6,
          6,
          6,
          6,
          6,
          6,
          6,
          6,
          6,
          6,
          6,
          6,
          6,
          6,
          6,
          6,
          6,
          6,
          6,
          6,
          6,
          6,
          6,
          6,
          6,
          6,
          6,
          6,
          6,
          6,
          6,
          5,
          5,
          5,
          5,
          5,
          5,
          5,
          5,
          5,
          5,
          5,
          5,
          5,
          5,
          5,
          5,
          5,
          5,
          5,
          5,
          5,
          5,
          5,
          5,
          5,
          5,
          5,
          5,
          5,
          5,
          5,
          5,
          5,
          5,
          5,
          5,
          5,
          5,
          5,
          5,
          5,
          5,
          5,
          5,
          5,
          5,
          5,
          5,
          5,
          5,
          5,
          5,
          5,
          5,
          4,
          4,
          4,
          4,
          4,
          4,
          4,
          4,
          4,
          4,
          4,
          4,
          4,
          4,
          4,
          4,
          4,
          4,
          4,
          4,
          4,
          4,
          4,
          4,
          4,
          4,
          4,
          4,
          4,
          4,
          4,
          4,
          4,
          4,
          4,
          4,
          4,
          4,
          4,
          4,
          4,
          4,
          4,
          4,
          4,
          4,
          4,
          4,
          4,
          4,
          4,
          4,
          4,
          4,
          4,
          4,
          4,
          4,
          4,
          4,
          4,
          4,
          4,
          4,
          4,
          4,
          4,
          4,
          4,
          4,
          4,
          4,
          4,
          4,
          4,
          4,
          4,
          4,
          4,
          4,
          4,
          4,
          4,
          4,
          4,
          4,
          4,
          4,
          4,
          4,
          4,
          4,
          4,
          4,
          4,
          4,
          4,
          3,
          3,
          3,
          3,
          3,
          3,
          3,
          3,
          3,
          3,
          3,
          3,
          3,
          3,
          3,
          3,
          3,
          3,
          3,
          3,
          3,
          3,
          3,
          3,
          3,
          3,
          3,
          3,
          3,
          3,
          3,
          3,
          3,
          3,
          3,
          3,
          3,
          3,
          3,
          3,
          3,
          3,
          3,
          3,
          3,
          3,
          3,
          3,
          3,
          3,
          3,
          3,
          3,
          3,
          3,
          3,
          3,
          3,
          3,
          3,
          3,
          3,
          3,
          3,
          3,
          3,
          3,
          3,
          3,
          3,
          3,
          3,
          3,
          3,
          3,
          3,
          3,
          3,
          3,
          3,
          3,
          3,
          3,
          3,
          3,
          3,
          3,
          3,
          3,
          3,
          3,
          3,
          3,
          3,
          3,
          3,
          3,
          3,
          3,
          3,
          3,
          3,
          3,
          3,
          3,
          3,
          3,
          3,
          3,
          3,
          3,
          3,
          3,
          3,
          3,
          3,
          3,
          3,
          3,
          3,
          3,
          3,
          3,
          3,
          3,
          3,
          2,
          2,
          2,
          2,
          2,
          2,
          2,
          2,
          2,
          2,
          2,
          2,
          2,
          2,
          2,
          2,
          2,
          2,
          2,
          2,
          2,
          2,
          2,
          2,
          2,
          2,
          2,
          2,
          2,
          2,
          2,
          2,
          2,
          2,
          2,
          2,
          2,
          2,
          2,
          2,
          2,
          2,
          2,
          2,
          2,
          2,
          2,
          2,
          2,
          2,
          2,
          2,
          2,
          2,
          2,
          2,
          2,
          2,
          2,
          2,
          2,
          2,
          2,
          2,
          2,
          2,
          2,
          2,
          2,
          2,
          2,
          2,
          2,
          2,
          2,
          2,
          2,
          2,
          2,
          2,
          2,
          2,
          2,
          2,
          2,
          2,
          2,
          2,
          2,
          2,
          2,
          2,
          2,
          2,
          2,
          2,
          2,
          2,
          2,
          2,
          2,
          2,
          2,
          2,
          2,
          2,
          2,
          2,
          2,
          2,
          2,
          2,
          2,
          2,
          2,
          2,
          2,
          2,
          2,
          2,
          2,
          2,
          2,
          2,
          2,
          2,
          2,
          2,
          2,
          2,
          2,
          2,
          2,
          2,
          2,
          2,
          2,
          2,
          2,
          2,
          2,
          2,
          2,
          2,
          2,
          2,
          2,
          2,
          2,
          2,
          2,
          2,
          2,
          2,
          2,
          2,
          2,
          2,
          2,
          2,
          2,
          2,
          2,
          2,
          2,
          2,
          2,
          2,
          2,
          2,
          2,
          2,
          2,
          2,
          2,
          2,
          2,
          2,
          2,
          2,
          2,
          2,
          2,
          2,
          2,
          2,
          2,
          2,
          2,
          2,
          2,
          2,
          2,
          2,
          2,
          2,
          2,
          2,
          2,
          2,
          2,
          2,
          2,
          2,
          2,
          2,
          2,
          2,
          2,
          2,
          2,
          2,
          2,
          2,
          2,
          2,
          2,
          2,
          2,
          2,
          2,
          2,
          2,
          2,
          2,
          2,
          2,
          2,
          2,
          2,
          2,
          2,
          2,
          2,
          2,
          2,
          2,
          2,
          2,
          2,
          2,
          2,
          2,
          2,
          2,
          2,
          2,
          2,
          2,
          2,
          2,
          2,
          2,
          2,
          2,
          2,
          2,
          2,
          2,
          2,
          2,
          2,
          2,
          2,
          2,
          2,
          2,
          2,
          2,
          2,
          2,
          2,
          2,
          2,
          2,
          2,
          2,
          2,
          2,
          2,
          2,
          2,
          2,
          2,
          2,
          2,
          2,
          2,
          2,
          2,
          2,
          2,
          2,
          2,
          2,
          2,
          2,
          2,
          2,
          2,
          2,
          2,
          2,
          2,
          2,
          2,
          2,
          2,
          2,
          2,
          2,
          2,
          2,
          2,
          2,
          2,
          2,
          2,
          2,
          2,
          2,
          2,
          1,
          1,
          1,
          1,
          1,
          1,
          1,
          1,
          1,
          1,
          1,
          1,
          1,
          1,
          1,
          1,
          1,
          1,
          1,
          1,
          1,
          1,
          1,
          1,
          1,
          1,
          1,
          1,
          1,
          1,
          1,
          1,
          1,
          1,
          1,
          1,
          1,
          1,
          1,
          1,
          1,
          1,
          1,
          1,
          1,
          1,
          1,
          1,
          1,
          1,
          1,
          1,
          1,
          1,
          1,
          1,
          1,
          1,
          1,
          1,
          1,
          1,
          1,
          1,
          1,
          1,
          1,
          1,
          1,
          1,
          1,
          1,
          1,
          1,
          1,
          1,
          1,
          1,
          1,
          1,
          1,
          1,
          1,
          1,
          1,
          1,
          1,
          1,
          1,
          1,
          1,
          1,
          1,
          1,
          1,
          1,
          1,
          1,
          1,
          1,
          1,
          1,
          1,
          1,
          1,
          1,
          1,
          1,
          1,
          1,
          1,
          1,
          1,
          1,
          1,
          1,
          1,
          1,
          1,
          1,
          1,
          1,
          1,
          1,
          1,
          1,
          1,
          1,
          1,
          1,
          1,
          1,
          1,
          1,
          1,
          1,
          1,
          1,
          1,
          1,
          1,
          1,
          1,
          1,
          1,
          1,
          1,
          1,
          1,
          1,
          1,
          1,
          1,
          1,
          1,
          1,
          1,
          1,
          1,
          1,
          1,
          1,
          1,
          1,
          1,
          1,
          1,
          1,
          1,
          1,
          1,
          1,
          1,
          1,
          1,
          1,
          1,
          1,
          1,
          1,
          1,
          1,
          1,
          1,
          1,
          1,
          1,
          1,
          1,
          1,
          1,
          1,
          1,
          1,
          1,
          1,
          1,
          1,
          1,
          1,
          1,
          1,
          1,
          1,
          1,
          1,
          1,
          1,
          1,
          1,
          1,
          1,
          1,
          1,
          1,
          1,
          1,
          1,
          1,
          1,
          1,
          1,
          1,
          1,
          1,
          1,
          1,
          1,
          1,
          1,
          1,
          1,
          1,
          1,
          1,
          1,
          1,
          1,
          1,
          1,
          1,
          1,
          1,
          1,
          1,
          1,
          1,
          1,
          1,
          1,
          1,
          1,
          1,
          1,
          1,
          1,
          1,
          1,
          1,
          1,
          1,
          1,
          1,
          1,
          1,
          1,
          1,
          1,
          1,
          1,
          1,
          1,
          1,
          1,
          1,
          1,
          1,
          1,
          1,
          1,
          1,
          1,
          1,
          1,
          1,
          1,
          1,
          1,
          1,
          1,
          1,
          1,
          1,
          1,
          1,
          1,
          1,
          1,
          1,
          1,
          1,
          1,
          1,
          1,
          1,
          1,
          1,
          1,
          1,
          1,
          1,
          1,
          1,
          1,
          1,
          1,
          1,
          1,
          1,
          1,
          1,
          1,
          1,
          1,
          1,
          1,
          1,
          1,
          1,
          1,
          1,
          1,
          1,
          1,
          1,
          1,
          1,
          1,
          1,
          1,
          1,
          1,
          1,
          1,
          1,
          1,
          1,
          1,
          1,
          1,
          1,
          1,
          1,
          1,
          1,
          1,
          1,
          1,
          1,
          1,
          1,
          1,
          1,
          1,
          1,
          1,
          1,
          1,
          1,
          1,
          1,
          1,
          1,
          1,
          1,
          1,
          1,
          1,
          1,
          1,
          1,
          1,
          1,
          1,
          1,
          1,
          1,
          1,
          1,
          1,
          1,
          1,
          1,
          1,
          1,
          1,
          1,
          1,
          1,
          1,
          1,
          1,
          1,
          1,
          1,
          1,
          1,
          1,
          1,
          1,
          1,
          1,
          1,
          1,
          1,
          1,
          1,
          1,
          1,
          1,
          1,
          1,
          1,
          1,
          1,
          1,
          1,
          1,
          1,
          1,
          1,
          1,
          1,
          1,
          1,
          1,
          1,
          1,
          1,
          1,
          1,
          1,
          1,
          1,
          1,
          1,
          1,
          1,
          1,
          1,
          1,
          1,
          1,
          1,
          1,
          1,
          1,
          1,
          1,
          1,
          1,
          1,
          1,
          1,
          1,
          1,
          1,
          1,
          1,
          1,
          1,
          1,
          1,
          1,
          1,
          1,
          1,
          1,
          1,
          1,
          1,
          1,
          1,
          1,
          1,
          1,
          1,
          1,
          1,
          1,
          1,
          1,
          1,
          1,
          1,
          1,
          1,
          1,
          1,
          1,
          1,
          1,
          1,
          1,
          1,
          1,
          1,
          1,
          1,
          1,
          1,
          1,
          1,
          1,
          1,
          1,
          1,
          1,
          1,
          1,
          1,
          1,
          1,
          1,
          1,
          1,
          1,
          1,
          1,
          1,
          1,
          1,
          1,
          1,
          1,
          1,
          1,
          1,
          1,
          1,
          1,
          1,
          1,
          1,
          1,
          1,
          1,
          1,
          1,
          1,
          1,
          1,
          1,
          1,
          1,
          1,
          1,
          1,
          1,
          1,
          1,
          1,
          1,
          1,
          1,
          1,
          1,
          1,
          1,
          1,
          1,
          1,
          1,
          1,
          1,
          1,
          1,
          1,
          1,
          1,
          1,
          1,
          1,
          1,
          1,
          1,
          1,
          1,
          1,
          1,
          1,
          1,
          1,
          1,
          1,
          1,
          1,
          1,
          1,
          1,
          1,
          1,
          1,
          1,
          1,
          1,
          1,
          1,
          1,
          1,
          1,
          1,
          1,
          1,
          1,
          1,
          1,
          1,
          1,
          1,
          1,
          1,
          1,
          1,
          1,
          1,
          1,
          1,
          1,
          1,
          1,
          1,
          1,
          1,
          1,
          1,
          1,
          1,
          1,
          1,
          1,
          1,
          1,
          1,
          1,
          1,
          1,
          1,
          1,
          1,
          1,
          1,
          1,
          1,
          1,
          1,
          1,
          1,
          1,
          1,
          1,
          1,
          1,
          1,
          1,
          1,
          1,
          1,
          1,
          1,
          1,
          1,
          1,
          1,
          1,
          1,
          1,
          1,
          1,
          1,
          1,
          1,
          1,
          1,
          1,
          1,
          1,
          1,
          1,
          1,
          1,
          1,
          1,
          1,
          1,
          1,
          1,
          1,
          1,
          1,
          1,
          1,
          1,
          1,
          1,
          1,
          1,
          1,
          1,
          1,
          1,
          1,
          1,
          1,
          1,
          1,
          1,
          1,
          1,
          1,
          1,
          1,
          1,
          1,
          1,
          1,
          1,
          1,
          1,
          1,
          1,
          1,
          1,
          1,
          1,
          1,
          1,
          1,
          1,
          1,
          1,
          1,
          1,
          1,
          1,
          1,
          1,
          1,
          1,
          1,
          1,
          1,
          1,
          1,
          1,
          1,
          1,
          1,
          1,
          1,
          1,
          1,
          1,
          1,
          1,
          1,
          1,
          1,
          1,
          1,
          1,
          1,
          1,
          1,
          1,
          1,
          1,
          1,
          1,
          1,
          1,
          1,
          1,
          1,
          1,
          1,
          1,
          1,
          1,
          1,
          1,
          1,
          1,
          1,
          1,
          1,
          1,
          1,
          1,
          1,
          1,
          1,
          1,
          1,
          1,
          1,
          1,
          1,
          1,
          1,
          1,
          1,
          1,
          1,
          1,
          1,
          1,
          1,
          1,
          1,
          1,
          1,
          1,
          1,
          1,
          1,
          1,
          1,
          1,
          1,
          1,
          1,
          1,
          1,
          1,
          1,
          1,
          1,
          1,
          1,
          1,
          1,
          1,
          1,
          1,
          1,
          1,
          1,
          1,
          1,
          1,
          1,
          1,
          1,
          1,
          1,
          1,
          1,
          1,
          1,
          1,
          1,
          1,
          1,
          1,
          1,
          1,
          1,
          1,
          1,
          1,
          1,
          1,
          1,
          1,
          1,
          1,
          1,
          1,
          1,
          1,
          1,
          1,
          1,
          1,
          1,
          1,
          1,
          1,
          1,
          1,
          1,
          1,
          1,
          1,
          1,
          1,
          1,
          1,
          1,
          1,
          1,
          1,
          1,
          1,
          1,
          1,
          1,
          1,
          1,
          1,
          1,
          1,
          1,
          1,
          1,
          1,
          1,
          1,
          1,
          1,
          1,
          1,
          1,
          1,
          1,
          1,
          1,
          1,
          1,
          1,
          1,
          1,
          1,
          1,
          1,
          1,
          1,
          1,
          1,
          1,
          1,
          1,
          1,
          1,
          1,
          1,
          1,
          1,
          1,
          1,
          1,
          1,
          1,
          1,
          1,
          1,
          1,
          1,
          1,
          1,
          1,
          1,
          1,
          1,
          1,
          1,
          1,
          1,
          1,
          1,
          1,
          1,
          1,
          1,
          1,
          1,
          1,
          1,
          1,
          1,
          1,
          1,
          1,
          1,
          1,
          1,
          1,
          1,
          1,
          1,
          1,
          1,
          1,
          1,
          1,
          1,
          1,
          1,
          1,
          1,
          1,
          1,
          1,
          1,
          1,
          1,
          1,
          1,
          1,
          1,
          1,
          1,
          1,
          1,
          1,
          1,
          1,
          1,
          1,
          1,
          1,
          1,
          1,
          1,
          1,
          1,
          1,
          1,
          1,
          1,
          1,
          1,
          1,
          1,
          1,
          1,
          1,
          1,
          1,
          1,
          1,
          1,
          1,
          1,
          1,
          1,
          1,
          1,
          1,
          1,
          1,
          1,
          1,
          1,
          1,
          1,
          1,
          1,
          1,
          1,
          1,
          1,
          1,
          1,
          1,
          1,
          1,
          1,
          1,
          1,
          1,
          1,
          1,
          1,
          1,
          1,
          1,
          1,
          1,
          1,
          1,
          1,
          1,
          1,
          1,
          1,
          1,
          1,
          1,
          1,
          1,
          1,
          1,
          1,
          1,
          1,
          1,
          1,
          1,
          1,
          1,
          1,
          1,
          1,
          1,
          1,
          1,
          1,
          1,
          1,
          1,
          1,
          1,
          1,
          1,
          1,
          1,
          1,
          1,
          1,
          1,
          1,
          1,
          1,
          1,
          1,
          1,
          1,
          1,
          1,
          1,
          1,
          1,
          1,
          1,
          1,
          1,
          1,
          1,
          1,
          1,
          1,
          1,
          1,
          1,
          1,
          1,
          1,
          1,
          1,
          1,
          1,
          1,
          1,
          1,
          1,
          1,
          1,
          1,
          1,
          1,
          1,
          1,
          1,
          1,
          1,
          1,
          1,
          1,
          1,
          1,
          1,
          1,
          1,
          1,
          1,
          1,
          1,
          1,
          1,
          1,
          1,
          1,
          1,
          1,
          1,
          1,
          1,
          1,
          1,
          1,
          1,
          1,
          1,
          1,
          1,
          1,
          1,
          1,
          1,
          1,
          1,
          1,
          1,
          1,
          1,
          1,
          1,
          1,
          1,
          1,
          1,
          1,
          1,
          1,
          1,
          1,
          1,
          1,
          1,
          1,
          1,
          1,
          1,
          1,
          1,
          1,
          1,
          1,
          1,
          1,
          1,
          1,
          1,
          1,
          1,
          1,
          1,
          1,
          1,
          1,
          1,
          1,
          1,
          1,
          1,
          1,
          1,
          1,
          1,
          1,
          1,
          1,
          1,
          1,
          1,
          1,
          1,
          1,
          1,
          1,
          1,
          1,
          1,
          1,
          1,
          1,
          1,
          1,
          1,
          1,
          1,
          1,
          1,
          1,
          1,
          1
         ]
        }
       ],
       "layout": {
        "template": {
         "data": {
          "bar": [
           {
            "error_x": {
             "color": "#2a3f5f"
            },
            "error_y": {
             "color": "#2a3f5f"
            },
            "marker": {
             "line": {
              "color": "#E5ECF6",
              "width": 0.5
             },
             "pattern": {
              "fillmode": "overlay",
              "size": 10,
              "solidity": 0.2
             }
            },
            "type": "bar"
           }
          ],
          "barpolar": [
           {
            "marker": {
             "line": {
              "color": "#E5ECF6",
              "width": 0.5
             },
             "pattern": {
              "fillmode": "overlay",
              "size": 10,
              "solidity": 0.2
             }
            },
            "type": "barpolar"
           }
          ],
          "carpet": [
           {
            "aaxis": {
             "endlinecolor": "#2a3f5f",
             "gridcolor": "white",
             "linecolor": "white",
             "minorgridcolor": "white",
             "startlinecolor": "#2a3f5f"
            },
            "baxis": {
             "endlinecolor": "#2a3f5f",
             "gridcolor": "white",
             "linecolor": "white",
             "minorgridcolor": "white",
             "startlinecolor": "#2a3f5f"
            },
            "type": "carpet"
           }
          ],
          "choropleth": [
           {
            "colorbar": {
             "outlinewidth": 0,
             "ticks": ""
            },
            "type": "choropleth"
           }
          ],
          "contour": [
           {
            "colorbar": {
             "outlinewidth": 0,
             "ticks": ""
            },
            "colorscale": [
             [
              0,
              "#0d0887"
             ],
             [
              0.1111111111111111,
              "#46039f"
             ],
             [
              0.2222222222222222,
              "#7201a8"
             ],
             [
              0.3333333333333333,
              "#9c179e"
             ],
             [
              0.4444444444444444,
              "#bd3786"
             ],
             [
              0.5555555555555556,
              "#d8576b"
             ],
             [
              0.6666666666666666,
              "#ed7953"
             ],
             [
              0.7777777777777778,
              "#fb9f3a"
             ],
             [
              0.8888888888888888,
              "#fdca26"
             ],
             [
              1,
              "#f0f921"
             ]
            ],
            "type": "contour"
           }
          ],
          "contourcarpet": [
           {
            "colorbar": {
             "outlinewidth": 0,
             "ticks": ""
            },
            "type": "contourcarpet"
           }
          ],
          "heatmap": [
           {
            "colorbar": {
             "outlinewidth": 0,
             "ticks": ""
            },
            "colorscale": [
             [
              0,
              "#0d0887"
             ],
             [
              0.1111111111111111,
              "#46039f"
             ],
             [
              0.2222222222222222,
              "#7201a8"
             ],
             [
              0.3333333333333333,
              "#9c179e"
             ],
             [
              0.4444444444444444,
              "#bd3786"
             ],
             [
              0.5555555555555556,
              "#d8576b"
             ],
             [
              0.6666666666666666,
              "#ed7953"
             ],
             [
              0.7777777777777778,
              "#fb9f3a"
             ],
             [
              0.8888888888888888,
              "#fdca26"
             ],
             [
              1,
              "#f0f921"
             ]
            ],
            "type": "heatmap"
           }
          ],
          "histogram": [
           {
            "marker": {
             "pattern": {
              "fillmode": "overlay",
              "size": 10,
              "solidity": 0.2
             }
            },
            "type": "histogram"
           }
          ],
          "histogram2d": [
           {
            "colorbar": {
             "outlinewidth": 0,
             "ticks": ""
            },
            "colorscale": [
             [
              0,
              "#0d0887"
             ],
             [
              0.1111111111111111,
              "#46039f"
             ],
             [
              0.2222222222222222,
              "#7201a8"
             ],
             [
              0.3333333333333333,
              "#9c179e"
             ],
             [
              0.4444444444444444,
              "#bd3786"
             ],
             [
              0.5555555555555556,
              "#d8576b"
             ],
             [
              0.6666666666666666,
              "#ed7953"
             ],
             [
              0.7777777777777778,
              "#fb9f3a"
             ],
             [
              0.8888888888888888,
              "#fdca26"
             ],
             [
              1,
              "#f0f921"
             ]
            ],
            "type": "histogram2d"
           }
          ],
          "histogram2dcontour": [
           {
            "colorbar": {
             "outlinewidth": 0,
             "ticks": ""
            },
            "colorscale": [
             [
              0,
              "#0d0887"
             ],
             [
              0.1111111111111111,
              "#46039f"
             ],
             [
              0.2222222222222222,
              "#7201a8"
             ],
             [
              0.3333333333333333,
              "#9c179e"
             ],
             [
              0.4444444444444444,
              "#bd3786"
             ],
             [
              0.5555555555555556,
              "#d8576b"
             ],
             [
              0.6666666666666666,
              "#ed7953"
             ],
             [
              0.7777777777777778,
              "#fb9f3a"
             ],
             [
              0.8888888888888888,
              "#fdca26"
             ],
             [
              1,
              "#f0f921"
             ]
            ],
            "type": "histogram2dcontour"
           }
          ],
          "mesh3d": [
           {
            "colorbar": {
             "outlinewidth": 0,
             "ticks": ""
            },
            "type": "mesh3d"
           }
          ],
          "parcoords": [
           {
            "line": {
             "colorbar": {
              "outlinewidth": 0,
              "ticks": ""
             }
            },
            "type": "parcoords"
           }
          ],
          "pie": [
           {
            "automargin": true,
            "type": "pie"
           }
          ],
          "scatter": [
           {
            "fillpattern": {
             "fillmode": "overlay",
             "size": 10,
             "solidity": 0.2
            },
            "type": "scatter"
           }
          ],
          "scatter3d": [
           {
            "line": {
             "colorbar": {
              "outlinewidth": 0,
              "ticks": ""
             }
            },
            "marker": {
             "colorbar": {
              "outlinewidth": 0,
              "ticks": ""
             }
            },
            "type": "scatter3d"
           }
          ],
          "scattercarpet": [
           {
            "marker": {
             "colorbar": {
              "outlinewidth": 0,
              "ticks": ""
             }
            },
            "type": "scattercarpet"
           }
          ],
          "scattergeo": [
           {
            "marker": {
             "colorbar": {
              "outlinewidth": 0,
              "ticks": ""
             }
            },
            "type": "scattergeo"
           }
          ],
          "scattergl": [
           {
            "marker": {
             "colorbar": {
              "outlinewidth": 0,
              "ticks": ""
             }
            },
            "type": "scattergl"
           }
          ],
          "scattermap": [
           {
            "marker": {
             "colorbar": {
              "outlinewidth": 0,
              "ticks": ""
             }
            },
            "type": "scattermap"
           }
          ],
          "scattermapbox": [
           {
            "marker": {
             "colorbar": {
              "outlinewidth": 0,
              "ticks": ""
             }
            },
            "type": "scattermapbox"
           }
          ],
          "scatterpolar": [
           {
            "marker": {
             "colorbar": {
              "outlinewidth": 0,
              "ticks": ""
             }
            },
            "type": "scatterpolar"
           }
          ],
          "scatterpolargl": [
           {
            "marker": {
             "colorbar": {
              "outlinewidth": 0,
              "ticks": ""
             }
            },
            "type": "scatterpolargl"
           }
          ],
          "scatterternary": [
           {
            "marker": {
             "colorbar": {
              "outlinewidth": 0,
              "ticks": ""
             }
            },
            "type": "scatterternary"
           }
          ],
          "surface": [
           {
            "colorbar": {
             "outlinewidth": 0,
             "ticks": ""
            },
            "colorscale": [
             [
              0,
              "#0d0887"
             ],
             [
              0.1111111111111111,
              "#46039f"
             ],
             [
              0.2222222222222222,
              "#7201a8"
             ],
             [
              0.3333333333333333,
              "#9c179e"
             ],
             [
              0.4444444444444444,
              "#bd3786"
             ],
             [
              0.5555555555555556,
              "#d8576b"
             ],
             [
              0.6666666666666666,
              "#ed7953"
             ],
             [
              0.7777777777777778,
              "#fb9f3a"
             ],
             [
              0.8888888888888888,
              "#fdca26"
             ],
             [
              1,
              "#f0f921"
             ]
            ],
            "type": "surface"
           }
          ],
          "table": [
           {
            "cells": {
             "fill": {
              "color": "#EBF0F8"
             },
             "line": {
              "color": "white"
             }
            },
            "header": {
             "fill": {
              "color": "#C8D4E3"
             },
             "line": {
              "color": "white"
             }
            },
            "type": "table"
           }
          ]
         },
         "layout": {
          "annotationdefaults": {
           "arrowcolor": "#2a3f5f",
           "arrowhead": 0,
           "arrowwidth": 1
          },
          "autotypenumbers": "strict",
          "coloraxis": {
           "colorbar": {
            "outlinewidth": 0,
            "ticks": ""
           }
          },
          "colorscale": {
           "diverging": [
            [
             0,
             "#8e0152"
            ],
            [
             0.1,
             "#c51b7d"
            ],
            [
             0.2,
             "#de77ae"
            ],
            [
             0.3,
             "#f1b6da"
            ],
            [
             0.4,
             "#fde0ef"
            ],
            [
             0.5,
             "#f7f7f7"
            ],
            [
             0.6,
             "#e6f5d0"
            ],
            [
             0.7,
             "#b8e186"
            ],
            [
             0.8,
             "#7fbc41"
            ],
            [
             0.9,
             "#4d9221"
            ],
            [
             1,
             "#276419"
            ]
           ],
           "sequential": [
            [
             0,
             "#0d0887"
            ],
            [
             0.1111111111111111,
             "#46039f"
            ],
            [
             0.2222222222222222,
             "#7201a8"
            ],
            [
             0.3333333333333333,
             "#9c179e"
            ],
            [
             0.4444444444444444,
             "#bd3786"
            ],
            [
             0.5555555555555556,
             "#d8576b"
            ],
            [
             0.6666666666666666,
             "#ed7953"
            ],
            [
             0.7777777777777778,
             "#fb9f3a"
            ],
            [
             0.8888888888888888,
             "#fdca26"
            ],
            [
             1,
             "#f0f921"
            ]
           ],
           "sequentialminus": [
            [
             0,
             "#0d0887"
            ],
            [
             0.1111111111111111,
             "#46039f"
            ],
            [
             0.2222222222222222,
             "#7201a8"
            ],
            [
             0.3333333333333333,
             "#9c179e"
            ],
            [
             0.4444444444444444,
             "#bd3786"
            ],
            [
             0.5555555555555556,
             "#d8576b"
            ],
            [
             0.6666666666666666,
             "#ed7953"
            ],
            [
             0.7777777777777778,
             "#fb9f3a"
            ],
            [
             0.8888888888888888,
             "#fdca26"
            ],
            [
             1,
             "#f0f921"
            ]
           ]
          },
          "colorway": [
           "#636efa",
           "#EF553B",
           "#00cc96",
           "#ab63fa",
           "#FFA15A",
           "#19d3f3",
           "#FF6692",
           "#B6E880",
           "#FF97FF",
           "#FECB52"
          ],
          "font": {
           "color": "#2a3f5f"
          },
          "geo": {
           "bgcolor": "white",
           "lakecolor": "white",
           "landcolor": "#E5ECF6",
           "showlakes": true,
           "showland": true,
           "subunitcolor": "white"
          },
          "hoverlabel": {
           "align": "left"
          },
          "hovermode": "closest",
          "mapbox": {
           "style": "light"
          },
          "paper_bgcolor": "white",
          "plot_bgcolor": "#E5ECF6",
          "polar": {
           "angularaxis": {
            "gridcolor": "white",
            "linecolor": "white",
            "ticks": ""
           },
           "bgcolor": "#E5ECF6",
           "radialaxis": {
            "gridcolor": "white",
            "linecolor": "white",
            "ticks": ""
           }
          },
          "scene": {
           "xaxis": {
            "backgroundcolor": "#E5ECF6",
            "gridcolor": "white",
            "gridwidth": 2,
            "linecolor": "white",
            "showbackground": true,
            "ticks": "",
            "zerolinecolor": "white"
           },
           "yaxis": {
            "backgroundcolor": "#E5ECF6",
            "gridcolor": "white",
            "gridwidth": 2,
            "linecolor": "white",
            "showbackground": true,
            "ticks": "",
            "zerolinecolor": "white"
           },
           "zaxis": {
            "backgroundcolor": "#E5ECF6",
            "gridcolor": "white",
            "gridwidth": 2,
            "linecolor": "white",
            "showbackground": true,
            "ticks": "",
            "zerolinecolor": "white"
           }
          },
          "shapedefaults": {
           "line": {
            "color": "#2a3f5f"
           }
          },
          "ternary": {
           "aaxis": {
            "gridcolor": "white",
            "linecolor": "white",
            "ticks": ""
           },
           "baxis": {
            "gridcolor": "white",
            "linecolor": "white",
            "ticks": ""
           },
           "bgcolor": "#E5ECF6",
           "caxis": {
            "gridcolor": "white",
            "linecolor": "white",
            "ticks": ""
           }
          },
          "title": {
           "x": 0.05
          },
          "xaxis": {
           "automargin": true,
           "gridcolor": "white",
           "linecolor": "white",
           "ticks": "",
           "title": {
            "standoff": 15
           },
           "zerolinecolor": "white",
           "zerolinewidth": 2
          },
          "yaxis": {
           "automargin": true,
           "gridcolor": "white",
           "linecolor": "white",
           "ticks": "",
           "title": {
            "standoff": 15
           },
           "zerolinecolor": "white",
           "zerolinewidth": 2
          }
         }
        },
        "yaxis": {
         "title": {
          "text": "frequency"
         }
        }
       }
      }
     },
     "metadata": {},
     "output_type": "display_data"
    },
    {
     "data": {
      "application/vnd.plotly.v1+json": {
       "config": {
        "plotlyServerURL": "https://plot.ly"
       },
       "data": [
        {
         "hoverinfo": "label+value",
         "labels": [
          "market",
          "like",
          "stock",
          "price",
          "US",
          "futures",
          "China",
          "want",
          "see",
          "company",
          "even",
          "people",
          "Trump",
          "one",
          "money",
          "think",
          "going",
          "year",
          "today",
          "years"
         ],
         "marker": {
          "line": {
           "color": "black",
           "width": 0.5
          }
         },
         "textfont": {
          "size": 14
         },
         "textinfo": "percent",
         "type": "pie",
         "values": [
          63,
          45,
          33,
          29,
          28,
          24,
          22,
          22,
          21,
          21,
          20,
          20,
          20,
          20,
          19,
          18,
          17,
          16,
          16,
          15
         ]
        }
       ],
       "layout": {
        "template": {
         "data": {
          "bar": [
           {
            "error_x": {
             "color": "#2a3f5f"
            },
            "error_y": {
             "color": "#2a3f5f"
            },
            "marker": {
             "line": {
              "color": "#E5ECF6",
              "width": 0.5
             },
             "pattern": {
              "fillmode": "overlay",
              "size": 10,
              "solidity": 0.2
             }
            },
            "type": "bar"
           }
          ],
          "barpolar": [
           {
            "marker": {
             "line": {
              "color": "#E5ECF6",
              "width": 0.5
             },
             "pattern": {
              "fillmode": "overlay",
              "size": 10,
              "solidity": 0.2
             }
            },
            "type": "barpolar"
           }
          ],
          "carpet": [
           {
            "aaxis": {
             "endlinecolor": "#2a3f5f",
             "gridcolor": "white",
             "linecolor": "white",
             "minorgridcolor": "white",
             "startlinecolor": "#2a3f5f"
            },
            "baxis": {
             "endlinecolor": "#2a3f5f",
             "gridcolor": "white",
             "linecolor": "white",
             "minorgridcolor": "white",
             "startlinecolor": "#2a3f5f"
            },
            "type": "carpet"
           }
          ],
          "choropleth": [
           {
            "colorbar": {
             "outlinewidth": 0,
             "ticks": ""
            },
            "type": "choropleth"
           }
          ],
          "contour": [
           {
            "colorbar": {
             "outlinewidth": 0,
             "ticks": ""
            },
            "colorscale": [
             [
              0,
              "#0d0887"
             ],
             [
              0.1111111111111111,
              "#46039f"
             ],
             [
              0.2222222222222222,
              "#7201a8"
             ],
             [
              0.3333333333333333,
              "#9c179e"
             ],
             [
              0.4444444444444444,
              "#bd3786"
             ],
             [
              0.5555555555555556,
              "#d8576b"
             ],
             [
              0.6666666666666666,
              "#ed7953"
             ],
             [
              0.7777777777777778,
              "#fb9f3a"
             ],
             [
              0.8888888888888888,
              "#fdca26"
             ],
             [
              1,
              "#f0f921"
             ]
            ],
            "type": "contour"
           }
          ],
          "contourcarpet": [
           {
            "colorbar": {
             "outlinewidth": 0,
             "ticks": ""
            },
            "type": "contourcarpet"
           }
          ],
          "heatmap": [
           {
            "colorbar": {
             "outlinewidth": 0,
             "ticks": ""
            },
            "colorscale": [
             [
              0,
              "#0d0887"
             ],
             [
              0.1111111111111111,
              "#46039f"
             ],
             [
              0.2222222222222222,
              "#7201a8"
             ],
             [
              0.3333333333333333,
              "#9c179e"
             ],
             [
              0.4444444444444444,
              "#bd3786"
             ],
             [
              0.5555555555555556,
              "#d8576b"
             ],
             [
              0.6666666666666666,
              "#ed7953"
             ],
             [
              0.7777777777777778,
              "#fb9f3a"
             ],
             [
              0.8888888888888888,
              "#fdca26"
             ],
             [
              1,
              "#f0f921"
             ]
            ],
            "type": "heatmap"
           }
          ],
          "histogram": [
           {
            "marker": {
             "pattern": {
              "fillmode": "overlay",
              "size": 10,
              "solidity": 0.2
             }
            },
            "type": "histogram"
           }
          ],
          "histogram2d": [
           {
            "colorbar": {
             "outlinewidth": 0,
             "ticks": ""
            },
            "colorscale": [
             [
              0,
              "#0d0887"
             ],
             [
              0.1111111111111111,
              "#46039f"
             ],
             [
              0.2222222222222222,
              "#7201a8"
             ],
             [
              0.3333333333333333,
              "#9c179e"
             ],
             [
              0.4444444444444444,
              "#bd3786"
             ],
             [
              0.5555555555555556,
              "#d8576b"
             ],
             [
              0.6666666666666666,
              "#ed7953"
             ],
             [
              0.7777777777777778,
              "#fb9f3a"
             ],
             [
              0.8888888888888888,
              "#fdca26"
             ],
             [
              1,
              "#f0f921"
             ]
            ],
            "type": "histogram2d"
           }
          ],
          "histogram2dcontour": [
           {
            "colorbar": {
             "outlinewidth": 0,
             "ticks": ""
            },
            "colorscale": [
             [
              0,
              "#0d0887"
             ],
             [
              0.1111111111111111,
              "#46039f"
             ],
             [
              0.2222222222222222,
              "#7201a8"
             ],
             [
              0.3333333333333333,
              "#9c179e"
             ],
             [
              0.4444444444444444,
              "#bd3786"
             ],
             [
              0.5555555555555556,
              "#d8576b"
             ],
             [
              0.6666666666666666,
              "#ed7953"
             ],
             [
              0.7777777777777778,
              "#fb9f3a"
             ],
             [
              0.8888888888888888,
              "#fdca26"
             ],
             [
              1,
              "#f0f921"
             ]
            ],
            "type": "histogram2dcontour"
           }
          ],
          "mesh3d": [
           {
            "colorbar": {
             "outlinewidth": 0,
             "ticks": ""
            },
            "type": "mesh3d"
           }
          ],
          "parcoords": [
           {
            "line": {
             "colorbar": {
              "outlinewidth": 0,
              "ticks": ""
             }
            },
            "type": "parcoords"
           }
          ],
          "pie": [
           {
            "automargin": true,
            "type": "pie"
           }
          ],
          "scatter": [
           {
            "fillpattern": {
             "fillmode": "overlay",
             "size": 10,
             "solidity": 0.2
            },
            "type": "scatter"
           }
          ],
          "scatter3d": [
           {
            "line": {
             "colorbar": {
              "outlinewidth": 0,
              "ticks": ""
             }
            },
            "marker": {
             "colorbar": {
              "outlinewidth": 0,
              "ticks": ""
             }
            },
            "type": "scatter3d"
           }
          ],
          "scattercarpet": [
           {
            "marker": {
             "colorbar": {
              "outlinewidth": 0,
              "ticks": ""
             }
            },
            "type": "scattercarpet"
           }
          ],
          "scattergeo": [
           {
            "marker": {
             "colorbar": {
              "outlinewidth": 0,
              "ticks": ""
             }
            },
            "type": "scattergeo"
           }
          ],
          "scattergl": [
           {
            "marker": {
             "colorbar": {
              "outlinewidth": 0,
              "ticks": ""
             }
            },
            "type": "scattergl"
           }
          ],
          "scattermap": [
           {
            "marker": {
             "colorbar": {
              "outlinewidth": 0,
              "ticks": ""
             }
            },
            "type": "scattermap"
           }
          ],
          "scattermapbox": [
           {
            "marker": {
             "colorbar": {
              "outlinewidth": 0,
              "ticks": ""
             }
            },
            "type": "scattermapbox"
           }
          ],
          "scatterpolar": [
           {
            "marker": {
             "colorbar": {
              "outlinewidth": 0,
              "ticks": ""
             }
            },
            "type": "scatterpolar"
           }
          ],
          "scatterpolargl": [
           {
            "marker": {
             "colorbar": {
              "outlinewidth": 0,
              "ticks": ""
             }
            },
            "type": "scatterpolargl"
           }
          ],
          "scatterternary": [
           {
            "marker": {
             "colorbar": {
              "outlinewidth": 0,
              "ticks": ""
             }
            },
            "type": "scatterternary"
           }
          ],
          "surface": [
           {
            "colorbar": {
             "outlinewidth": 0,
             "ticks": ""
            },
            "colorscale": [
             [
              0,
              "#0d0887"
             ],
             [
              0.1111111111111111,
              "#46039f"
             ],
             [
              0.2222222222222222,
              "#7201a8"
             ],
             [
              0.3333333333333333,
              "#9c179e"
             ],
             [
              0.4444444444444444,
              "#bd3786"
             ],
             [
              0.5555555555555556,
              "#d8576b"
             ],
             [
              0.6666666666666666,
              "#ed7953"
             ],
             [
              0.7777777777777778,
              "#fb9f3a"
             ],
             [
              0.8888888888888888,
              "#fdca26"
             ],
             [
              1,
              "#f0f921"
             ]
            ],
            "type": "surface"
           }
          ],
          "table": [
           {
            "cells": {
             "fill": {
              "color": "#EBF0F8"
             },
             "line": {
              "color": "white"
             }
            },
            "header": {
             "fill": {
              "color": "#C8D4E3"
             },
             "line": {
              "color": "white"
             }
            },
            "type": "table"
           }
          ]
         },
         "layout": {
          "annotationdefaults": {
           "arrowcolor": "#2a3f5f",
           "arrowhead": 0,
           "arrowwidth": 1
          },
          "autotypenumbers": "strict",
          "coloraxis": {
           "colorbar": {
            "outlinewidth": 0,
            "ticks": ""
           }
          },
          "colorscale": {
           "diverging": [
            [
             0,
             "#8e0152"
            ],
            [
             0.1,
             "#c51b7d"
            ],
            [
             0.2,
             "#de77ae"
            ],
            [
             0.3,
             "#f1b6da"
            ],
            [
             0.4,
             "#fde0ef"
            ],
            [
             0.5,
             "#f7f7f7"
            ],
            [
             0.6,
             "#e6f5d0"
            ],
            [
             0.7,
             "#b8e186"
            ],
            [
             0.8,
             "#7fbc41"
            ],
            [
             0.9,
             "#4d9221"
            ],
            [
             1,
             "#276419"
            ]
           ],
           "sequential": [
            [
             0,
             "#0d0887"
            ],
            [
             0.1111111111111111,
             "#46039f"
            ],
            [
             0.2222222222222222,
             "#7201a8"
            ],
            [
             0.3333333333333333,
             "#9c179e"
            ],
            [
             0.4444444444444444,
             "#bd3786"
            ],
            [
             0.5555555555555556,
             "#d8576b"
            ],
            [
             0.6666666666666666,
             "#ed7953"
            ],
            [
             0.7777777777777778,
             "#fb9f3a"
            ],
            [
             0.8888888888888888,
             "#fdca26"
            ],
            [
             1,
             "#f0f921"
            ]
           ],
           "sequentialminus": [
            [
             0,
             "#0d0887"
            ],
            [
             0.1111111111111111,
             "#46039f"
            ],
            [
             0.2222222222222222,
             "#7201a8"
            ],
            [
             0.3333333333333333,
             "#9c179e"
            ],
            [
             0.4444444444444444,
             "#bd3786"
            ],
            [
             0.5555555555555556,
             "#d8576b"
            ],
            [
             0.6666666666666666,
             "#ed7953"
            ],
            [
             0.7777777777777778,
             "#fb9f3a"
            ],
            [
             0.8888888888888888,
             "#fdca26"
            ],
            [
             1,
             "#f0f921"
            ]
           ]
          },
          "colorway": [
           "#636efa",
           "#EF553B",
           "#00cc96",
           "#ab63fa",
           "#FFA15A",
           "#19d3f3",
           "#FF6692",
           "#B6E880",
           "#FF97FF",
           "#FECB52"
          ],
          "font": {
           "color": "#2a3f5f"
          },
          "geo": {
           "bgcolor": "white",
           "lakecolor": "white",
           "landcolor": "#E5ECF6",
           "showlakes": true,
           "showland": true,
           "subunitcolor": "white"
          },
          "hoverlabel": {
           "align": "left"
          },
          "hovermode": "closest",
          "mapbox": {
           "style": "light"
          },
          "paper_bgcolor": "white",
          "plot_bgcolor": "#E5ECF6",
          "polar": {
           "angularaxis": {
            "gridcolor": "white",
            "linecolor": "white",
            "ticks": ""
           },
           "bgcolor": "#E5ECF6",
           "radialaxis": {
            "gridcolor": "white",
            "linecolor": "white",
            "ticks": ""
           }
          },
          "scene": {
           "xaxis": {
            "backgroundcolor": "#E5ECF6",
            "gridcolor": "white",
            "gridwidth": 2,
            "linecolor": "white",
            "showbackground": true,
            "ticks": "",
            "zerolinecolor": "white"
           },
           "yaxis": {
            "backgroundcolor": "#E5ECF6",
            "gridcolor": "white",
            "gridwidth": 2,
            "linecolor": "white",
            "showbackground": true,
            "ticks": "",
            "zerolinecolor": "white"
           },
           "zaxis": {
            "backgroundcolor": "#E5ECF6",
            "gridcolor": "white",
            "gridwidth": 2,
            "linecolor": "white",
            "showbackground": true,
            "ticks": "",
            "zerolinecolor": "white"
           }
          },
          "shapedefaults": {
           "line": {
            "color": "#2a3f5f"
           }
          },
          "ternary": {
           "aaxis": {
            "gridcolor": "white",
            "linecolor": "white",
            "ticks": ""
           },
           "baxis": {
            "gridcolor": "white",
            "linecolor": "white",
            "ticks": ""
           },
           "bgcolor": "#E5ECF6",
           "caxis": {
            "gridcolor": "white",
            "linecolor": "white",
            "ticks": ""
           }
          },
          "title": {
           "x": 0.05
          },
          "xaxis": {
           "automargin": true,
           "gridcolor": "white",
           "linecolor": "white",
           "ticks": "",
           "title": {
            "standoff": 15
           },
           "zerolinecolor": "white",
           "zerolinewidth": 2
          },
          "yaxis": {
           "automargin": true,
           "gridcolor": "white",
           "linecolor": "white",
           "ticks": "",
           "title": {
            "standoff": 15
           },
           "zerolinecolor": "white",
           "zerolinewidth": 2
          }
         }
        },
        "width": 700
       }
      }
     },
     "metadata": {},
     "output_type": "display_data"
    }
   ],
   "source": [
    "# Analysis attempt on the neutral words\n",
    "neu_frequency = pd.Series(neu).value_counts()\n",
    "linefig = go.Figure(go.Bar(x=neu_frequency.index,\n",
    "                           y=neu_frequency.to_list(),\n",
    "                           width=0.8,\n",
    "                           marker=dict(color='gold')))\n",
    "\n",
    "linefig.update_layout(yaxis_title='frequency')\n",
    "linefig.show()\n",
    "\n",
    "# Top 20 words appeared in the neutral data\n",
    "piefig = go.Figure(go.Pie(values=neu_frequency[:20].to_list(),\n",
    "                          labels=neu_frequency[:20].index))\n",
    "\n",
    "piefig.update_layout(width=700)\n",
    "piefig.update_traces(hoverinfo='label+value', textinfo='percent', textfont_size=14,\n",
    "                     marker=dict(line=dict(color='black', width=0.5)))\n",
    "piefig.show()\n"
   ]
  },
  {
   "cell_type": "markdown",
   "metadata": {},
   "source": [
    "# Phase 2"
   ]
  },
  {
   "cell_type": "code",
   "execution_count": null,
   "metadata": {},
   "outputs": [],
   "source": [
    "### Begin Assignment Here"
   ]
  }
 ],
 "metadata": {
  "kernelspec": {
   "display_name": "Python (dm2025lab)",
   "language": "python",
   "name": "dm2025lab"
  },
  "language_info": {
   "codemirror_mode": {
    "name": "ipython",
    "version": 3
   },
   "file_extension": ".py",
   "mimetype": "text/x-python",
   "name": "python",
   "nbconvert_exporter": "python",
   "pygments_lexer": "ipython3",
   "version": "3.11.0"
  }
 },
 "nbformat": 4,
 "nbformat_minor": 4
}
